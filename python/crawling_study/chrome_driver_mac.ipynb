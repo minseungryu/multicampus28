{
 "cells": [
  {
   "cell_type": "markdown",
   "id": "7faedcc6-39a3-4a2a-a333-d7360745cdf5",
   "metadata": {},
   "source": [
    "# 크롬드라이버 설정 방법 - Mac (2023 Aug)"
   ]
  },
  {
   "cell_type": "markdown",
   "id": "28d8a1f4-0d96-4c05-9b59-aa0d855c60eb",
   "metadata": {},
   "source": [
    "## 개요\n",
    "- `selenium 4.10` 버전에서 크롬드라이버 설정"
   ]
  },
  {
   "cell_type": "markdown",
   "id": "5de3ae79-98d9-4fe0-aaaa-a031165254c5",
   "metadata": {},
   "source": [
    "## selenium 버전 확인\n",
    "- 먼저 selenium 버전은 아래와 같다.\n",
    "- 설치 방법\n",
    "```python\n",
    "pip install selenium\n",
    "\n",
    "```"
   ]
  },
  {
   "cell_type": "code",
   "execution_count": 1,
   "id": "947e21e2-1da9-4ac1-9f57-42eb066d25f3",
   "metadata": {},
   "outputs": [
    {
     "name": "stdout",
     "output_type": "stream",
     "text": [
      "4.11.0\n"
     ]
    }
   ],
   "source": [
    "import selenium\n",
    "print(selenium.__version__)"
   ]
  },
  {
   "cell_type": "markdown",
   "id": "a185153c-d213-491e-800a-ce9ed243146d",
   "metadata": {},
   "source": [
    "## 크롬드라이버 수동 설정\n",
    "- 특별한 경로에 chromedriver.exe 파일을 설치한다. (경로 기억, 주의)"
   ]
  },
  {
   "cell_type": "code",
   "execution_count": 2,
   "id": "6bb02301-9fc4-41a7-8bb2-09c5f40925d8",
   "metadata": {},
   "outputs": [
    {
     "name": "stdout",
     "output_type": "stream",
     "text": [
      "driver/\n",
      "    chromedriver\n",
      "    LICENSE.chromedriver\n",
      "    .ipynb_checkpoints/\n",
      "        LICENSE-checkpoint.chromedriver\n"
     ]
    }
   ],
   "source": [
    "import os\n",
    "\n",
    "def list_files(startpath):\n",
    "    for root, dirs, files in os.walk(startpath):\n",
    "        level = root.replace(startpath, '').count(os.sep)\n",
    "        indent = ' ' * 4 * (level)\n",
    "        print('{}{}/'.format(indent, os.path.basename(root)))\n",
    "        subindent = ' ' * 4 * (level + 1)\n",
    "        for f in files:\n",
    "            print('{}{}'.format(subindent, f))\n",
    "\n",
    "list_files(\"driver\")"
   ]
  },
  {
   "cell_type": "markdown",
   "id": "237b4869-736c-494d-abdd-53859e48bffd",
   "metadata": {},
   "source": [
    "## 📍주의 : 셀레늄 버전 확인\n",
    "- 셀레늄 버전이 4.3이후로 완전히 바뀌었음\n",
    "- 문법(메서드)도 많이 바뀜 > 게시글은 2023년 이후 것만 구글링으로 확인\n",
    "\n",
    "- 이 방식은 하나의 치명적인 단점이 존재한다. 위의 코드는 매우 잘 작동하지만 Chrome이 새 버전으로 업그레이드될 때마다 ChromeDriver를 다시 다운로드해야 한다.\n",
    "- 매우 불편하다. "
   ]
  },
  {
   "cell_type": "raw",
   "id": "2d394497-9295-45e0-bc3d-e97ca0307b88",
   "metadata": {},
   "source": [
    "from selenium import webdriver\n",
    "from selenium.webdriver.chrome.service import Service as ChromeService\n",
    "from webdriver_manager.chrome import ChromeDriverManager\n",
    "\n",
    "driver = webdriver.Chrome(service=ChromeService(ChromeDriverManager().install()))\n",
    "driver.get('https://www.naver.com/')"
   ]
  },
  {
   "cell_type": "code",
   "execution_count": 3,
   "id": "d3911707-2ddb-4ab0-a14d-8041af9f95a2",
   "metadata": {},
   "outputs": [],
   "source": [
    "from selenium import webdriver\n",
    "from selenium.webdriver.chrome.service import Service\n",
    "import time\n",
    "\n",
    "CHROME_DRIVER_PATH = './driver/chromedriver'\n",
    "service = Service(executable_path=CHROME_DRIVER_PATH)\n",
    "options = webdriver.ChromeOptions()\n",
    "driver = webdriver.Chrome(service=service, options=options)\n",
    "\n",
    "#크롬 드라이버에 url 주소 넣고 실행\n",
    "driver.get('https://www.google.co.kr/')\n",
    "\n",
    "# 페이지가 완전히 로딩되도록 3초동안 기다림\n",
    "time.sleep(3)"
   ]
  },
  {
   "cell_type": "code",
   "execution_count": 4,
   "id": "97cc11b3-c70a-48cd-876f-d42894c7d97d",
   "metadata": {},
   "outputs": [],
   "source": [
    "# 드라이버 종료\n",
    "driver.quit()"
   ]
  },
  {
   "cell_type": "markdown",
   "id": "aced9308-aedb-4e1a-89c6-7771475a93fb",
   "metadata": {},
   "source": [
    "## webdriver-manager 라이브러리\n",
    "- 이 부분을 해결하고자 라이브러리가 나왔다.\n",
    "```python\n",
    "pip install webdriver-manager\n",
    "\n",
    "```\n",
    "- 코드는 간단하다. "
   ]
  },
  {
   "cell_type": "code",
   "execution_count": 7,
   "id": "552d6b4e-97f4-4be1-89e1-1ede476ae0aa",
   "metadata": {},
   "outputs": [],
   "source": [
    "# 아래 네 줄을 계속 활용하면 됨!\n",
    "from selenium import webdriver\n",
    "from selenium.webdriver.chrome.service import Service as ChromeService\n",
    "from webdriver_manager.chrome import ChromeDriverManager\n",
    "\n",
    "driver = webdriver.Chrome(service=ChromeService(ChromeDriverManager().install()))\n",
    "#driver.get('https://www.naver.com/')"
   ]
  },
  {
   "cell_type": "markdown",
   "id": "0665ba58-4e14-49a1-9254-2081341f204a",
   "metadata": {},
   "source": [
    "## 1. 구글이미지 다운로드"
   ]
  },
  {
   "cell_type": "code",
   "execution_count": 20,
   "id": "a8505df2-5dfa-4db1-ae75-8539ca677b1f",
   "metadata": {},
   "outputs": [
    {
     "name": "stdout",
     "output_type": "stream",
     "text": [
      " 찾은 이미지 개수: 48\n"
     ]
    }
   ],
   "source": [
    "#구글이미지 다운로드\n",
    "\n",
    "from selenium import webdriver\n",
    "from selenium.webdriver.chrome.service import Service as ChromeService\n",
    "from webdriver_manager.chrome import ChromeDriverManager\n",
    "from selenium.webdriver.common.keys import Keys\n",
    "from selenium.webdriver.common.by import By\n",
    "import time\n",
    "\n",
    "driver = webdriver.Chrome(service=ChromeService(ChromeDriverManager().install()))\n",
    "\n",
    "url = 'https://www.google.co.kr/imghp'\n",
    "driver.get(url)\n",
    "\n",
    "elem = driver.find_element(By.CSS_SELECTOR, \"body > div.L3eUgb > div.o3j99.ikrT4e.om7nvf > form > div:nth-child(1) > div.A8SBwf > div.RNNXgb > div > div.a4bIc > textarea.gLFyf\")\n",
    "elem.send_keys(\"보라카이\")    #구글 검색창에 보라카이 입력\n",
    "elem.send_keys(Keys.RETURN) #엔터!\n",
    "\n",
    "# 스크롤내리며 이미지 쭉 확인하기\n",
    "elem = driver.find_element(By.TAG_NAME, \"body\")\n",
    "for i in range(60):\n",
    "    elem.send_keys(Keys.PAGE_DOWN)\n",
    "    time.sleep(0.1)\n",
    "\n",
    "# 이미지 클릭하기\n",
    "try:\n",
    "    driver.find_element(By.CSS_SELECTOR, \"islmp > div > div > div > div.gBPM8 > div.qvfT1 > div.YstHxe > input\").click()\n",
    "    for i in range(60):\n",
    "        elem.send_keys(Keys.PAGE_DOWN)\n",
    "        time.sleep(0.1)\n",
    "except:\n",
    "    pass\n",
    "\n",
    "links=[] \n",
    "images = driver.find_elements(By.CSS_SELECTOR, \"#islrg > div.islrc > div > a.wXeWr.islib.nfEiy > div.bRMDJf.islir > img\")\n",
    "\n",
    "for image in images:\n",
    "    if image.get_attribute('src') is not None:\n",
    "        links.append(image.get_attribute('src'))\n",
    "        \n",
    "print(' 찾은 이미지 개수:',len(links))"
   ]
  },
  {
   "cell_type": "code",
   "execution_count": 23,
   "id": "8d2d5b18-5ec9-4cf4-bf2c-c2023e01e7b9",
   "metadata": {},
   "outputs": [
    {
     "name": "stdout",
     "output_type": "stream",
     "text": [
      "다운로드 완료하였습니다.\n"
     ]
    }
   ],
   "source": [
    "import urllib.request\n",
    "\n",
    "for k, i in enumerate(links):\n",
    "    url = i\n",
    "    urllib.request.urlretrieve(url, \"./images/\"+str(k)+\".jpg\")\n",
    "\n",
    "print('다운로드 완료하였습니다.')"
   ]
  },
  {
   "cell_type": "code",
   "execution_count": 25,
   "id": "08273367-792d-4ebb-92e0-0b5fe34a4384",
   "metadata": {},
   "outputs": [],
   "source": [
    "driver.quit()"
   ]
  },
  {
   "cell_type": "markdown",
   "id": "df0666f1-2c92-4e7f-94bc-9849822ce326",
   "metadata": {},
   "source": [
    "## 2. 검색어 추출"
   ]
  },
  {
   "cell_type": "code",
   "execution_count": 32,
   "id": "04d94675-b37e-4e75-a0da-b35e8127cce7",
   "metadata": {},
   "outputs": [
    {
     "data": {
      "text/plain": [
       "['잼버리',\n",
       " '살인 예고 글',\n",
       " '태풍 카눈 북상에',\n",
       " '류현진',\n",
       " '세계 고양이의 날',\n",
       " '파두',\n",
       " '경상수지 58.7억달러',\n",
       " '최원종',\n",
       " '입추',\n",
       " '초전도체']"
      ]
     },
     "execution_count": 32,
     "metadata": {},
     "output_type": "execute_result"
    }
   ],
   "source": [
    "from selenium import webdriver\n",
    "from selenium.webdriver.chrome.service import Service as ChromeService\n",
    "from webdriver_manager.chrome import ChromeDriverManager\n",
    "from selenium.webdriver.common.keys import Keys\n",
    "from selenium.webdriver.common.by import By\n",
    "import time\n",
    "\n",
    "driver = webdriver.Chrome(service=ChromeService(ChromeDriverManager().install()))\n",
    "url = \"https://signal.bz/news\"\n",
    "driver.get(url)\n",
    "\n",
    "results = driver.find_elements(By.CSS_SELECTOR, \"#app > div > main > div > section > div > section > section:nth-child(2) > div:nth-child(2) > div > div > div > a > span.rank-text\")\n",
    "results\n",
    "\n",
    "keyword_list = []\n",
    "for keyword in results:\n",
    "    keyword_list.append(keyword.text)\n",
    "\n",
    "keyword_list"
   ]
  },
  {
   "cell_type": "code",
   "execution_count": 33,
   "id": "7b243e2e-7339-4b02-a35f-676aa99a9e7b",
   "metadata": {},
   "outputs": [],
   "source": [
    "driver.quit()"
   ]
  },
  {
   "cell_type": "markdown",
   "id": "e4cdebac-2472-4ac2-a172-3ab2db998fdc",
   "metadata": {},
   "source": [
    "## 3. 네이트 검색어 1~10위 가져오기(동적화면)"
   ]
  },
  {
   "cell_type": "code",
   "execution_count": 56,
   "id": "7cb2fb8d-f8eb-4a84-9829-8d7ed99a029f",
   "metadata": {},
   "outputs": [
    {
     "name": "stdout",
     "output_type": "stream",
     "text": [
      "['1_태풍 카눈 북상에', '2_경상수지 두 달', '3_잼버리', '4_류현진 강습 타구', '5_사고 위장 부사관', '6_잼버리 대원들', '7_서울대공원서 시베리아호랑이 파악', '8_中 윤동주 폐쇄', '9_입추', '10_신성록']\n"
     ]
    }
   ],
   "source": [
    "from selenium import webdriver\n",
    "from selenium.webdriver.chrome.service import Service as ChromeService\n",
    "from webdriver_manager.chrome import ChromeDriverManager\n",
    "from selenium.webdriver.common.keys import Keys\n",
    "from selenium.webdriver.common.by import By\n",
    "import time\n",
    "\n",
    "driver = webdriver.Chrome(service=ChromeService(ChromeDriverManager().install()))\n",
    "\n",
    "nate_list_1st = []\n",
    "nate_list_2nd = []\n",
    "for i in range(2):\n",
    "    URL='https://www.nate.com'\n",
    "    driver.get(url=URL) \n",
    "    rank_results = driver.find_elements(By.CSS_SELECTOR,'#olLiveIssueKeyword > li > span.num_rank')\n",
    "    nate_results = driver.find_elements(By.CSS_SELECTOR,'#olLiveIssueKeyword > li > a > span.txt_rank')\n",
    "    \n",
    "    for rank, keyword in zip(rank_results, nate_results):\n",
    "        if i == 0:  #첫번째 화면\n",
    "            nate_list_1st.append(f'{rank.text}_{keyword.text}')\n",
    "        elif i == 1: #두번째 화면\n",
    "            nate_list_2nd.append(f'{rank.text}_{keyword.text}')\n",
    "            \n",
    "    time.sleep(5)\n",
    "    driver.refresh()   #새로고침같은 개념\n",
    "    \n",
    "result = nate_list_1st + nate_list_2nd\n",
    "\n",
    "print(result)\n",
    "driver.quit()"
   ]
  },
  {
   "cell_type": "markdown",
   "id": "4292af0f-0f92-49b2-9df0-b978d5def267",
   "metadata": {},
   "source": [
    "## 뽐뿌 사이트 핫딜조회"
   ]
  },
  {
   "cell_type": "code",
   "execution_count": 2,
   "id": "223f8c31-c842-4309-94bd-b0b0420ef1c5",
   "metadata": {},
   "outputs": [
    {
     "name": "stdout",
     "output_type": "stream",
     "text": [
      "[티몬] 바세린 퓨어 젤리 50ml 5개 외 (5,520원/무료)\n",
      "https://www.ppomppu.co.kr/zboard/view.php?id=ppomppu&page=1&divpage=80&no=477026\n"
     ]
    }
   ],
   "source": [
    "from selenium import webdriver\n",
    "from selenium.webdriver.chrome.service import Service as ChromeService\n",
    "from webdriver_manager.chrome import ChromeDriverManager\n",
    "from selenium.webdriver.common.keys import Keys\n",
    "from selenium.webdriver.common.by import By\n",
    "import time\n",
    "\n",
    "URL= 'https://www.ppomppu.co.kr/zboard/zboard.php?id=ppomppu'\n",
    "driver = webdriver.Chrome(service=ChromeService(ChromeDriverManager().install()))\n",
    "driver.get(url=URL)\n",
    "\n",
    "titles = driver.find_elements(By.CSS_SELECTOR, \"#revolution_main_table > tbody > tr:nth-child(9) > td:nth-child(3) > table > tbody > tr > td:nth-child(2) > div > a > font\")\n",
    "urls = driver.find_elements(By.CSS_SELECTOR, \"#revolution_main_table > tbody > tr:nth-child(9) > td:nth-child(3) > table > tbody > tr > td:nth-child(2) > div > a\")\n",
    "\n",
    "title_lists = []\n",
    "url_lists = []\n",
    "for i in range(len(titles)):\n",
    "    print(titles[i].text)\n",
    "    title_lists.append(titles[i].text)\n",
    "    print(urls[i].get_attribute('href'))\n",
    "    url_lists.append(urls[i].get_attribute('href'))\n",
    "\n",
    "driver.quit()"
   ]
  },
  {
   "cell_type": "code",
   "execution_count": null,
   "id": "54c02577-1d56-4c9d-b25b-5f292d2bf909",
   "metadata": {},
   "outputs": [],
   "source": []
  }
 ],
 "metadata": {
  "kernelspec": {
   "display_name": "Python 3 (ipykernel)",
   "language": "python",
   "name": "python3"
  },
  "language_info": {
   "codemirror_mode": {
    "name": "ipython",
    "version": 3
   },
   "file_extension": ".py",
   "mimetype": "text/x-python",
   "name": "python",
   "nbconvert_exporter": "python",
   "pygments_lexer": "ipython3",
   "version": "3.9.13"
  }
 },
 "nbformat": 4,
 "nbformat_minor": 5
}
