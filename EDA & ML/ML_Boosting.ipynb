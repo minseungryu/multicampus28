{
  "nbformat": 4,
  "nbformat_minor": 0,
  "metadata": {
    "colab": {
      "provenance": []
    },
    "kernelspec": {
      "name": "python3",
      "display_name": "Python 3"
    },
    "language_info": {
      "name": "python"
    }
  },
  "cells": [
    {
      "cell_type": "markdown",
      "source": [
        "### Lightbgm & 폰트 설치"
      ],
      "metadata": {
        "id": "v8bzqJYbo88s"
      }
    },
    {
      "cell_type": "code",
      "execution_count": null,
      "metadata": {
        "colab": {
          "base_uri": "https://localhost:8080/"
        },
        "id": "Rkf02IbhoOVV",
        "outputId": "d8b3ea55-f3cc-44f1-9e03-4952158edab6"
      },
      "outputs": [
        {
          "output_type": "stream",
          "name": "stdout",
          "text": [
            "Collecting lightgbm==3.3.2\n",
            "  Downloading lightgbm-3.3.2-py3-none-manylinux1_x86_64.whl (2.0 MB)\n",
            "\u001b[2K     \u001b[90m━━━━━━━━━━━━━━━━━━━━━━━━━━━━━━━━━━━━━━━━\u001b[0m \u001b[32m2.0/2.0 MB\u001b[0m \u001b[31m7.6 MB/s\u001b[0m eta \u001b[36m0:00:00\u001b[0m\n",
            "\u001b[?25hRequirement already satisfied: wheel in /usr/local/lib/python3.10/dist-packages (from lightgbm==3.3.2) (0.41.1)\n",
            "Requirement already satisfied: numpy in /usr/local/lib/python3.10/dist-packages (from lightgbm==3.3.2) (1.23.5)\n",
            "Requirement already satisfied: scipy in /usr/local/lib/python3.10/dist-packages (from lightgbm==3.3.2) (1.10.1)\n",
            "Requirement already satisfied: scikit-learn!=0.22.0 in /usr/local/lib/python3.10/dist-packages (from lightgbm==3.3.2) (1.2.2)\n",
            "Requirement already satisfied: joblib>=1.1.1 in /usr/local/lib/python3.10/dist-packages (from scikit-learn!=0.22.0->lightgbm==3.3.2) (1.3.2)\n",
            "Requirement already satisfied: threadpoolctl>=2.0.0 in /usr/local/lib/python3.10/dist-packages (from scikit-learn!=0.22.0->lightgbm==3.3.2) (3.2.0)\n",
            "Installing collected packages: lightgbm\n",
            "  Attempting uninstall: lightgbm\n",
            "    Found existing installation: lightgbm 4.0.0\n",
            "    Uninstalling lightgbm-4.0.0:\n",
            "      Successfully uninstalled lightgbm-4.0.0\n",
            "Successfully installed lightgbm-3.3.2\n",
            "Reading package lists... Done\n",
            "Building dependency tree... Done\n",
            "Reading state information... Done\n",
            "The following NEW packages will be installed:\n",
            "  fonts-nanum\n",
            "0 upgraded, 1 newly installed, 0 to remove and 16 not upgraded.\n",
            "Need to get 10.3 MB of archives.\n",
            "After this operation, 34.1 MB of additional disk space will be used.\n",
            "Get:1 http://archive.ubuntu.com/ubuntu jammy/universe amd64 fonts-nanum all 20200506-1 [10.3 MB]\n",
            "Fetched 10.3 MB in 1s (8,166 kB/s)\n",
            "debconf: unable to initialize frontend: Dialog\n",
            "debconf: (No usable dialog-like program is installed, so the dialog based frontend cannot be used. at /usr/share/perl5/Debconf/FrontEnd/Dialog.pm line 78, <> line 1.)\n",
            "debconf: falling back to frontend: Readline\n",
            "debconf: unable to initialize frontend: Readline\n",
            "debconf: (This frontend requires a controlling tty.)\n",
            "debconf: falling back to frontend: Teletype\n",
            "dpkg-preconfigure: unable to re-open stdin: \n",
            "Selecting previously unselected package fonts-nanum.\n",
            "(Reading database ... 120831 files and directories currently installed.)\n",
            "Preparing to unpack .../fonts-nanum_20200506-1_all.deb ...\n",
            "Unpacking fonts-nanum (20200506-1) ...\n",
            "Setting up fonts-nanum (20200506-1) ...\n",
            "Processing triggers for fontconfig (2.13.1-4.2ubuntu5) ...\n",
            "/usr/share/fonts: caching, new cache contents: 0 fonts, 1 dirs\n",
            "/usr/share/fonts/truetype: caching, new cache contents: 0 fonts, 3 dirs\n",
            "/usr/share/fonts/truetype/humor-sans: caching, new cache contents: 1 fonts, 0 dirs\n",
            "/usr/share/fonts/truetype/liberation: caching, new cache contents: 16 fonts, 0 dirs\n",
            "/usr/share/fonts/truetype/nanum: caching, new cache contents: 12 fonts, 0 dirs\n",
            "/usr/local/share/fonts: caching, new cache contents: 0 fonts, 0 dirs\n",
            "/root/.local/share/fonts: skipping, no such directory\n",
            "/root/.fonts: skipping, no such directory\n",
            "/usr/share/fonts/truetype: skipping, looped directory detected\n",
            "/usr/share/fonts/truetype/humor-sans: skipping, looped directory detected\n",
            "/usr/share/fonts/truetype/liberation: skipping, looped directory detected\n",
            "/usr/share/fonts/truetype/nanum: skipping, looped directory detected\n",
            "/var/cache/fontconfig: cleaning cache directory\n",
            "/root/.cache/fontconfig: not cleaning non-existent cache directory\n",
            "/root/.fontconfig: not cleaning non-existent cache directory\n",
            "fc-cache: succeeded\n"
          ]
        }
      ],
      "source": [
        "!pip install lightgbm==3.3.2\n",
        "!sudo apt-get install -y fonts-nanum\n",
        "!sudo fc-cache -fv\n",
        "!rm ~/.cache/matplotlib -rf"
      ]
    },
    {
      "cell_type": "code",
      "source": [
        "import lightgbm\n",
        "lightgbm.__version__"
      ],
      "metadata": {
        "colab": {
          "base_uri": "https://localhost:8080/",
          "height": 35
        },
        "id": "ST_ZFYZlooSU",
        "outputId": "0f75eccf-2be6-4969-d09b-d38fe9de3fd1"
      },
      "execution_count": null,
      "outputs": [
        {
          "output_type": "execute_result",
          "data": {
            "text/plain": [
              "'3.3.2'"
            ],
            "application/vnd.google.colaboratory.intrinsic+json": {
              "type": "string"
            }
          },
          "metadata": {},
          "execution_count": 1
        }
      ]
    },
    {
      "cell_type": "code",
      "source": [
        "import matplotlib.pyplot as plt\n",
        "plt.rc(\"font\", family=\"NanumGothic\") # 라이브러리 불러오기와 함께 한번만 실행\n",
        "\n",
        "plt.plot([1, 2, 3])\n",
        "plt.title(\"한글\")\n",
        "plt.show()"
      ],
      "metadata": {
        "colab": {
          "base_uri": "https://localhost:8080/",
          "height": 450
        },
        "id": "ds6tA5SeoQi_",
        "outputId": "da87ce41-8aa4-4e35-a230-db3d79695605"
      },
      "execution_count": null,
      "outputs": [
        {
          "output_type": "display_data",
          "data": {
            "text/plain": [
              "<Figure size 640x480 with 1 Axes>"
            ],
            "image/png": "[encoded data removed]"
          },
          "metadata": {}
        }
      ]
    },
    {
      "cell_type": "markdown",
      "source": [
        "### 구글 드라이브 연동"
      ],
      "metadata": {
        "id": "d7n_yZw0pCXv"
      }
    },
    {
      "cell_type": "code",
      "source": [
        "from google.colab import drive\n",
        "drive.mount('/content/drive')"
      ],
      "metadata": {
        "colab": {
          "base_uri": "https://localhost:8080/"
        },
        "id": "cIsTa5HCoY8a",
        "outputId": "f44d703b-1049-4ce3-c207-04b2a44d9a29"
      },
      "execution_count": null,
      "outputs": [
        {
          "output_type": "stream",
          "name": "stdout",
          "text": [
            "Drive already mounted at /content/drive; to attempt to forcibly remount, call drive.mount(\"/content/drive\", force_remount=True).\n"
          ]
        }
      ]
    },
    {
      "cell_type": "markdown",
      "source": [
        "### 데이터셋 및 라이브러리 불러오기\n",
        "- https://scikit-learn.org/stable/modules/generated/sklearn.ensemble.VotingClassifier.html"
      ],
      "metadata": {
        "id": "QuzfJbqspmku"
      }
    },
    {
      "cell_type": "code",
      "source": [
        "import pandas as pd\n",
        "from sklearn.ensemble import VotingClassifier\n",
        "from sklearn.linear_model import LogisticRegression\n",
        "from sklearn.neighbors import KNeighborsClassifier\n",
        "from sklearn.datasets import load_breast_cancer\n",
        "from sklearn.model_selection import train_test_split\n",
        "from sklearn.metrics import accuracy_score"
      ],
      "metadata": {
        "id": "yM5Bq4lppgQw"
      },
      "execution_count": null,
      "outputs": []
    },
    {
      "cell_type": "code",
      "source": [
        "cancer = load_breast_cancer()\n",
        "\n",
        "data_df = pd.DataFrame(cancer.data, columns = cancer.feature_names)\n",
        "data_df.head(1)"
      ],
      "metadata": {
        "colab": {
          "base_uri": "https://localhost:8080/",
          "height": 165
        },
        "id": "yAnx_JvKqBj7",
        "outputId": "72d006f5-96f2-4ee4-f65a-d15d28725ad7"
      },
      "execution_count": null,
      "outputs": [
        {
          "output_type": "execute_result",
          "data": {
            "text/plain": [
              "   mean radius  mean texture  mean perimeter  mean area  mean smoothness  \\\n",
              "0        17.99         10.38           122.8     1001.0           0.1184   \n",
              "\n",
              "   mean compactness  mean concavity  mean concave points  mean symmetry  \\\n",
              "0            0.2776          0.3001               0.1471         0.2419   \n",
              "\n",
              "   mean fractal dimension  ...  worst radius  worst texture  worst perimeter  \\\n",
              "0                 0.07871  ...         25.38          17.33            184.6   \n",
              "\n",
              "   worst area  worst smoothness  worst compactness  worst concavity  \\\n",
              "0      2019.0            0.1622             0.6656           0.7119   \n",
              "\n",
              "   worst concave points  worst symmetry  worst fractal dimension  \n",
              "0                0.2654          0.4601                   0.1189  \n",
              "\n",
              "[1 rows x 30 columns]"
            ],
            "text/html": [
              "\n",
              "  <div id=\"df-f6075330-f051-476c-8deb-2bea3a8600b4\" class=\"colab-df-container\">\n",
              "    <div>\n",
              "<style scoped>\n",
              "    .dataframe tbody tr th:only-of-type {\n",
              "        vertical-align: middle;\n",
              "    }\n",
              "\n",
              "    .dataframe tbody tr th {\n",
              "        vertical-align: top;\n",
              "    }\n",
              "\n",
              "    .dataframe thead th {\n",
              "        text-align: right;\n",
              "    }\n",
              "</style>\n",
              "<table border=\"1\" class=\"dataframe\">\n",
              "  <thead>\n",
              "    <tr style=\"text-align: right;\">\n",
              "      <th></th>\n",
              "      <th>mean radius</th>\n",
              "      <th>mean texture</th>\n",
              "      <th>mean perimeter</th>\n",
              "      <th>mean area</th>\n",
              "      <th>mean smoothness</th>\n",
              "      <th>mean compactness</th>\n",
              "      <th>mean concavity</th>\n",
              "      <th>mean concave points</th>\n",
              "      <th>mean symmetry</th>\n",
              "      <th>mean fractal dimension</th>\n",
              "      <th>...</th>\n",
              "      <th>worst radius</th>\n",
              "      <th>worst texture</th>\n",
              "      <th>worst perimeter</th>\n",
              "      <th>worst area</th>\n",
              "      <th>worst smoothness</th>\n",
              "      <th>worst compactness</th>\n",
              "      <th>worst concavity</th>\n",
              "      <th>worst concave points</th>\n",
              "      <th>worst symmetry</th>\n",
              "      <th>worst fractal dimension</th>\n",
              "    </tr>\n",
              "  </thead>\n",
              "  <tbody>\n",
              "    <tr>\n",
              "      <th>0</th>\n",
              "      <td>17.99</td>\n",
              "      <td>10.38</td>\n",
              "      <td>122.8</td>\n",
              "      <td>1001.0</td>\n",
              "      <td>0.1184</td>\n",
              "      <td>0.2776</td>\n",
              "      <td>0.3001</td>\n",
              "      <td>0.1471</td>\n",
              "      <td>0.2419</td>\n",
              "      <td>0.07871</td>\n",
              "      <td>...</td>\n",
              "      <td>25.38</td>\n",
              "      <td>17.33</td>\n",
              "      <td>184.6</td>\n",
              "      <td>2019.0</td>\n",
              "      <td>0.1622</td>\n",
              "      <td>0.6656</td>\n",
              "      <td>0.7119</td>\n",
              "      <td>0.2654</td>\n",
              "      <td>0.4601</td>\n",
              "      <td>0.1189</td>\n",
              "    </tr>\n",
              "  </tbody>\n",
              "</table>\n",
              "<p>1 rows × 30 columns</p>\n",
              "</div>\n",
              "    <div class=\"colab-df-buttons\">\n",
              "\n",
              "  <div class=\"colab-df-container\">\n",
              "    <button class=\"colab-df-convert\" onclick=\"convertToInteractive('df-f6075330-f051-476c-8deb-2bea3a8600b4')\"\n",
              "            title=\"Convert this dataframe to an interactive table.\"\n",
              "            style=\"display:none;\">\n",
              "\n",
              "  <svg xmlns=\"http://www.w3.org/2000/svg\" height=\"24px\" viewBox=\"0 -960 960 960\">\n",
              "    <path d=\"M120-120v-720h720v720H120Zm60-500h600v-160H180v160Zm220 220h160v-160H400v160Zm0 220h160v-160H400v160ZM180-400h160v-160H180v160Zm440 0h160v-160H620v160ZM180-180h160v-160H180v160Zm440 0h160v-160H620v160Z\"/>\n",
              "  </svg>\n",
              "    </button>\n",
              "\n",
              "  <style>\n",
              "    .colab-df-container {\n",
              "      display:flex;\n",
              "      gap: 12px;\n",
              "    }\n",
              "\n",
              "    .colab-df-convert {\n",
              "      background-color: #E8F0FE;\n",
              "      border: none;\n",
              "      border-radius: 50%;\n",
              "      cursor: pointer;\n",
              "      display: none;\n",
              "      fill: #1967D2;\n",
              "      height: 32px;\n",
              "      padding: 0 0 0 0;\n",
              "      width: 32px;\n",
              "    }\n",
              "\n",
              "    .colab-df-convert:hover {\n",
              "      background-color: #E2EBFA;\n",
              "      box-shadow: 0px 1px 2px rgba(60, 64, 67, 0.3), 0px 1px 3px 1px rgba(60, 64, 67, 0.15);\n",
              "      fill: #174EA6;\n",
              "    }\n",
              "\n",
              "    .colab-df-buttons div {\n",
              "      margin-bottom: 4px;\n",
              "    }\n",
              "\n",
              "    [theme=dark] .colab-df-convert {\n",
              "      background-color: #3B4455;\n",
              "      fill: #D2E3FC;\n",
              "    }\n",
              "\n",
              "    [theme=dark] .colab-df-convert:hover {\n",
              "      background-color: #434B5C;\n",
              "      box-shadow: 0px 1px 3px 1px rgba(0, 0, 0, 0.15);\n",
              "      filter: drop-shadow(0px 1px 2px rgba(0, 0, 0, 0.3));\n",
              "      fill: #FFFFFF;\n",
              "    }\n",
              "  </style>\n",
              "\n",
              "    <script>\n",
              "      const buttonEl =\n",
              "        document.querySelector('#df-f6075330-f051-476c-8deb-2bea3a8600b4 button.colab-df-convert');\n",
              "      buttonEl.style.display =\n",
              "        google.colab.kernel.accessAllowed ? 'block' : 'none';\n",
              "\n",
              "      async function convertToInteractive(key) {\n",
              "        const element = document.querySelector('#df-f6075330-f051-476c-8deb-2bea3a8600b4');\n",
              "        const dataTable =\n",
              "          await google.colab.kernel.invokeFunction('convertToInteractive',\n",
              "                                                    [key], {});\n",
              "        if (!dataTable) return;\n",
              "\n",
              "        const docLinkHtml = 'Like what you see? Visit the ' +\n",
              "          '<a target=\"_blank\" href=https://colab.research.google.com/notebooks/data_table.ipynb>data table notebook</a>'\n",
              "          + ' to learn more about interactive tables.';\n",
              "        element.innerHTML = '';\n",
              "        dataTable['output_type'] = 'display_data';\n",
              "        await google.colab.output.renderOutput(dataTable, element);\n",
              "        const docLink = document.createElement('div');\n",
              "        docLink.innerHTML = docLinkHtml;\n",
              "        element.appendChild(docLink);\n",
              "      }\n",
              "    </script>\n",
              "  </div>\n",
              "\n",
              "\n",
              "<div id=\"df-8ee9891e-4668-42fa-b00b-078a9203b7b9\">\n",
              "  <button class=\"colab-df-quickchart\" onclick=\"quickchart('df-8ee9891e-4668-42fa-b00b-078a9203b7b9')\"\n",
              "            title=\"Suggest charts.\"\n",
              "            style=\"display:none;\">\n",
              "\n",
              "<svg xmlns=\"http://www.w3.org/2000/svg\" height=\"24px\"viewBox=\"0 0 24 24\"\n",
              "     width=\"24px\">\n",
              "    <g>\n",
              "        <path d=\"M19 3H5c-1.1 0-2 .9-2 2v14c0 1.1.9 2 2 2h14c1.1 0 2-.9 2-2V5c0-1.1-.9-2-2-2zM9 17H7v-7h2v7zm4 0h-2V7h2v10zm4 0h-2v-4h2v4z\"/>\n",
              "    </g>\n",
              "</svg>\n",
              "  </button>\n",
              "\n",
              "<style>\n",
              "  .colab-df-quickchart {\n",
              "    background-color: #E8F0FE;\n",
              "    border: none;\n",
              "    border-radius: 50%;\n",
              "    cursor: pointer;\n",
              "    display: none;\n",
              "    fill: #1967D2;\n",
              "    height: 32px;\n",
              "    padding: 0 0 0 0;\n",
              "    width: 32px;\n",
              "  }\n",
              "\n",
              "  .colab-df-quickchart:hover {\n",
              "    background-color: #E2EBFA;\n",
              "    box-shadow: 0px 1px 2px rgba(60, 64, 67, 0.3), 0px 1px 3px 1px rgba(60, 64, 67, 0.15);\n",
              "    fill: #174EA6;\n",
              "  }\n",
              "\n",
              "  [theme=dark] .colab-df-quickchart {\n",
              "    background-color: #3B4455;\n",
              "    fill: #D2E3FC;\n",
              "  }\n",
              "\n",
              "  [theme=dark] .colab-df-quickchart:hover {\n",
              "    background-color: #434B5C;\n",
              "    box-shadow: 0px 1px 3px 1px rgba(0, 0, 0, 0.15);\n",
              "    filter: drop-shadow(0px 1px 2px rgba(0, 0, 0, 0.3));\n",
              "    fill: #FFFFFF;\n",
              "  }\n",
              "</style>\n",
              "\n",
              "  <script>\n",
              "    async function quickchart(key) {\n",
              "      const charts = await google.colab.kernel.invokeFunction(\n",
              "          'suggestCharts', [key], {});\n",
              "    }\n",
              "    (() => {\n",
              "      let quickchartButtonEl =\n",
              "        document.querySelector('#df-8ee9891e-4668-42fa-b00b-078a9203b7b9 button');\n",
              "      quickchartButtonEl.style.display =\n",
              "        google.colab.kernel.accessAllowed ? 'block' : 'none';\n",
              "    })();\n",
              "  </script>\n",
              "</div>\n",
              "    </div>\n",
              "  </div>\n"
            ]
          },
          "metadata": {},
          "execution_count": 5
        }
      ]
    },
    {
      "cell_type": "markdown",
      "source": [
        "### 모델 학습"
      ],
      "metadata": {
        "id": "tvSZ0R-6qrwM"
      }
    },
    {
      "cell_type": "code",
      "source": [
        "lr_clf = LogisticRegression(solver='liblinear')\n",
        "knn_clf = KNeighborsClassifier(n_neighbors=8)\n",
        "\n",
        "# 개별 모델을 소프트 보팅 기반의 앙상블 모델로 구현\n",
        "vo_clf = VotingClassifier(estimators = [('LR', lr_clf), ('KNN', knn_clf)], voting='soft')\n",
        "\n",
        "# 훈련데이터, 테스트데이터 분리\n",
        "X_train, X_test, y_train, y_test = train_test_split(cancer.data, cancer.target, test_size = 0.2, random_state = 1)\n",
        "\n",
        "# 학습, 예측, 평가\n",
        "vo_clf.fit(X_train, y_train)\n",
        "pred = vo_clf.predict(X_test)\n",
        "print('Voting 분류기 정확도: {0:.4f}'.format(accuracy_score(y_test , pred)))"
      ],
      "metadata": {
        "colab": {
          "base_uri": "https://localhost:8080/"
        },
        "id": "K3i3-7gDqfTp",
        "outputId": "0f4d13fd-464f-4fa7-8cc7-849fcfd46ee7"
      },
      "execution_count": null,
      "outputs": [
        {
          "output_type": "stream",
          "name": "stdout",
          "text": [
            "Voting 분류기 정확도: 0.9561\n"
          ]
        }
      ]
    },
    {
      "cell_type": "code",
      "source": [
        "# 개별 모델의 학습/예측/평가 확인(반복문 사용)\n",
        "\n",
        "classifiers = [lr_clf, knn_clf]\n",
        "for classifier in classifiers:\n",
        "    classifier.fit(X_train, y_train)\n",
        "    pred = classifier.predict(X_test)\n",
        "    class_name = classifier.__class__.__name__  # 각 모델의 이름 가져오기\n",
        "\n",
        "    print('{0} 정확도: {1:.4f}'.format(class_name, accuracy_score(y_test , pred)))"
      ],
      "metadata": {
        "colab": {
          "base_uri": "https://localhost:8080/"
        },
        "id": "yQgROIoArVVN",
        "outputId": "4497f0c9-5fb0-46a1-d507-88a20c6e3ed2"
      },
      "execution_count": null,
      "outputs": [
        {
          "output_type": "stream",
          "name": "stdout",
          "text": [
            "LogisticRegression 정확도: 0.9561\n",
            "KNeighborsClassifier 정확도: 0.9474\n"
          ]
        }
      ]
    },
    {
      "cell_type": "markdown",
      "source": [
        "## 데이터 불러오기"
      ],
      "metadata": {
        "id": "AJUxwNRmy1Hu"
      }
    },
    {
      "cell_type": "code",
      "source": [
        "def get_new_feature_name_df(old_feature_name_df):\n",
        "    feature_dup_df = pd.DataFrame(data = old_feature_name_df.groupby('column_name').cumcount(), columns = ['dup_cnt'])\n",
        "    feature_dup_df = feature_dup_df.reset_index()\n",
        "\n",
        "    new_feature_name_df = pd.merge(old_feature_name_df.reset_index(), feature_dup_df, how = 'outer')\n",
        "\n",
        "    # 중복 feature 명에 대해 원본 feature_1, _2 추가\n",
        "    new_feature_name_df['column_name'] = new_feature_name_df[['column_name', 'dup_cnt']].apply(lambda x : x[0] + '_' + str(x[1]) if x[1] > 0 else x[0], axis = 1)\n",
        "    new_feature_name_df = new_feature_name_df.drop(['index'], axis = 1)\n",
        "    return new_feature_name_df\n"
      ],
      "metadata": {
        "id": "ODdleLbJsYus"
      },
      "execution_count": null,
      "outputs": []
    },
    {
      "cell_type": "code",
      "source": [
        "import pandas as pd\n",
        "\n",
        "def get_human_dataset( ):\n",
        "\n",
        "    # 각 데이터 파일들은 공백으로 분리되어 있으므로 read_csv에서 공백 문자를 sep으로 할당.\n",
        "    DATA_PATH = '/content/drive/MyDrive/멀티캠퍼스/data'\n",
        "    feature_name_df = pd.read_csv(DATA_PATH + '/human_activity/features.txt',sep='\\s+',\n",
        "                        header=None,names=['column_index','column_name'])\n",
        "\n",
        "    # 중복된 피처명을 수정하는 get_new_feature_name_df()를 이용, 신규 피처명 DataFrame생성.\n",
        "    new_feature_name_df = get_new_feature_name_df(feature_name_df)\n",
        "\n",
        "    # DataFrame에 피처명을 컬럼으로 부여하기 위해 리스트 객체로 다시 변환\n",
        "    feature_name = new_feature_name_df.iloc[:, 1].values.tolist()\n",
        "\n",
        "    # 학습 피처 데이터 셋과 테스트 피처 데이터을 DataFrame으로 로딩. 컬럼명은 feature_name 적용\n",
        "    X_train = pd.read_csv(DATA_PATH + '/human_activity/train/X_train.txt',sep='\\s+', names=feature_name )\n",
        "    X_test = pd.read_csv(DATA_PATH + '/human_activity/test/X_test.txt',sep='\\s+', names=feature_name)\n",
        "\n",
        "    # 학습 레이블과 테스트 레이블 데이터을 DataFrame으로 로딩하고 컬럼명은 action으로 부여\n",
        "    y_train = pd.read_csv(DATA_PATH + '/human_activity/train/y_train.txt',sep='\\s+',header=None,names=['action'])\n",
        "    y_test = pd.read_csv(DATA_PATH + '/human_activity/test/y_test.txt',sep='\\s+',header=None,names=['action'])\n",
        "\n",
        "    # 로드된 학습/테스트용 DataFrame을 모두 반환\n",
        "    return X_train, X_test, y_train, y_test\n",
        "\n",
        "\n",
        "X_train, X_test, y_train, y_test = get_human_dataset()"
      ],
      "metadata": {
        "id": "zmdW3T5Uy-Gz"
      },
      "execution_count": null,
      "outputs": []
    },
    {
      "cell_type": "code",
      "source": [
        "X_train.head()"
      ],
      "metadata": {
        "colab": {
          "base_uri": "https://localhost:8080/",
          "height": 273
        },
        "id": "okUhlkfDzAVt",
        "outputId": "e7cccd22-50e4-4512-e131-b87551abae61"
      },
      "execution_count": null,
      "outputs": [
        {
          "output_type": "execute_result",
          "data": {
            "text/plain": [
              "   tBodyAcc-mean()-X  tBodyAcc-mean()-Y  tBodyAcc-mean()-Z  tBodyAcc-std()-X  \\\n",
              "0           0.288585          -0.020294          -0.132905         -0.995279   \n",
              "1           0.278419          -0.016411          -0.123520         -0.998245   \n",
              "2           0.279653          -0.019467          -0.113462         -0.995380   \n",
              "3           0.279174          -0.026201          -0.123283         -0.996091   \n",
              "4           0.276629          -0.016570          -0.115362         -0.998139   \n",
              "\n",
              "   tBodyAcc-std()-Y  tBodyAcc-std()-Z  tBodyAcc-mad()-X  tBodyAcc-mad()-Y  \\\n",
              "0         -0.983111         -0.913526         -0.995112         -0.983185   \n",
              "1         -0.975300         -0.960322         -0.998807         -0.974914   \n",
              "2         -0.967187         -0.978944         -0.996520         -0.963668   \n",
              "3         -0.983403         -0.990675         -0.997099         -0.982750   \n",
              "4         -0.980817         -0.990482         -0.998321         -0.979672   \n",
              "\n",
              "   tBodyAcc-mad()-Z  tBodyAcc-max()-X  ...  fBodyBodyGyroJerkMag-meanFreq()  \\\n",
              "0         -0.923527         -0.934724  ...                        -0.074323   \n",
              "1         -0.957686         -0.943068  ...                         0.158075   \n",
              "2         -0.977469         -0.938692  ...                         0.414503   \n",
              "3         -0.989302         -0.938692  ...                         0.404573   \n",
              "4         -0.990441         -0.942469  ...                         0.087753   \n",
              "\n",
              "   fBodyBodyGyroJerkMag-skewness()  fBodyBodyGyroJerkMag-kurtosis()  \\\n",
              "0                        -0.298676                        -0.710304   \n",
              "1                        -0.595051                        -0.861499   \n",
              "2                        -0.390748                        -0.760104   \n",
              "3                        -0.117290                        -0.482845   \n",
              "4                        -0.351471                        -0.699205   \n",
              "\n",
              "   angle(tBodyAccMean,gravity)  angle(tBodyAccJerkMean),gravityMean)  \\\n",
              "0                    -0.112754                              0.030400   \n",
              "1                     0.053477                             -0.007435   \n",
              "2                    -0.118559                              0.177899   \n",
              "3                    -0.036788                             -0.012892   \n",
              "4                     0.123320                              0.122542   \n",
              "\n",
              "   angle(tBodyGyroMean,gravityMean)  angle(tBodyGyroJerkMean,gravityMean)  \\\n",
              "0                         -0.464761                             -0.018446   \n",
              "1                         -0.732626                              0.703511   \n",
              "2                          0.100699                              0.808529   \n",
              "3                          0.640011                             -0.485366   \n",
              "4                          0.693578                             -0.615971   \n",
              "\n",
              "   angle(X,gravityMean)  angle(Y,gravityMean)  angle(Z,gravityMean)  \n",
              "0             -0.841247              0.179941             -0.058627  \n",
              "1             -0.844788              0.180289             -0.054317  \n",
              "2             -0.848933              0.180637             -0.049118  \n",
              "3             -0.848649              0.181935             -0.047663  \n",
              "4             -0.847865              0.185151             -0.043892  \n",
              "\n",
              "[5 rows x 561 columns]"
            ],
            "text/html": [
              "\n",
              "  <div id=\"df-aa2c91d6-1c33-49ba-b834-ec534986574f\" class=\"colab-df-container\">\n",
              "    <div>\n",
              "<style scoped>\n",
              "    .dataframe tbody tr th:only-of-type {\n",
              "        vertical-align: middle;\n",
              "    }\n",
              "\n",
              "    .dataframe tbody tr th {\n",
              "        vertical-align: top;\n",
              "    }\n",
              "\n",
              "    .dataframe thead th {\n",
              "        text-align: right;\n",
              "    }\n",
              "</style>\n",
              "<table border=\"1\" class=\"dataframe\">\n",
              "  <thead>\n",
              "    <tr style=\"text-align: right;\">\n",
              "      <th></th>\n",
              "      <th>tBodyAcc-mean()-X</th>\n",
              "      <th>tBodyAcc-mean()-Y</th>\n",
              "      <th>tBodyAcc-mean()-Z</th>\n",
              "      <th>tBodyAcc-std()-X</th>\n",
              "      <th>tBodyAcc-std()-Y</th>\n",
              "      <th>tBodyAcc-std()-Z</th>\n",
              "      <th>tBodyAcc-mad()-X</th>\n",
              "      <th>tBodyAcc-mad()-Y</th>\n",
              "      <th>tBodyAcc-mad()-Z</th>\n",
              "      <th>tBodyAcc-max()-X</th>\n",
              "      <th>...</th>\n",
              "      <th>fBodyBodyGyroJerkMag-meanFreq()</th>\n",
              "      <th>fBodyBodyGyroJerkMag-skewness()</th>\n",
              "      <th>fBodyBodyGyroJerkMag-kurtosis()</th>\n",
              "      <th>angle(tBodyAccMean,gravity)</th>\n",
              "      <th>angle(tBodyAccJerkMean),gravityMean)</th>\n",
              "      <th>angle(tBodyGyroMean,gravityMean)</th>\n",
              "      <th>angle(tBodyGyroJerkMean,gravityMean)</th>\n",
              "      <th>angle(X,gravityMean)</th>\n",
              "      <th>angle(Y,gravityMean)</th>\n",
              "      <th>angle(Z,gravityMean)</th>\n",
              "    </tr>\n",
              "  </thead>\n",
              "  <tbody>\n",
              "    <tr>\n",
              "      <th>0</th>\n",
              "      <td>0.288585</td>\n",
              "      <td>-0.020294</td>\n",
              "      <td>-0.132905</td>\n",
              "      <td>-0.995279</td>\n",
              "      <td>-0.983111</td>\n",
              "      <td>-0.913526</td>\n",
              "      <td>-0.995112</td>\n",
              "      <td>-0.983185</td>\n",
              "      <td>-0.923527</td>\n",
              "      <td>-0.934724</td>\n",
              "      <td>...</td>\n",
              "      <td>-0.074323</td>\n",
              "      <td>-0.298676</td>\n",
              "      <td>-0.710304</td>\n",
              "      <td>-0.112754</td>\n",
              "      <td>0.030400</td>\n",
              "      <td>-0.464761</td>\n",
              "      <td>-0.018446</td>\n",
              "      <td>-0.841247</td>\n",
              "      <td>0.179941</td>\n",
              "      <td>-0.058627</td>\n",
              "    </tr>\n",
              "    <tr>\n",
              "      <th>1</th>\n",
              "      <td>0.278419</td>\n",
              "      <td>-0.016411</td>\n",
              "      <td>-0.123520</td>\n",
              "      <td>-0.998245</td>\n",
              "      <td>-0.975300</td>\n",
              "      <td>-0.960322</td>\n",
              "      <td>-0.998807</td>\n",
              "      <td>-0.974914</td>\n",
              "      <td>-0.957686</td>\n",
              "      <td>-0.943068</td>\n",
              "      <td>...</td>\n",
              "      <td>0.158075</td>\n",
              "      <td>-0.595051</td>\n",
              "      <td>-0.861499</td>\n",
              "      <td>0.053477</td>\n",
              "      <td>-0.007435</td>\n",
              "      <td>-0.732626</td>\n",
              "      <td>0.703511</td>\n",
              "      <td>-0.844788</td>\n",
              "      <td>0.180289</td>\n",
              "      <td>-0.054317</td>\n",
              "    </tr>\n",
              "    <tr>\n",
              "      <th>2</th>\n",
              "      <td>0.279653</td>\n",
              "      <td>-0.019467</td>\n",
              "      <td>-0.113462</td>\n",
              "      <td>-0.995380</td>\n",
              "      <td>-0.967187</td>\n",
              "      <td>-0.978944</td>\n",
              "      <td>-0.996520</td>\n",
              "      <td>-0.963668</td>\n",
              "      <td>-0.977469</td>\n",
              "      <td>-0.938692</td>\n",
              "      <td>...</td>\n",
              "      <td>0.414503</td>\n",
              "      <td>-0.390748</td>\n",
              "      <td>-0.760104</td>\n",
              "      <td>-0.118559</td>\n",
              "      <td>0.177899</td>\n",
              "      <td>0.100699</td>\n",
              "      <td>0.808529</td>\n",
              "      <td>-0.848933</td>\n",
              "      <td>0.180637</td>\n",
              "      <td>-0.049118</td>\n",
              "    </tr>\n",
              "    <tr>\n",
              "      <th>3</th>\n",
              "      <td>0.279174</td>\n",
              "      <td>-0.026201</td>\n",
              "      <td>-0.123283</td>\n",
              "      <td>-0.996091</td>\n",
              "      <td>-0.983403</td>\n",
              "      <td>-0.990675</td>\n",
              "      <td>-0.997099</td>\n",
              "      <td>-0.982750</td>\n",
              "      <td>-0.989302</td>\n",
              "      <td>-0.938692</td>\n",
              "      <td>...</td>\n",
              "      <td>0.404573</td>\n",
              "      <td>-0.117290</td>\n",
              "      <td>-0.482845</td>\n",
              "      <td>-0.036788</td>\n",
              "      <td>-0.012892</td>\n",
              "      <td>0.640011</td>\n",
              "      <td>-0.485366</td>\n",
              "      <td>-0.848649</td>\n",
              "      <td>0.181935</td>\n",
              "      <td>-0.047663</td>\n",
              "    </tr>\n",
              "    <tr>\n",
              "      <th>4</th>\n",
              "      <td>0.276629</td>\n",
              "      <td>-0.016570</td>\n",
              "      <td>-0.115362</td>\n",
              "      <td>-0.998139</td>\n",
              "      <td>-0.980817</td>\n",
              "      <td>-0.990482</td>\n",
              "      <td>-0.998321</td>\n",
              "      <td>-0.979672</td>\n",
              "      <td>-0.990441</td>\n",
              "      <td>-0.942469</td>\n",
              "      <td>...</td>\n",
              "      <td>0.087753</td>\n",
              "      <td>-0.351471</td>\n",
              "      <td>-0.699205</td>\n",
              "      <td>0.123320</td>\n",
              "      <td>0.122542</td>\n",
              "      <td>0.693578</td>\n",
              "      <td>-0.615971</td>\n",
              "      <td>-0.847865</td>\n",
              "      <td>0.185151</td>\n",
              "      <td>-0.043892</td>\n",
              "    </tr>\n",
              "  </tbody>\n",
              "</table>\n",
              "<p>5 rows × 561 columns</p>\n",
              "</div>\n",
              "    <div class=\"colab-df-buttons\">\n",
              "\n",
              "  <div class=\"colab-df-container\">\n",
              "    <button class=\"colab-df-convert\" onclick=\"convertToInteractive('df-aa2c91d6-1c33-49ba-b834-ec534986574f')\"\n",
              "            title=\"Convert this dataframe to an interactive table.\"\n",
              "            style=\"display:none;\">\n",
              "\n",
              "  <svg xmlns=\"http://www.w3.org/2000/svg\" height=\"24px\" viewBox=\"0 -960 960 960\">\n",
              "    <path d=\"M120-120v-720h720v720H120Zm60-500h600v-160H180v160Zm220 220h160v-160H400v160Zm0 220h160v-160H400v160ZM180-400h160v-160H180v160Zm440 0h160v-160H620v160ZM180-180h160v-160H180v160Zm440 0h160v-160H620v160Z\"/>\n",
              "  </svg>\n",
              "    </button>\n",
              "\n",
              "  <style>\n",
              "    .colab-df-container {\n",
              "      display:flex;\n",
              "      gap: 12px;\n",
              "    }\n",
              "\n",
              "    .colab-df-convert {\n",
              "      background-color: #E8F0FE;\n",
              "      border: none;\n",
              "      border-radius: 50%;\n",
              "      cursor: pointer;\n",
              "      display: none;\n",
              "      fill: #1967D2;\n",
              "      height: 32px;\n",
              "      padding: 0 0 0 0;\n",
              "      width: 32px;\n",
              "    }\n",
              "\n",
              "    .colab-df-convert:hover {\n",
              "      background-color: #E2EBFA;\n",
              "      box-shadow: 0px 1px 2px rgba(60, 64, 67, 0.3), 0px 1px 3px 1px rgba(60, 64, 67, 0.15);\n",
              "      fill: #174EA6;\n",
              "    }\n",
              "\n",
              "    .colab-df-buttons div {\n",
              "      margin-bottom: 4px;\n",
              "    }\n",
              "\n",
              "    [theme=dark] .colab-df-convert {\n",
              "      background-color: #3B4455;\n",
              "      fill: #D2E3FC;\n",
              "    }\n",
              "\n",
              "    [theme=dark] .colab-df-convert:hover {\n",
              "      background-color: #434B5C;\n",
              "      box-shadow: 0px 1px 3px 1px rgba(0, 0, 0, 0.15);\n",
              "      filter: drop-shadow(0px 1px 2px rgba(0, 0, 0, 0.3));\n",
              "      fill: #FFFFFF;\n",
              "    }\n",
              "  </style>\n",
              "\n",
              "    <script>\n",
              "      const buttonEl =\n",
              "        document.querySelector('#df-aa2c91d6-1c33-49ba-b834-ec534986574f button.colab-df-convert');\n",
              "      buttonEl.style.display =\n",
              "        google.colab.kernel.accessAllowed ? 'block' : 'none';\n",
              "\n",
              "      async function convertToInteractive(key) {\n",
              "        const element = document.querySelector('#df-aa2c91d6-1c33-49ba-b834-ec534986574f');\n",
              "        const dataTable =\n",
              "          await google.colab.kernel.invokeFunction('convertToInteractive',\n",
              "                                                    [key], {});\n",
              "        if (!dataTable) return;\n",
              "\n",
              "        const docLinkHtml = 'Like what you see? Visit the ' +\n",
              "          '<a target=\"_blank\" href=https://colab.research.google.com/notebooks/data_table.ipynb>data table notebook</a>'\n",
              "          + ' to learn more about interactive tables.';\n",
              "        element.innerHTML = '';\n",
              "        dataTable['output_type'] = 'display_data';\n",
              "        await google.colab.output.renderOutput(dataTable, element);\n",
              "        const docLink = document.createElement('div');\n",
              "        docLink.innerHTML = docLinkHtml;\n",
              "        element.appendChild(docLink);\n",
              "      }\n",
              "    </script>\n",
              "  </div>\n",
              "\n",
              "\n",
              "<div id=\"df-e8b04473-9b1f-4089-979d-40fbcddb6468\">\n",
              "  <button class=\"colab-df-quickchart\" onclick=\"quickchart('df-e8b04473-9b1f-4089-979d-40fbcddb6468')\"\n",
              "            title=\"Suggest charts.\"\n",
              "            style=\"display:none;\">\n",
              "\n",
              "<svg xmlns=\"http://www.w3.org/2000/svg\" height=\"24px\"viewBox=\"0 0 24 24\"\n",
              "     width=\"24px\">\n",
              "    <g>\n",
              "        <path d=\"M19 3H5c-1.1 0-2 .9-2 2v14c0 1.1.9 2 2 2h14c1.1 0 2-.9 2-2V5c0-1.1-.9-2-2-2zM9 17H7v-7h2v7zm4 0h-2V7h2v10zm4 0h-2v-4h2v4z\"/>\n",
              "    </g>\n",
              "</svg>\n",
              "  </button>\n",
              "\n",
              "<style>\n",
              "  .colab-df-quickchart {\n",
              "    background-color: #E8F0FE;\n",
              "    border: none;\n",
              "    border-radius: 50%;\n",
              "    cursor: pointer;\n",
              "    display: none;\n",
              "    fill: #1967D2;\n",
              "    height: 32px;\n",
              "    padding: 0 0 0 0;\n",
              "    width: 32px;\n",
              "  }\n",
              "\n",
              "  .colab-df-quickchart:hover {\n",
              "    background-color: #E2EBFA;\n",
              "    box-shadow: 0px 1px 2px rgba(60, 64, 67, 0.3), 0px 1px 3px 1px rgba(60, 64, 67, 0.15);\n",
              "    fill: #174EA6;\n",
              "  }\n",
              "\n",
              "  [theme=dark] .colab-df-quickchart {\n",
              "    background-color: #3B4455;\n",
              "    fill: #D2E3FC;\n",
              "  }\n",
              "\n",
              "  [theme=dark] .colab-df-quickchart:hover {\n",
              "    background-color: #434B5C;\n",
              "    box-shadow: 0px 1px 3px 1px rgba(0, 0, 0, 0.15);\n",
              "    filter: drop-shadow(0px 1px 2px rgba(0, 0, 0, 0.3));\n",
              "    fill: #FFFFFF;\n",
              "  }\n",
              "</style>\n",
              "\n",
              "  <script>\n",
              "    async function quickchart(key) {\n",
              "      const charts = await google.colab.kernel.invokeFunction(\n",
              "          'suggestCharts', [key], {});\n",
              "    }\n",
              "    (() => {\n",
              "      let quickchartButtonEl =\n",
              "        document.querySelector('#df-e8b04473-9b1f-4089-979d-40fbcddb6468 button');\n",
              "      quickchartButtonEl.style.display =\n",
              "        google.colab.kernel.accessAllowed ? 'block' : 'none';\n",
              "    })();\n",
              "  </script>\n",
              "</div>\n",
              "    </div>\n",
              "  </div>\n"
            ]
          },
          "metadata": {},
          "execution_count": 8
        }
      ]
    },
    {
      "cell_type": "code",
      "source": [
        "from sklearn.ensemble import RandomForestClassifier\n",
        "from sklearn.metrics import accuracy_score\n",
        "import pandas as pd\n",
        "import warnings\n",
        "warnings.filterwarnings('ignore')\n",
        "\n",
        "# 결정 트리에서 사용한 get_human_dataset() 이용해서 학습/테스트용 데이터프레임 반환\n",
        "X_train, X_test, y_train, y_test = get_human_dataset()\n",
        "\n",
        "# 랜덤 포레스트 학습\n",
        "rf_clf = RandomForestClassifier(n_estimators=100, random_state = 1, max_depth = 8)\n",
        "rf_clf.fit(X_train, y_train)\n",
        "pred = rf_clf.predict(X_test)\n",
        "accuracy = accuracy_score(y_test, pred)\n",
        "\n",
        "print(\"정확도: \", accuracy)"
      ],
      "metadata": {
        "colab": {
          "base_uri": "https://localhost:8080/"
        },
        "id": "6TkDH4N0zGC5",
        "outputId": "5f61e3db-f5ac-4554-e2fa-3718f535cab1"
      },
      "execution_count": null,
      "outputs": [
        {
          "output_type": "stream",
          "name": "stdout",
          "text": [
            "정확도:  0.9219545300305395\n"
          ]
        }
      ]
    },
    {
      "cell_type": "code",
      "source": [
        "from sklearn.model_selection import GridSearchCV\n",
        "params = {\n",
        "    'n_estimators' : [50, 100, 150],\n",
        "    'max_depth' : [8, 16, 24],\n",
        "    'min_samples_leaf' : [1, 6, 12],\n",
        "    'min_samples_split' : [2, 8, 16]\n",
        "}\n",
        "\n",
        "# RandomForestClassifier 객체 생성 후, GridSearchCV\n",
        "rf_clf = RandomForestClassifier(random_state = 1, n_jobs = -1)  # 병렬처리\n",
        "grid_cv = GridSearchCV(rf_clf, param_grid = params, cv = 2, n_jobs=-1) # 병렬처리\n",
        "grid_cv.fit(X_train, y_train)\n",
        "\n",
        "print('최적 하이퍼 파라미터:\\n', grid_cv.best_params_)\n",
        "print('최고 예측 정확도: {0:.4f}'.format(grid_cv.best_score_))\n"
      ],
      "metadata": {
        "colab": {
          "base_uri": "https://localhost:8080/"
        },
        "id": "AU0i0WUQ0hOy",
        "outputId": "fa4bfc61-83f4-4316-ce67-766017e479db"
      },
      "execution_count": null,
      "outputs": [
        {
          "output_type": "stream",
          "name": "stdout",
          "text": [
            "최적 하이퍼 파라미터:\n",
            " {'max_depth': 8, 'min_samples_leaf': 1, 'min_samples_split': 2, 'n_estimators': 150}\n",
            "최고 예측 정확도: 0.9609\n"
          ]
        }
      ]
    },
    {
      "cell_type": "markdown",
      "source": [
        "## GBM\n",
        "- 단점 : 속도가 매우 느림\n",
        "- 보완 : XGboost, LightGBM"
      ],
      "metadata": {
        "id": "D2fa9z2y_DW5"
      }
    },
    {
      "cell_type": "code",
      "source": [
        "from sklearn.ensemble import GradientBoostingClassifier\n",
        "import time\n",
        "import warnings\n",
        "\n",
        "warnings.filterwarnings('ignore')\n",
        "X_train, X_test, y_train, y_test = get_human_dataset()"
      ],
      "metadata": {
        "id": "qwDaNkfw-88W"
      },
      "execution_count": null,
      "outputs": []
    },
    {
      "cell_type": "markdown",
      "source": [
        "#### 수행시간 측정"
      ],
      "metadata": {
        "id": "gZA0bshQ_nXp"
      }
    },
    {
      "cell_type": "code",
      "source": [
        "start_time = time.time()\n",
        "\n",
        "gb_clf = GradientBoostingClassifier(random_state = 0)\n",
        "gb_clf.fit(X_train, y_train)\n",
        "gb_pred = gb_clf.predict(X_test)\n",
        "gb_accuracy = accuracy_score(y_test, gb_pred)\n",
        "\n",
        "print(\"수행시간: {0:.1f}초\" .format(time.time() - start_time))"
      ],
      "metadata": {
        "colab": {
          "base_uri": "https://localhost:8080/"
        },
        "id": "C1Lucu2s3CdB",
        "outputId": "d0f003aa-15aa-4df7-df13-e4637e495510"
      },
      "execution_count": null,
      "outputs": [
        {
          "output_type": "stream",
          "name": "stdout",
          "text": [
            "수행시간: 1025.0초\n"
          ]
        }
      ]
    },
    {
      "cell_type": "markdown",
      "source": [
        "## XGBoost\n",
        "- https://xgboost.readthedocs.io/en/stable/\n",
        "- 과적합 방지 : https://xgboost.readthedocs.io/en/stable/tutorials/param_tuning.html"
      ],
      "metadata": {
        "id": "iw4hm0b2as51"
      }
    },
    {
      "cell_type": "code",
      "source": [
        "import xgboost\n",
        "print(xgboost.__version__)"
      ],
      "metadata": {
        "colab": {
          "base_uri": "https://localhost:8080/"
        },
        "id": "rwaOlI6L_4eE",
        "outputId": "13fd87a6-a994-427f-87d3-dd23e3815fce"
      },
      "execution_count": null,
      "outputs": [
        {
          "output_type": "stream",
          "name": "stdout",
          "text": [
            "1.7.6\n"
          ]
        }
      ]
    },
    {
      "cell_type": "markdown",
      "source": [
        "- 228 p\n",
        "    - 파이썬 래퍼 XGBoost 하이퍼 파라미터\n",
        "        - xgboost.DMatrix() 데이터를 변환해서 사용한다"
      ],
      "metadata": {
        "id": "_ZcqVLYfbA7T"
      }
    },
    {
      "cell_type": "markdown",
      "source": [
        "#### STEP 0. 라이브러리 불러오기, 환경설정"
      ],
      "metadata": {
        "id": "ymosibqHcmPO"
      }
    },
    {
      "cell_type": "code",
      "source": [
        "import xgboost as xgb\n",
        "from xgboost import plot_importance\n",
        "import pandas as pd\n",
        "import numpy as np\n",
        "from sklearn.datasets import load_breast_cancer\n",
        "from sklearn.model_selection import train_test_split\n",
        "import warnings\n",
        "warnings.filterwarnings('ignore')"
      ],
      "metadata": {
        "id": "qeUzXsdYaxoI"
      },
      "execution_count": null,
      "outputs": []
    },
    {
      "cell_type": "markdown",
      "source": [
        "#### STEP 1. 데이터셋 불러오기"
      ],
      "metadata": {
        "id": "B9FQn564ctb2"
      }
    },
    {
      "cell_type": "code",
      "source": [
        "dataset = load_breast_cancer()\n",
        "features = dataset.data # 독립변수\n",
        "labels = dataset.target # 종속변수\n",
        "\n",
        "cancer_df = pd.DataFrame(data=features, columns=dataset.feature_names)\n",
        "cancer_df['target'] = labels\n",
        "cancer_df.head(3)"
      ],
      "metadata": {
        "colab": {
          "base_uri": "https://localhost:8080/",
          "height": 228
        },
        "id": "6ZnBjPnhcrq2",
        "outputId": "706c8dd8-e947-4de9-b1f6-8477bf6f868a"
      },
      "execution_count": null,
      "outputs": [
        {
          "output_type": "execute_result",
          "data": {
            "text/plain": [
              "   mean radius  mean texture  mean perimeter  mean area  mean smoothness  \\\n",
              "0        17.99         10.38           122.8     1001.0          0.11840   \n",
              "1        20.57         17.77           132.9     1326.0          0.08474   \n",
              "2        19.69         21.25           130.0     1203.0          0.10960   \n",
              "\n",
              "   mean compactness  mean concavity  mean concave points  mean symmetry  \\\n",
              "0           0.27760          0.3001              0.14710         0.2419   \n",
              "1           0.07864          0.0869              0.07017         0.1812   \n",
              "2           0.15990          0.1974              0.12790         0.2069   \n",
              "\n",
              "   mean fractal dimension  ...  worst texture  worst perimeter  worst area  \\\n",
              "0                 0.07871  ...          17.33            184.6      2019.0   \n",
              "1                 0.05667  ...          23.41            158.8      1956.0   \n",
              "2                 0.05999  ...          25.53            152.5      1709.0   \n",
              "\n",
              "   worst smoothness  worst compactness  worst concavity  worst concave points  \\\n",
              "0            0.1622             0.6656           0.7119                0.2654   \n",
              "1            0.1238             0.1866           0.2416                0.1860   \n",
              "2            0.1444             0.4245           0.4504                0.2430   \n",
              "\n",
              "   worst symmetry  worst fractal dimension  target  \n",
              "0          0.4601                  0.11890       0  \n",
              "1          0.2750                  0.08902       0  \n",
              "2          0.3613                  0.08758       0  \n",
              "\n",
              "[3 rows x 31 columns]"
            ],
            "text/html": [
              "\n",
              "  <div id=\"df-12cda5bb-c580-4b83-9f49-7dab43146946\" class=\"colab-df-container\">\n",
              "    <div>\n",
              "<style scoped>\n",
              "    .dataframe tbody tr th:only-of-type {\n",
              "        vertical-align: middle;\n",
              "    }\n",
              "\n",
              "    .dataframe tbody tr th {\n",
              "        vertical-align: top;\n",
              "    }\n",
              "\n",
              "    .dataframe thead th {\n",
              "        text-align: right;\n",
              "    }\n",
              "</style>\n",
              "<table border=\"1\" class=\"dataframe\">\n",
              "  <thead>\n",
              "    <tr style=\"text-align: right;\">\n",
              "      <th></th>\n",
              "      <th>mean radius</th>\n",
              "      <th>mean texture</th>\n",
              "      <th>mean perimeter</th>\n",
              "      <th>mean area</th>\n",
              "      <th>mean smoothness</th>\n",
              "      <th>mean compactness</th>\n",
              "      <th>mean concavity</th>\n",
              "      <th>mean concave points</th>\n",
              "      <th>mean symmetry</th>\n",
              "      <th>mean fractal dimension</th>\n",
              "      <th>...</th>\n",
              "      <th>worst texture</th>\n",
              "      <th>worst perimeter</th>\n",
              "      <th>worst area</th>\n",
              "      <th>worst smoothness</th>\n",
              "      <th>worst compactness</th>\n",
              "      <th>worst concavity</th>\n",
              "      <th>worst concave points</th>\n",
              "      <th>worst symmetry</th>\n",
              "      <th>worst fractal dimension</th>\n",
              "      <th>target</th>\n",
              "    </tr>\n",
              "  </thead>\n",
              "  <tbody>\n",
              "    <tr>\n",
              "      <th>0</th>\n",
              "      <td>17.99</td>\n",
              "      <td>10.38</td>\n",
              "      <td>122.8</td>\n",
              "      <td>1001.0</td>\n",
              "      <td>0.11840</td>\n",
              "      <td>0.27760</td>\n",
              "      <td>0.3001</td>\n",
              "      <td>0.14710</td>\n",
              "      <td>0.2419</td>\n",
              "      <td>0.07871</td>\n",
              "      <td>...</td>\n",
              "      <td>17.33</td>\n",
              "      <td>184.6</td>\n",
              "      <td>2019.0</td>\n",
              "      <td>0.1622</td>\n",
              "      <td>0.6656</td>\n",
              "      <td>0.7119</td>\n",
              "      <td>0.2654</td>\n",
              "      <td>0.4601</td>\n",
              "      <td>0.11890</td>\n",
              "      <td>0</td>\n",
              "    </tr>\n",
              "    <tr>\n",
              "      <th>1</th>\n",
              "      <td>20.57</td>\n",
              "      <td>17.77</td>\n",
              "      <td>132.9</td>\n",
              "      <td>1326.0</td>\n",
              "      <td>0.08474</td>\n",
              "      <td>0.07864</td>\n",
              "      <td>0.0869</td>\n",
              "      <td>0.07017</td>\n",
              "      <td>0.1812</td>\n",
              "      <td>0.05667</td>\n",
              "      <td>...</td>\n",
              "      <td>23.41</td>\n",
              "      <td>158.8</td>\n",
              "      <td>1956.0</td>\n",
              "      <td>0.1238</td>\n",
              "      <td>0.1866</td>\n",
              "      <td>0.2416</td>\n",
              "      <td>0.1860</td>\n",
              "      <td>0.2750</td>\n",
              "      <td>0.08902</td>\n",
              "      <td>0</td>\n",
              "    </tr>\n",
              "    <tr>\n",
              "      <th>2</th>\n",
              "      <td>19.69</td>\n",
              "      <td>21.25</td>\n",
              "      <td>130.0</td>\n",
              "      <td>1203.0</td>\n",
              "      <td>0.10960</td>\n",
              "      <td>0.15990</td>\n",
              "      <td>0.1974</td>\n",
              "      <td>0.12790</td>\n",
              "      <td>0.2069</td>\n",
              "      <td>0.05999</td>\n",
              "      <td>...</td>\n",
              "      <td>25.53</td>\n",
              "      <td>152.5</td>\n",
              "      <td>1709.0</td>\n",
              "      <td>0.1444</td>\n",
              "      <td>0.4245</td>\n",
              "      <td>0.4504</td>\n",
              "      <td>0.2430</td>\n",
              "      <td>0.3613</td>\n",
              "      <td>0.08758</td>\n",
              "      <td>0</td>\n",
              "    </tr>\n",
              "  </tbody>\n",
              "</table>\n",
              "<p>3 rows × 31 columns</p>\n",
              "</div>\n",
              "    <div class=\"colab-df-buttons\">\n",
              "\n",
              "  <div class=\"colab-df-container\">\n",
              "    <button class=\"colab-df-convert\" onclick=\"convertToInteractive('df-12cda5bb-c580-4b83-9f49-7dab43146946')\"\n",
              "            title=\"Convert this dataframe to an interactive table.\"\n",
              "            style=\"display:none;\">\n",
              "\n",
              "  <svg xmlns=\"http://www.w3.org/2000/svg\" height=\"24px\" viewBox=\"0 -960 960 960\">\n",
              "    <path d=\"M120-120v-720h720v720H120Zm60-500h600v-160H180v160Zm220 220h160v-160H400v160Zm0 220h160v-160H400v160ZM180-400h160v-160H180v160Zm440 0h160v-160H620v160ZM180-180h160v-160H180v160Zm440 0h160v-160H620v160Z\"/>\n",
              "  </svg>\n",
              "    </button>\n",
              "\n",
              "  <style>\n",
              "    .colab-df-container {\n",
              "      display:flex;\n",
              "      gap: 12px;\n",
              "    }\n",
              "\n",
              "    .colab-df-convert {\n",
              "      background-color: #E8F0FE;\n",
              "      border: none;\n",
              "      border-radius: 50%;\n",
              "      cursor: pointer;\n",
              "      display: none;\n",
              "      fill: #1967D2;\n",
              "      height: 32px;\n",
              "      padding: 0 0 0 0;\n",
              "      width: 32px;\n",
              "    }\n",
              "\n",
              "    .colab-df-convert:hover {\n",
              "      background-color: #E2EBFA;\n",
              "      box-shadow: 0px 1px 2px rgba(60, 64, 67, 0.3), 0px 1px 3px 1px rgba(60, 64, 67, 0.15);\n",
              "      fill: #174EA6;\n",
              "    }\n",
              "\n",
              "    .colab-df-buttons div {\n",
              "      margin-bottom: 4px;\n",
              "    }\n",
              "\n",
              "    [theme=dark] .colab-df-convert {\n",
              "      background-color: #3B4455;\n",
              "      fill: #D2E3FC;\n",
              "    }\n",
              "\n",
              "    [theme=dark] .colab-df-convert:hover {\n",
              "      background-color: #434B5C;\n",
              "      box-shadow: 0px 1px 3px 1px rgba(0, 0, 0, 0.15);\n",
              "      filter: drop-shadow(0px 1px 2px rgba(0, 0, 0, 0.3));\n",
              "      fill: #FFFFFF;\n",
              "    }\n",
              "  </style>\n",
              "\n",
              "    <script>\n",
              "      const buttonEl =\n",
              "        document.querySelector('#df-12cda5bb-c580-4b83-9f49-7dab43146946 button.colab-df-convert');\n",
              "      buttonEl.style.display =\n",
              "        google.colab.kernel.accessAllowed ? 'block' : 'none';\n",
              "\n",
              "      async function convertToInteractive(key) {\n",
              "        const element = document.querySelector('#df-12cda5bb-c580-4b83-9f49-7dab43146946');\n",
              "        const dataTable =\n",
              "          await google.colab.kernel.invokeFunction('convertToInteractive',\n",
              "                                                    [key], {});\n",
              "        if (!dataTable) return;\n",
              "\n",
              "        const docLinkHtml = 'Like what you see? Visit the ' +\n",
              "          '<a target=\"_blank\" href=https://colab.research.google.com/notebooks/data_table.ipynb>data table notebook</a>'\n",
              "          + ' to learn more about interactive tables.';\n",
              "        element.innerHTML = '';\n",
              "        dataTable['output_type'] = 'display_data';\n",
              "        await google.colab.output.renderOutput(dataTable, element);\n",
              "        const docLink = document.createElement('div');\n",
              "        docLink.innerHTML = docLinkHtml;\n",
              "        element.appendChild(docLink);\n",
              "      }\n",
              "    </script>\n",
              "  </div>\n",
              "\n",
              "\n",
              "<div id=\"df-79add70d-600d-4bdc-bd36-fe2247488198\">\n",
              "  <button class=\"colab-df-quickchart\" onclick=\"quickchart('df-79add70d-600d-4bdc-bd36-fe2247488198')\"\n",
              "            title=\"Suggest charts.\"\n",
              "            style=\"display:none;\">\n",
              "\n",
              "<svg xmlns=\"http://www.w3.org/2000/svg\" height=\"24px\"viewBox=\"0 0 24 24\"\n",
              "     width=\"24px\">\n",
              "    <g>\n",
              "        <path d=\"M19 3H5c-1.1 0-2 .9-2 2v14c0 1.1.9 2 2 2h14c1.1 0 2-.9 2-2V5c0-1.1-.9-2-2-2zM9 17H7v-7h2v7zm4 0h-2V7h2v10zm4 0h-2v-4h2v4z\"/>\n",
              "    </g>\n",
              "</svg>\n",
              "  </button>\n",
              "\n",
              "<style>\n",
              "  .colab-df-quickchart {\n",
              "    background-color: #E8F0FE;\n",
              "    border: none;\n",
              "    border-radius: 50%;\n",
              "    cursor: pointer;\n",
              "    display: none;\n",
              "    fill: #1967D2;\n",
              "    height: 32px;\n",
              "    padding: 0 0 0 0;\n",
              "    width: 32px;\n",
              "  }\n",
              "\n",
              "  .colab-df-quickchart:hover {\n",
              "    background-color: #E2EBFA;\n",
              "    box-shadow: 0px 1px 2px rgba(60, 64, 67, 0.3), 0px 1px 3px 1px rgba(60, 64, 67, 0.15);\n",
              "    fill: #174EA6;\n",
              "  }\n",
              "\n",
              "  [theme=dark] .colab-df-quickchart {\n",
              "    background-color: #3B4455;\n",
              "    fill: #D2E3FC;\n",
              "  }\n",
              "\n",
              "  [theme=dark] .colab-df-quickchart:hover {\n",
              "    background-color: #434B5C;\n",
              "    box-shadow: 0px 1px 3px 1px rgba(0, 0, 0, 0.15);\n",
              "    filter: drop-shadow(0px 1px 2px rgba(0, 0, 0, 0.3));\n",
              "    fill: #FFFFFF;\n",
              "  }\n",
              "</style>\n",
              "\n",
              "  <script>\n",
              "    async function quickchart(key) {\n",
              "      const charts = await google.colab.kernel.invokeFunction(\n",
              "          'suggestCharts', [key], {});\n",
              "    }\n",
              "    (() => {\n",
              "      let quickchartButtonEl =\n",
              "        document.querySelector('#df-79add70d-600d-4bdc-bd36-fe2247488198 button');\n",
              "      quickchartButtonEl.style.display =\n",
              "        google.colab.kernel.accessAllowed ? 'block' : 'none';\n",
              "    })();\n",
              "  </script>\n",
              "</div>\n",
              "    </div>\n",
              "  </div>\n"
            ]
          },
          "metadata": {},
          "execution_count": 57
        }
      ]
    },
    {
      "cell_type": "code",
      "source": [
        "print(dataset.target_names)\n",
        "print(cancer_df['target'].value_counts())"
      ],
      "metadata": {
        "colab": {
          "base_uri": "https://localhost:8080/"
        },
        "id": "Bb6VGYNbdzjw",
        "outputId": "176a40aa-0885-4c0c-c2ee-0cabcc5ce309"
      },
      "execution_count": null,
      "outputs": [
        {
          "output_type": "stream",
          "name": "stdout",
          "text": [
            "['malignant' 'benign']\n",
            "1    357\n",
            "0    212\n",
            "Name: target, dtype: int64\n"
          ]
        }
      ]
    },
    {
      "cell_type": "markdown",
      "source": [
        "#### STEP 2. 훈련데이터와 테스트데이터로 분리\n",
        "- X_tr : 훈련데이터 80%\n",
        "    - X_val : 검증데이터 (훈련데이터의 10%, 나머지 90%가 실제 훈련데이터)\n",
        "- X_test : 테스트데이터 20%"
      ],
      "metadata": {
        "id": "CU-BAcd9eedB"
      }
    },
    {
      "cell_type": "code",
      "source": [
        "X_features = cancer_df.iloc[:, :-1]\n",
        "y_label = cancer_df.iloc[:, -1]"
      ],
      "metadata": {
        "id": "9f1gjgR-eABY"
      },
      "execution_count": null,
      "outputs": []
    },
    {
      "cell_type": "code",
      "source": [
        "X_train, X_test, y_train, y_test = train_test_split(X_features, y_label, test_size = 0.2, random_state = 156)\n",
        "X_train.shape, X_test.shape, y_train.shape, y_test.shape"
      ],
      "metadata": {
        "colab": {
          "base_uri": "https://localhost:8080/"
        },
        "id": "SQH5z_0yesmC",
        "outputId": "fd918c2a-6b24-4f65-dc94-6aa57fda6fe2"
      },
      "execution_count": null,
      "outputs": [
        {
          "output_type": "execute_result",
          "data": {
            "text/plain": [
              "((455, 30), (114, 30), (455,), (114,))"
            ]
          },
          "metadata": {},
          "execution_count": 60
        }
      ]
    },
    {
      "cell_type": "code",
      "source": [
        "X_tr, X_val, y_tr, y_val = train_test_split(X_train, y_train, test_size = 0.1, random_state = 156)\n",
        "\n",
        "print(X_train.shape, X_test.shape)\n",
        "print(X_tr.shape, X_val.shape)"
      ],
      "metadata": {
        "colab": {
          "base_uri": "https://localhost:8080/"
        },
        "id": "fVqaHnMhe9zW",
        "outputId": "d4ae7387-3b47-49c8-bca8-0bf0819cc33d"
      },
      "execution_count": null,
      "outputs": [
        {
          "output_type": "stream",
          "name": "stdout",
          "text": [
            "(455, 30) (114, 30)\n",
            "(409, 30) (46, 30)\n"
          ]
        }
      ]
    },
    {
      "cell_type": "markdown",
      "source": [
        "#### STEP 3. 데이터 변환(XGBoost 객체)"
      ],
      "metadata": {
        "id": "BBMBrCHAh0t9"
      }
    },
    {
      "cell_type": "code",
      "source": [
        "# p.234 [🚩핵심코드]\n",
        "dtr = xgb.DMatrix(data=X_tr, label=y_tr)\n",
        "dval = xgb.DMatrix(data=X_val, label=y_val)\n",
        "dtest = xgb.DMatrix(data=X_test, label=y_test)"
      ],
      "metadata": {
        "id": "FrfR-JVvfiCW"
      },
      "execution_count": null,
      "outputs": []
    },
    {
      "cell_type": "code",
      "source": [
        "params = {\n",
        "    'max_depth': 3,\n",
        "    'eta':0.05,\n",
        "    'objective':'binary:logistic',\n",
        "    'eval_metric':'logloss'  # 오차\n",
        "}\n",
        "\n",
        "num_rounds = 300\n",
        "\n",
        "# 236p. 훈련 / 검증 데이터셋\n",
        "eval_list = [(dtr, 'train'), (dval, 'eval')]\n",
        "\n",
        "xgb_model = xgb.train(params=params, dtrain=dtr, num_boost_round=num_rounds,\n",
        "                      early_stopping_rounds=50, evals=eval_list)"
      ],
      "metadata": {
        "colab": {
          "base_uri": "https://localhost:8080/"
        },
        "id": "tnyrYyREhi2q",
        "outputId": "b1970457-801d-4927-a9a2-f257d8ef44cb"
      },
      "execution_count": null,
      "outputs": [
        {
          "output_type": "stream",
          "name": "stdout",
          "text": [
            "[0]\ttrain-logloss:0.65016\teval-logloss:0.66183\n",
            "[1]\ttrain-logloss:0.61131\teval-logloss:0.63609\n",
            "[2]\ttrain-logloss:0.57563\teval-logloss:0.61144\n",
            "[3]\ttrain-logloss:0.54310\teval-logloss:0.59204\n",
            "[4]\ttrain-logloss:0.51323\teval-logloss:0.57329\n",
            "[5]\ttrain-logloss:0.48447\teval-logloss:0.55037\n",
            "[6]\ttrain-logloss:0.45796\teval-logloss:0.52930\n",
            "[7]\ttrain-logloss:0.43436\teval-logloss:0.51534\n",
            "[8]\ttrain-logloss:0.41150\teval-logloss:0.49718\n",
            "[9]\ttrain-logloss:0.39027\teval-logloss:0.48154\n",
            "[10]\ttrain-logloss:0.37128\teval-logloss:0.46990\n",
            "[11]\ttrain-logloss:0.35254\teval-logloss:0.45474\n",
            "[12]\ttrain-logloss:0.33528\teval-logloss:0.44229\n",
            "[13]\ttrain-logloss:0.31892\teval-logloss:0.42961\n",
            "[14]\ttrain-logloss:0.30439\teval-logloss:0.42065\n",
            "[15]\ttrain-logloss:0.29000\teval-logloss:0.40958\n",
            "[16]\ttrain-logloss:0.27651\teval-logloss:0.39887\n",
            "[17]\ttrain-logloss:0.26389\teval-logloss:0.39050\n",
            "[18]\ttrain-logloss:0.25210\teval-logloss:0.38254\n",
            "[19]\ttrain-logloss:0.24123\teval-logloss:0.37393\n",
            "[20]\ttrain-logloss:0.23076\teval-logloss:0.36789\n",
            "[21]\ttrain-logloss:0.22091\teval-logloss:0.36017\n",
            "[22]\ttrain-logloss:0.21155\teval-logloss:0.35421\n",
            "[23]\ttrain-logloss:0.20263\teval-logloss:0.34683\n",
            "[24]\ttrain-logloss:0.19434\teval-logloss:0.34111\n",
            "[25]\ttrain-logloss:0.18637\teval-logloss:0.33634\n",
            "[26]\ttrain-logloss:0.17875\teval-logloss:0.33082\n",
            "[27]\ttrain-logloss:0.17167\teval-logloss:0.32675\n",
            "[28]\ttrain-logloss:0.16481\teval-logloss:0.32099\n",
            "[29]\ttrain-logloss:0.15835\teval-logloss:0.31671\n",
            "[30]\ttrain-logloss:0.15225\teval-logloss:0.31277\n",
            "[31]\ttrain-logloss:0.14650\teval-logloss:0.30882\n",
            "[32]\ttrain-logloss:0.14102\teval-logloss:0.30437\n",
            "[33]\ttrain-logloss:0.13590\teval-logloss:0.30103\n",
            "[34]\ttrain-logloss:0.13109\teval-logloss:0.29794\n",
            "[35]\ttrain-logloss:0.12647\teval-logloss:0.29499\n",
            "[36]\ttrain-logloss:0.12197\teval-logloss:0.29295\n",
            "[37]\ttrain-logloss:0.11784\teval-logloss:0.29043\n",
            "[38]\ttrain-logloss:0.11379\teval-logloss:0.28927\n",
            "[39]\ttrain-logloss:0.10994\teval-logloss:0.28578\n",
            "[40]\ttrain-logloss:0.10638\teval-logloss:0.28364\n",
            "[41]\ttrain-logloss:0.10302\teval-logloss:0.28183\n",
            "[42]\ttrain-logloss:0.09963\teval-logloss:0.28005\n",
            "[43]\ttrain-logloss:0.09649\teval-logloss:0.27972\n",
            "[44]\ttrain-logloss:0.09359\teval-logloss:0.27744\n",
            "[45]\ttrain-logloss:0.09080\teval-logloss:0.27542\n",
            "[46]\ttrain-logloss:0.08807\teval-logloss:0.27504\n",
            "[47]\ttrain-logloss:0.08541\teval-logloss:0.27458\n",
            "[48]\ttrain-logloss:0.08299\teval-logloss:0.27348\n",
            "[49]\ttrain-logloss:0.08035\teval-logloss:0.27247\n",
            "[50]\ttrain-logloss:0.07786\teval-logloss:0.27163\n",
            "[51]\ttrain-logloss:0.07550\teval-logloss:0.27094\n",
            "[52]\ttrain-logloss:0.07344\teval-logloss:0.26967\n",
            "[53]\ttrain-logloss:0.07147\teval-logloss:0.27008\n",
            "[54]\ttrain-logloss:0.06964\teval-logloss:0.26890\n",
            "[55]\ttrain-logloss:0.06766\teval-logloss:0.26854\n",
            "[56]\ttrain-logloss:0.06591\teval-logloss:0.26900\n",
            "[57]\ttrain-logloss:0.06433\teval-logloss:0.26790\n",
            "[58]\ttrain-logloss:0.06259\teval-logloss:0.26663\n",
            "[59]\ttrain-logloss:0.06107\teval-logloss:0.26743\n",
            "[60]\ttrain-logloss:0.05957\teval-logloss:0.26610\n",
            "[61]\ttrain-logloss:0.05817\teval-logloss:0.26644\n",
            "[62]\ttrain-logloss:0.05691\teval-logloss:0.26673\n",
            "[63]\ttrain-logloss:0.05550\teval-logloss:0.26550\n",
            "[64]\ttrain-logloss:0.05422\teval-logloss:0.26443\n",
            "[65]\ttrain-logloss:0.05311\teval-logloss:0.26500\n",
            "[66]\ttrain-logloss:0.05207\teval-logloss:0.26591\n",
            "[67]\ttrain-logloss:0.05093\teval-logloss:0.26501\n",
            "[68]\ttrain-logloss:0.04976\teval-logloss:0.26435\n",
            "[69]\ttrain-logloss:0.04872\teval-logloss:0.26360\n",
            "[70]\ttrain-logloss:0.04776\teval-logloss:0.26319\n",
            "[71]\ttrain-logloss:0.04680\teval-logloss:0.26255\n",
            "[72]\ttrain-logloss:0.04580\teval-logloss:0.26204\n",
            "[73]\ttrain-logloss:0.04484\teval-logloss:0.26254\n",
            "[74]\ttrain-logloss:0.04388\teval-logloss:0.26289\n",
            "[75]\ttrain-logloss:0.04309\teval-logloss:0.26249\n",
            "[76]\ttrain-logloss:0.04224\teval-logloss:0.26217\n",
            "[77]\ttrain-logloss:0.04133\teval-logloss:0.26166\n",
            "[78]\ttrain-logloss:0.04050\teval-logloss:0.26179\n",
            "[79]\ttrain-logloss:0.03967\teval-logloss:0.26103\n",
            "[80]\ttrain-logloss:0.03876\teval-logloss:0.26094\n",
            "[81]\ttrain-logloss:0.03806\teval-logloss:0.26148\n",
            "[82]\ttrain-logloss:0.03740\teval-logloss:0.26054\n",
            "[83]\ttrain-logloss:0.03676\teval-logloss:0.25967\n",
            "[84]\ttrain-logloss:0.03605\teval-logloss:0.25905\n",
            "[85]\ttrain-logloss:0.03545\teval-logloss:0.26007\n",
            "[86]\ttrain-logloss:0.03489\teval-logloss:0.25984\n",
            "[87]\ttrain-logloss:0.03425\teval-logloss:0.25933\n",
            "[88]\ttrain-logloss:0.03361\teval-logloss:0.25932\n",
            "[89]\ttrain-logloss:0.03311\teval-logloss:0.26002\n",
            "[90]\ttrain-logloss:0.03260\teval-logloss:0.25936\n",
            "[91]\ttrain-logloss:0.03202\teval-logloss:0.25886\n",
            "[92]\ttrain-logloss:0.03152\teval-logloss:0.25918\n",
            "[93]\ttrain-logloss:0.03107\teval-logloss:0.25864\n",
            "[94]\ttrain-logloss:0.03049\teval-logloss:0.25951\n",
            "[95]\ttrain-logloss:0.03007\teval-logloss:0.26091\n",
            "[96]\ttrain-logloss:0.02963\teval-logloss:0.26014\n",
            "[97]\ttrain-logloss:0.02913\teval-logloss:0.25974\n",
            "[98]\ttrain-logloss:0.02866\teval-logloss:0.25937\n",
            "[99]\ttrain-logloss:0.02829\teval-logloss:0.25893\n",
            "[100]\ttrain-logloss:0.02789\teval-logloss:0.25928\n",
            "[101]\ttrain-logloss:0.02751\teval-logloss:0.25955\n",
            "[102]\ttrain-logloss:0.02714\teval-logloss:0.25901\n",
            "[103]\ttrain-logloss:0.02668\teval-logloss:0.25991\n",
            "[104]\ttrain-logloss:0.02634\teval-logloss:0.25950\n",
            "[105]\ttrain-logloss:0.02594\teval-logloss:0.25924\n",
            "[106]\ttrain-logloss:0.02556\teval-logloss:0.25901\n",
            "[107]\ttrain-logloss:0.02522\teval-logloss:0.25738\n",
            "[108]\ttrain-logloss:0.02492\teval-logloss:0.25702\n",
            "[109]\ttrain-logloss:0.02453\teval-logloss:0.25789\n",
            "[110]\ttrain-logloss:0.02418\teval-logloss:0.25770\n",
            "[111]\ttrain-logloss:0.02384\teval-logloss:0.25842\n",
            "[112]\ttrain-logloss:0.02356\teval-logloss:0.25810\n",
            "[113]\ttrain-logloss:0.02322\teval-logloss:0.25848\n",
            "[114]\ttrain-logloss:0.02290\teval-logloss:0.25833\n",
            "[115]\ttrain-logloss:0.02260\teval-logloss:0.25820\n",
            "[116]\ttrain-logloss:0.02229\teval-logloss:0.25905\n",
            "[117]\ttrain-logloss:0.02204\teval-logloss:0.25878\n",
            "[118]\ttrain-logloss:0.02176\teval-logloss:0.25728\n",
            "[119]\ttrain-logloss:0.02149\teval-logloss:0.25722\n",
            "[120]\ttrain-logloss:0.02119\teval-logloss:0.25764\n",
            "[121]\ttrain-logloss:0.02095\teval-logloss:0.25761\n",
            "[122]\ttrain-logloss:0.02067\teval-logloss:0.25832\n",
            "[123]\ttrain-logloss:0.02045\teval-logloss:0.25808\n",
            "[124]\ttrain-logloss:0.02023\teval-logloss:0.25855\n",
            "[125]\ttrain-logloss:0.01998\teval-logloss:0.25714\n",
            "[126]\ttrain-logloss:0.01973\teval-logloss:0.25587\n",
            "[127]\ttrain-logloss:0.01946\teval-logloss:0.25640\n",
            "[128]\ttrain-logloss:0.01927\teval-logloss:0.25685\n",
            "[129]\ttrain-logloss:0.01908\teval-logloss:0.25665\n",
            "[130]\ttrain-logloss:0.01886\teval-logloss:0.25712\n",
            "[131]\ttrain-logloss:0.01863\teval-logloss:0.25609\n",
            "[132]\ttrain-logloss:0.01839\teval-logloss:0.25649\n",
            "[133]\ttrain-logloss:0.01816\teval-logloss:0.25789\n",
            "[134]\ttrain-logloss:0.01802\teval-logloss:0.25811\n",
            "[135]\ttrain-logloss:0.01785\teval-logloss:0.25794\n",
            "[136]\ttrain-logloss:0.01763\teval-logloss:0.25876\n",
            "[137]\ttrain-logloss:0.01748\teval-logloss:0.25884\n",
            "[138]\ttrain-logloss:0.01732\teval-logloss:0.25867\n",
            "[139]\ttrain-logloss:0.01719\teval-logloss:0.25876\n",
            "[140]\ttrain-logloss:0.01696\teval-logloss:0.25987\n",
            "[141]\ttrain-logloss:0.01681\teval-logloss:0.25960\n",
            "[142]\ttrain-logloss:0.01669\teval-logloss:0.25982\n",
            "[143]\ttrain-logloss:0.01656\teval-logloss:0.25992\n",
            "[144]\ttrain-logloss:0.01638\teval-logloss:0.26035\n",
            "[145]\ttrain-logloss:0.01623\teval-logloss:0.26055\n",
            "[146]\ttrain-logloss:0.01606\teval-logloss:0.26092\n",
            "[147]\ttrain-logloss:0.01589\teval-logloss:0.26137\n",
            "[148]\ttrain-logloss:0.01572\teval-logloss:0.25999\n",
            "[149]\ttrain-logloss:0.01556\teval-logloss:0.26028\n",
            "[150]\ttrain-logloss:0.01546\teval-logloss:0.26048\n",
            "[151]\ttrain-logloss:0.01531\teval-logloss:0.26142\n",
            "[152]\ttrain-logloss:0.01515\teval-logloss:0.26188\n",
            "[153]\ttrain-logloss:0.01501\teval-logloss:0.26227\n",
            "[154]\ttrain-logloss:0.01486\teval-logloss:0.26287\n",
            "[155]\ttrain-logloss:0.01476\teval-logloss:0.26299\n",
            "[156]\ttrain-logloss:0.01462\teval-logloss:0.26346\n",
            "[157]\ttrain-logloss:0.01448\teval-logloss:0.26379\n",
            "[158]\ttrain-logloss:0.01434\teval-logloss:0.26306\n",
            "[159]\ttrain-logloss:0.01424\teval-logloss:0.26237\n",
            "[160]\ttrain-logloss:0.01410\teval-logloss:0.26251\n",
            "[161]\ttrain-logloss:0.01401\teval-logloss:0.26265\n",
            "[162]\ttrain-logloss:0.01392\teval-logloss:0.26264\n",
            "[163]\ttrain-logloss:0.01380\teval-logloss:0.26250\n",
            "[164]\ttrain-logloss:0.01372\teval-logloss:0.26264\n",
            "[165]\ttrain-logloss:0.01359\teval-logloss:0.26255\n",
            "[166]\ttrain-logloss:0.01350\teval-logloss:0.26188\n",
            "[167]\ttrain-logloss:0.01342\teval-logloss:0.26203\n",
            "[168]\ttrain-logloss:0.01331\teval-logloss:0.26190\n",
            "[169]\ttrain-logloss:0.01319\teval-logloss:0.26184\n",
            "[170]\ttrain-logloss:0.01312\teval-logloss:0.26133\n",
            "[171]\ttrain-logloss:0.01304\teval-logloss:0.26148\n",
            "[172]\ttrain-logloss:0.01297\teval-logloss:0.26157\n",
            "[173]\ttrain-logloss:0.01285\teval-logloss:0.26253\n",
            "[174]\ttrain-logloss:0.01278\teval-logloss:0.26229\n",
            "[175]\ttrain-logloss:0.01267\teval-logloss:0.26086\n"
          ]
        }
      ]
    },
    {
      "cell_type": "code",
      "source": [
        "pred_probs = xgb_model.predict(dtest)\n",
        "print('predict( ) 수행 결과값을 10개만 표시, 예측 확률 값으로 표시됨')\n",
        "print(np.round(pred_probs[:10],3))\n",
        "\n",
        "# 예측 확률이 0.5 보다 크면 1 , 그렇지 않으면 0 으로 예측값 결정하여 List 객체인 preds에 저장\n",
        "preds = [ 1 if x > 0.5 else 0 for x in pred_probs ]\n",
        "print('예측값 10개만 표시:',preds[:10])"
      ],
      "metadata": {
        "colab": {
          "base_uri": "https://localhost:8080/"
        },
        "id": "kHaT9wiGjKAC",
        "outputId": "098e4b64-1fed-422b-cb52-611255ac1fa2"
      },
      "execution_count": null,
      "outputs": [
        {
          "output_type": "stream",
          "name": "stdout",
          "text": [
            "predict( ) 수행 결과값을 10개만 표시, 예측 확률 값으로 표시됨\n",
            "[0.845 0.008 0.68  0.081 0.975 0.999 0.998 0.998 0.996 0.001]\n",
            "예측값 10개만 표시: [1, 0, 1, 0, 1, 1, 1, 1, 1, 0]\n"
          ]
        }
      ]
    },
    {
      "cell_type": "code",
      "source": [
        "from sklearn.metrics import confusion_matrix, accuracy_score\n",
        "from sklearn.metrics import precision_score, recall_score\n",
        "from sklearn.metrics import f1_score, roc_auc_score\n",
        "\n",
        "def get_clf_eval(y_test, pred=None, pred_proba=None):\n",
        "    confusion = confusion_matrix( y_test, pred)\n",
        "    accuracy = accuracy_score(y_test , pred)\n",
        "    precision = precision_score(y_test , pred)\n",
        "    recall = recall_score(y_test , pred)\n",
        "    f1 = f1_score(y_test,pred)\n",
        "    # ROC-AUC 추가\n",
        "    roc_auc = roc_auc_score(y_test, pred_proba)\n",
        "    print('오차 행렬')\n",
        "    print(confusion)\n",
        "    # ROC-AUC print 추가\n",
        "    print('정확도: {0:.4f}, 정밀도: {1:.4f}, 재현율: {2:.4f},\\\n",
        "    F1: {3:.4f}, AUC:{4:.4f}'.format(accuracy, precision, recall, f1, roc_auc))\n",
        "\n",
        "get_clf_eval(y_test, preds, pred_probs)"
      ],
      "metadata": {
        "colab": {
          "base_uri": "https://localhost:8080/"
        },
        "id": "yT7Rf1i4j5sk",
        "outputId": "cd8ad25c-a998-4b83-ed6a-c6268697727f"
      },
      "execution_count": null,
      "outputs": [
        {
          "output_type": "stream",
          "name": "stdout",
          "text": [
            "오차 행렬\n",
            "[[34  3]\n",
            " [ 2 75]]\n",
            "정확도: 0.9561, 정밀도: 0.9615, 재현율: 0.9740,    F1: 0.9677, AUC:0.9937\n"
          ]
        }
      ]
    },
    {
      "cell_type": "code",
      "source": [
        "import matplotlib.pyplot as plt\n",
        "\n",
        "fig, ax = plt.subplots(figsize = (10, 12))\n",
        "plot_importance(xgb_model, ax=ax)"
      ],
      "metadata": {
        "colab": {
          "base_uri": "https://localhost:8080/",
          "height": 900
        },
        "id": "_ub91k4KkRlS",
        "outputId": "f8cbbf07-6326-46aa-96b0-10b58e563651"
      },
      "execution_count": null,
      "outputs": [
        {
          "output_type": "execute_result",
          "data": {
            "text/plain": [
              "<Axes: title={'center': 'Feature importance'}, xlabel='F score', ylabel='Features'>"
            ]
          },
          "metadata": {},
          "execution_count": 66
        },
        {
          "output_type": "display_data",
          "data": {
            "text/plain": [
              "<Figure size 1000x1200 with 1 Axes>"
            ],
            "image/png": "[encoded data removed]"
          },
          "metadata": {}
        }
      ]
    },
    {
      "cell_type": "markdown",
      "source": [
        "## LightGBM"
      ],
      "metadata": {
        "id": "yKj4MzfloXr9"
      }
    },
    {
      "cell_type": "markdown",
      "source": [
        "#### STEP 0. 환경설정"
      ],
      "metadata": {
        "id": "PvZ4TVFtoaf2"
      }
    },
    {
      "cell_type": "code",
      "source": [
        "import xgboost as xgb\n",
        "from xgboost import plot_importance\n",
        "from lightgbm import LGBMClassifier\n",
        "import pandas as pd\n",
        "import numpy as np\n",
        "from sklearn.datasets import load_breast_cancer\n",
        "from sklearn.model_selection import train_test_split\n",
        "import warnings\n",
        "warnings.filterwarnings('ignore')"
      ],
      "metadata": {
        "id": "EiXaRHv7pfHD"
      },
      "execution_count": null,
      "outputs": []
    },
    {
      "cell_type": "markdown",
      "source": [
        "#### STEP 1. 데이터셋 불러오기"
      ],
      "metadata": {
        "id": "NKiNqQQwploO"
      }
    },
    {
      "cell_type": "code",
      "source": [
        "dataset = load_breast_cancer()\n",
        "features = dataset.data # 독립변수\n",
        "labels = dataset.target # 종속변수\n",
        "\n",
        "cancer_df = pd.DataFrame(data=features, columns=dataset.feature_names)\n",
        "cancer_df['target'] = y_label"
      ],
      "metadata": {
        "id": "gPs2NeW_krFG"
      },
      "execution_count": null,
      "outputs": []
    },
    {
      "cell_type": "markdown",
      "source": [
        "#### STEP 2. 데이터 분리"
      ],
      "metadata": {
        "id": "ms9bn1e2ppZs"
      }
    },
    {
      "cell_type": "code",
      "source": [
        "X_features = cancer_df.iloc[:, :-1]\n",
        "y_label = cancer_df.iloc[:, -1]\n",
        "\n",
        "X_train, X_test, y_train, y_test = train_test_split(X_features, y_label, test_size = 0.1, random_state = 156)\n",
        "X_tr, X_val, y_tr, y_val = train_test_split(X_train, y_train, test_size = 0.1, random_state = 156)\n"
      ],
      "metadata": {
        "id": "RXVsL-hRpeQj"
      },
      "execution_count": null,
      "outputs": []
    },
    {
      "cell_type": "markdown",
      "source": [
        "#### STEP 3. 모델링\n",
        "- 사이킷런 래퍼 형태로 진행\n",
        "- 미니과제 : python 래퍼 형태로 변경해서 코드 완성"
      ],
      "metadata": {
        "id": "T0UHsf88qTJo"
      }
    },
    {
      "cell_type": "code",
      "source": [
        "# 251p\n",
        "\n",
        "lbgm_wrapper = LGBMClassifier(n_estimators=400, learning_rate=0.05)\n",
        "\n",
        "# 조기 중단 수행 가능\n",
        "evals = [(X_tr, y_tr), (X_val, y_val)]\n",
        "lbgm_wrapper.fit(X_tr, y_tr, early_stopping_rounds=50, eval_metric='logloss', eval_set = evals,\n",
        "                 verbose = True)\n",
        "\n",
        "preds = lbgm_wrapper.predict(X_test)\n",
        "pred_proba = lbgm_wrapper.predict_proba(X_test)[:, 1]"
      ],
      "metadata": {
        "colab": {
          "base_uri": "https://localhost:8080/"
        },
        "id": "KEQTcsquqJjY",
        "outputId": "d6a6b051-3377-445a-b6e8-fe4c0d737ead"
      },
      "execution_count": null,
      "outputs": [
        {
          "output_type": "stream",
          "name": "stdout",
          "text": [
            "[1]\ttraining's binary_logloss: 0.620353\tvalid_1's binary_logloss: 0.647246\n",
            "[2]\ttraining's binary_logloss: 0.583961\tvalid_1's binary_logloss: 0.611136\n",
            "[3]\ttraining's binary_logloss: 0.551164\tvalid_1's binary_logloss: 0.579893\n",
            "[4]\ttraining's binary_logloss: 0.521415\tvalid_1's binary_logloss: 0.551315\n",
            "[5]\ttraining's binary_logloss: 0.494306\tvalid_1's binary_logloss: 0.525797\n",
            "[6]\ttraining's binary_logloss: 0.468135\tvalid_1's binary_logloss: 0.502377\n",
            "[7]\ttraining's binary_logloss: 0.444167\tvalid_1's binary_logloss: 0.480596\n",
            "[8]\ttraining's binary_logloss: 0.423093\tvalid_1's binary_logloss: 0.461496\n",
            "[9]\ttraining's binary_logloss: 0.401745\tvalid_1's binary_logloss: 0.443786\n",
            "[10]\ttraining's binary_logloss: 0.383176\tvalid_1's binary_logloss: 0.429351\n",
            "[11]\ttraining's binary_logloss: 0.364724\tvalid_1's binary_logloss: 0.414741\n",
            "[12]\ttraining's binary_logloss: 0.348665\tvalid_1's binary_logloss: 0.402674\n",
            "[13]\ttraining's binary_logloss: 0.332613\tvalid_1's binary_logloss: 0.38964\n",
            "[14]\ttraining's binary_logloss: 0.317605\tvalid_1's binary_logloss: 0.37751\n",
            "[15]\ttraining's binary_logloss: 0.303554\tvalid_1's binary_logloss: 0.36626\n",
            "[16]\ttraining's binary_logloss: 0.29042\tvalid_1's binary_logloss: 0.356236\n",
            "[17]\ttraining's binary_logloss: 0.277916\tvalid_1's binary_logloss: 0.346207\n",
            "[18]\ttraining's binary_logloss: 0.26566\tvalid_1's binary_logloss: 0.336912\n",
            "[19]\ttraining's binary_logloss: 0.254982\tvalid_1's binary_logloss: 0.327072\n",
            "[20]\ttraining's binary_logloss: 0.244103\tvalid_1's binary_logloss: 0.320883\n",
            "[21]\ttraining's binary_logloss: 0.234503\tvalid_1's binary_logloss: 0.314424\n",
            "[22]\ttraining's binary_logloss: 0.224874\tvalid_1's binary_logloss: 0.306988\n",
            "[23]\ttraining's binary_logloss: 0.215364\tvalid_1's binary_logloss: 0.298143\n",
            "[24]\ttraining's binary_logloss: 0.207177\tvalid_1's binary_logloss: 0.293396\n",
            "[25]\ttraining's binary_logloss: 0.198252\tvalid_1's binary_logloss: 0.285604\n",
            "[26]\ttraining's binary_logloss: 0.190287\tvalid_1's binary_logloss: 0.278072\n",
            "[27]\ttraining's binary_logloss: 0.182588\tvalid_1's binary_logloss: 0.273405\n",
            "[28]\ttraining's binary_logloss: 0.17551\tvalid_1's binary_logloss: 0.266347\n",
            "[29]\ttraining's binary_logloss: 0.168516\tvalid_1's binary_logloss: 0.262206\n",
            "[30]\ttraining's binary_logloss: 0.161836\tvalid_1's binary_logloss: 0.256433\n",
            "[31]\ttraining's binary_logloss: 0.15532\tvalid_1's binary_logloss: 0.253851\n",
            "[32]\ttraining's binary_logloss: 0.149641\tvalid_1's binary_logloss: 0.248089\n",
            "[33]\ttraining's binary_logloss: 0.143941\tvalid_1's binary_logloss: 0.24518\n",
            "[34]\ttraining's binary_logloss: 0.138966\tvalid_1's binary_logloss: 0.242004\n",
            "[35]\ttraining's binary_logloss: 0.133506\tvalid_1's binary_logloss: 0.240604\n",
            "[36]\ttraining's binary_logloss: 0.128622\tvalid_1's binary_logloss: 0.237441\n",
            "[37]\ttraining's binary_logloss: 0.123727\tvalid_1's binary_logloss: 0.235512\n",
            "[38]\ttraining's binary_logloss: 0.119064\tvalid_1's binary_logloss: 0.23313\n",
            "[39]\ttraining's binary_logloss: 0.114765\tvalid_1's binary_logloss: 0.231883\n",
            "[40]\ttraining's binary_logloss: 0.11086\tvalid_1's binary_logloss: 0.230085\n",
            "[41]\ttraining's binary_logloss: 0.106672\tvalid_1's binary_logloss: 0.229374\n",
            "[42]\ttraining's binary_logloss: 0.103\tvalid_1's binary_logloss: 0.225773\n",
            "[43]\ttraining's binary_logloss: 0.0993532\tvalid_1's binary_logloss: 0.224732\n",
            "[44]\ttraining's binary_logloss: 0.0962276\tvalid_1's binary_logloss: 0.223116\n",
            "[45]\ttraining's binary_logloss: 0.0929412\tvalid_1's binary_logloss: 0.222184\n",
            "[46]\ttraining's binary_logloss: 0.0900164\tvalid_1's binary_logloss: 0.221339\n",
            "[47]\ttraining's binary_logloss: 0.0869128\tvalid_1's binary_logloss: 0.219251\n",
            "[48]\ttraining's binary_logloss: 0.0837151\tvalid_1's binary_logloss: 0.219237\n",
            "[49]\ttraining's binary_logloss: 0.0804902\tvalid_1's binary_logloss: 0.21666\n",
            "[50]\ttraining's binary_logloss: 0.0773094\tvalid_1's binary_logloss: 0.214057\n",
            "[51]\ttraining's binary_logloss: 0.0746196\tvalid_1's binary_logloss: 0.211244\n",
            "[52]\ttraining's binary_logloss: 0.0718287\tvalid_1's binary_logloss: 0.210782\n",
            "[53]\ttraining's binary_logloss: 0.0690708\tvalid_1's binary_logloss: 0.208999\n",
            "[54]\ttraining's binary_logloss: 0.0665545\tvalid_1's binary_logloss: 0.208554\n",
            "[55]\ttraining's binary_logloss: 0.0640863\tvalid_1's binary_logloss: 0.207922\n",
            "[56]\ttraining's binary_logloss: 0.0617462\tvalid_1's binary_logloss: 0.207317\n",
            "[57]\ttraining's binary_logloss: 0.0595055\tvalid_1's binary_logloss: 0.206922\n",
            "[58]\ttraining's binary_logloss: 0.0573858\tvalid_1's binary_logloss: 0.20662\n",
            "[59]\ttraining's binary_logloss: 0.0549416\tvalid_1's binary_logloss: 0.20847\n",
            "[60]\ttraining's binary_logloss: 0.0530585\tvalid_1's binary_logloss: 0.208388\n",
            "[61]\ttraining's binary_logloss: 0.0512327\tvalid_1's binary_logloss: 0.208039\n",
            "[62]\ttraining's binary_logloss: 0.0490941\tvalid_1's binary_logloss: 0.210188\n",
            "[63]\ttraining's binary_logloss: 0.0470757\tvalid_1's binary_logloss: 0.211596\n",
            "[64]\ttraining's binary_logloss: 0.0454787\tvalid_1's binary_logloss: 0.210548\n",
            "[65]\ttraining's binary_logloss: 0.0436347\tvalid_1's binary_logloss: 0.212133\n",
            "[66]\ttraining's binary_logloss: 0.0421729\tvalid_1's binary_logloss: 0.213289\n",
            "[67]\ttraining's binary_logloss: 0.0405003\tvalid_1's binary_logloss: 0.215918\n",
            "[68]\ttraining's binary_logloss: 0.0390811\tvalid_1's binary_logloss: 0.216171\n",
            "[69]\ttraining's binary_logloss: 0.0378139\tvalid_1's binary_logloss: 0.21679\n",
            "[70]\ttraining's binary_logloss: 0.0365571\tvalid_1's binary_logloss: 0.215496\n",
            "[71]\ttraining's binary_logloss: 0.0353091\tvalid_1's binary_logloss: 0.217243\n",
            "[72]\ttraining's binary_logloss: 0.0342029\tvalid_1's binary_logloss: 0.218657\n",
            "[73]\ttraining's binary_logloss: 0.0328908\tvalid_1's binary_logloss: 0.219876\n",
            "[74]\ttraining's binary_logloss: 0.0316924\tvalid_1's binary_logloss: 0.219321\n",
            "[75]\ttraining's binary_logloss: 0.0307269\tvalid_1's binary_logloss: 0.22085\n",
            "[76]\ttraining's binary_logloss: 0.0296622\tvalid_1's binary_logloss: 0.220413\n",
            "[77]\ttraining's binary_logloss: 0.0285831\tvalid_1's binary_logloss: 0.223258\n",
            "[78]\ttraining's binary_logloss: 0.0275329\tvalid_1's binary_logloss: 0.225178\n",
            "[79]\ttraining's binary_logloss: 0.0264866\tvalid_1's binary_logloss: 0.224676\n",
            "[80]\ttraining's binary_logloss: 0.0257041\tvalid_1's binary_logloss: 0.226199\n",
            "[81]\ttraining's binary_logloss: 0.024769\tvalid_1's binary_logloss: 0.228059\n",
            "[82]\ttraining's binary_logloss: 0.0240583\tvalid_1's binary_logloss: 0.22964\n",
            "[83]\ttraining's binary_logloss: 0.0232891\tvalid_1's binary_logloss: 0.231256\n",
            "[84]\ttraining's binary_logloss: 0.0224334\tvalid_1's binary_logloss: 0.233106\n",
            "[85]\ttraining's binary_logloss: 0.0216209\tvalid_1's binary_logloss: 0.235495\n",
            "[86]\ttraining's binary_logloss: 0.0210158\tvalid_1's binary_logloss: 0.237097\n",
            "[87]\ttraining's binary_logloss: 0.0204027\tvalid_1's binary_logloss: 0.238175\n",
            "[88]\ttraining's binary_logloss: 0.0195748\tvalid_1's binary_logloss: 0.237016\n",
            "[89]\ttraining's binary_logloss: 0.0189396\tvalid_1's binary_logloss: 0.238807\n",
            "[90]\ttraining's binary_logloss: 0.0183114\tvalid_1's binary_logloss: 0.241111\n",
            "[91]\ttraining's binary_logloss: 0.0175827\tvalid_1's binary_logloss: 0.240003\n",
            "[92]\ttraining's binary_logloss: 0.0170115\tvalid_1's binary_logloss: 0.243452\n",
            "[93]\ttraining's binary_logloss: 0.0163443\tvalid_1's binary_logloss: 0.242424\n",
            "[94]\ttraining's binary_logloss: 0.0158053\tvalid_1's binary_logloss: 0.243681\n",
            "[95]\ttraining's binary_logloss: 0.0153852\tvalid_1's binary_logloss: 0.245323\n",
            "[96]\ttraining's binary_logloss: 0.0149039\tvalid_1's binary_logloss: 0.246423\n",
            "[97]\ttraining's binary_logloss: 0.0143281\tvalid_1's binary_logloss: 0.245319\n",
            "[98]\ttraining's binary_logloss: 0.0138731\tvalid_1's binary_logloss: 0.248821\n",
            "[99]\ttraining's binary_logloss: 0.0134356\tvalid_1's binary_logloss: 0.250008\n",
            "[100]\ttraining's binary_logloss: 0.013088\tvalid_1's binary_logloss: 0.251621\n",
            "[101]\ttraining's binary_logloss: 0.0126184\tvalid_1's binary_logloss: 0.253742\n",
            "[102]\ttraining's binary_logloss: 0.0121641\tvalid_1's binary_logloss: 0.25478\n",
            "[103]\ttraining's binary_logloss: 0.0116779\tvalid_1's binary_logloss: 0.25508\n",
            "[104]\ttraining's binary_logloss: 0.0113841\tvalid_1's binary_logloss: 0.256685\n",
            "[105]\ttraining's binary_logloss: 0.0110039\tvalid_1's binary_logloss: 0.257939\n",
            "[106]\ttraining's binary_logloss: 0.0106238\tvalid_1's binary_logloss: 0.258917\n",
            "[107]\ttraining's binary_logloss: 0.0103409\tvalid_1's binary_logloss: 0.260255\n",
            "[108]\ttraining's binary_logloss: 0.00993401\tvalid_1's binary_logloss: 0.26051\n"
          ]
        }
      ]
    },
    {
      "cell_type": "markdown",
      "source": [
        "#### STEP 5. 평가"
      ],
      "metadata": {
        "id": "8HYUtSagrqCG"
      }
    },
    {
      "cell_type": "code",
      "source": [
        "get_clf_eval(y_test, preds, pred_probs)"
      ],
      "metadata": {
        "colab": {
          "base_uri": "https://localhost:8080/",
          "height": 176
        },
        "id": "uDKick9frnOW",
        "outputId": "1052688b-f960-4978-88e1-cd2ae2ad25f4"
      },
      "execution_count": 1,
      "outputs": [
        {
          "output_type": "error",
          "ename": "NameError",
          "evalue": "ignored",
          "traceback": [
            "\u001b[0;31m---------------------------------------------------------------------------\u001b[0m",
            "\u001b[0;31mNameError\u001b[0m                                 Traceback (most recent call last)",
            "\u001b[0;32m<ipython-input-1-696a080e77f6>\u001b[0m in \u001b[0;36m<cell line: 1>\u001b[0;34m()\u001b[0m\n\u001b[0;32m----> 1\u001b[0;31m \u001b[0mget_clf_eval\u001b[0m\u001b[0;34m(\u001b[0m\u001b[0my_test\u001b[0m\u001b[0;34m,\u001b[0m \u001b[0mpreds\u001b[0m\u001b[0;34m,\u001b[0m \u001b[0mpred_probs\u001b[0m\u001b[0;34m)\u001b[0m\u001b[0;34m\u001b[0m\u001b[0;34m\u001b[0m\u001b[0m\n\u001b[0m",
            "\u001b[0;31mNameError\u001b[0m: name 'get_clf_eval' is not defined"
          ]
        }
      ]
    }
  ]
}