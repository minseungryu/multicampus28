{
  "nbformat": 4,
  "nbformat_minor": 0,
  "metadata": {
    "colab": {
      "provenance": [],
      "gpuType": "T4"
    },
    "kernelspec": {
      "name": "python3",
      "display_name": "Python 3"
    },
    "language_info": {
      "name": "python"
    },
    "accelerator": "GPU"
  },
  "cells": [
    {
      "cell_type": "markdown",
      "source": [
        "## 데이터 불러오기"
      ],
      "metadata": {
        "id": "DQ-efLADWgc8"
      }
    },
    {
      "cell_type": "code",
      "execution_count": 1,
      "metadata": {
        "colab": {
          "base_uri": "https://localhost:8080/"
        },
        "id": "DghaSEq4V2OZ",
        "outputId": "a031ce5b-49d3-4af8-b8f6-8a80f22a688c"
      },
      "outputs": [
        {
          "output_type": "stream",
          "name": "stdout",
          "text": [
            "Downloading data from https://storage.googleapis.com/tensorflow/tf-keras-datasets/mnist.npz\n",
            "11490434/11490434 [==============================] - 1s 0us/step\n"
          ]
        }
      ],
      "source": [
        "from tensorflow.keras.datasets import mnist\n",
        "(train_images, train_labels), (test_images, test_labels) = mnist.load_data()"
      ]
    },
    {
      "cell_type": "markdown",
      "source": [
        "## 데이터 형태 확인"
      ],
      "metadata": {
        "id": "iegKZdShW5EZ"
      }
    },
    {
      "cell_type": "code",
      "source": [
        "train_images.shape # 3차원 배열"
      ],
      "metadata": {
        "colab": {
          "base_uri": "https://localhost:8080/"
        },
        "id": "BGIDxsBZW8IF",
        "outputId": "2180710e-3d02-4915-e23e-a1532de63b7f"
      },
      "execution_count": 2,
      "outputs": [
        {
          "output_type": "execute_result",
          "data": {
            "text/plain": [
              "(60000, 28, 28)"
            ]
          },
          "metadata": {},
          "execution_count": 2
        }
      ]
    },
    {
      "cell_type": "code",
      "source": [
        "len(train_labels)"
      ],
      "metadata": {
        "colab": {
          "base_uri": "https://localhost:8080/"
        },
        "id": "nVlzrApIXJqf",
        "outputId": "d3ba0380-ba91-44f0-bac1-e5027c6da959"
      },
      "execution_count": 3,
      "outputs": [
        {
          "output_type": "execute_result",
          "data": {
            "text/plain": [
              "60000"
            ]
          },
          "metadata": {},
          "execution_count": 3
        }
      ]
    },
    {
      "cell_type": "code",
      "source": [
        "train_labels[:5]"
      ],
      "metadata": {
        "colab": {
          "base_uri": "https://localhost:8080/"
        },
        "id": "3VmGo5u8XO7W",
        "outputId": "2f154157-3fc2-4ea4-fdd5-3bbfb91bb950"
      },
      "execution_count": 4,
      "outputs": [
        {
          "output_type": "execute_result",
          "data": {
            "text/plain": [
              "array([5, 0, 4, 1, 9], dtype=uint8)"
            ]
          },
          "metadata": {},
          "execution_count": 4
        }
      ]
    },
    {
      "cell_type": "code",
      "source": [
        "test_images.shape # 3차원 배열"
      ],
      "metadata": {
        "colab": {
          "base_uri": "https://localhost:8080/"
        },
        "id": "bRnrgmfvXWV3",
        "outputId": "2f7e4a6a-e200-4068-f278-104659eb4b13"
      },
      "execution_count": 5,
      "outputs": [
        {
          "output_type": "execute_result",
          "data": {
            "text/plain": [
              "(10000, 28, 28)"
            ]
          },
          "metadata": {},
          "execution_count": 5
        }
      ]
    },
    {
      "cell_type": "code",
      "source": [
        "test_labels"
      ],
      "metadata": {
        "colab": {
          "base_uri": "https://localhost:8080/"
        },
        "id": "NUlFeRxOXg_G",
        "outputId": "3e82301c-af68-4d38-d68d-3c5abac9f2af"
      },
      "execution_count": 6,
      "outputs": [
        {
          "output_type": "execute_result",
          "data": {
            "text/plain": [
              "array([7, 2, 1, ..., 4, 5, 6], dtype=uint8)"
            ]
          },
          "metadata": {},
          "execution_count": 6
        }
      ]
    },
    {
      "cell_type": "markdown",
      "source": [
        "## 신경망 구조"
      ],
      "metadata": {
        "id": "VkIrHi3JXrHA"
      }
    },
    {
      "cell_type": "code",
      "source": [
        "from tensorflow import keras\n",
        "from tensorflow.keras import layers\n",
        "model = keras.Sequential([\n",
        "    layers.Dense(512, activation=\"relu\"), # 입력\n",
        "    layers.Dense(10, activation=\"softmax\") # 출력, 10이 의미하는 것은 예측할 범주의 개수\n",
        "])"
      ],
      "metadata": {
        "id": "2hoLYE86Xti7"
      },
      "execution_count": 7,
      "outputs": []
    },
    {
      "cell_type": "markdown",
      "source": [
        "## 컴파일 단계\n",
        "- 어떤 형태로 훈련을 시킬 것이냐를 정의\n",
        "- 경사하강법 : 기울기를 찾는데, step을 어떤 식으로 정의하는 것\n",
        "- 경사하강법의 종류도 되게 많음"
      ],
      "metadata": {
        "id": "9B3Tj9bVZOcv"
      }
    },
    {
      "cell_type": "code",
      "source": [
        "model.compile(optimizer = 'rmsprop',\n",
        "               loss = 'sparse_categorical_crossentropy',\n",
        "               metrics=['accuracy'])"
      ],
      "metadata": {
        "id": "n1uT3H5_Z-JS"
      },
      "execution_count": 8,
      "outputs": []
    },
    {
      "cell_type": "markdown",
      "source": [
        "## 이미지 데이터 준비\n",
        "- 데이터를 모델에 맞는 크기로 변경\n",
        "  + 주의 이 때, 데이터타입 변경 (연산할 때, 데이터 타입 미 매칭으로 인한 오류)\n",
        "  + 기본값 float64, 텐서플로 기본값 float32"
      ],
      "metadata": {
        "id": "QQtZv1iUaf0D"
      }
    },
    {
      "cell_type": "code",
      "source": [
        "28 * 28"
      ],
      "metadata": {
        "colab": {
          "base_uri": "https://localhost:8080/"
        },
        "id": "CQ8q196PbVe1",
        "outputId": "f0a2a1bb-923b-4649-86d0-e25d03ee280e"
      },
      "execution_count": 9,
      "outputs": [
        {
          "output_type": "execute_result",
          "data": {
            "text/plain": [
              "784"
            ]
          },
          "metadata": {},
          "execution_count": 9
        }
      ]
    },
    {
      "cell_type": "code",
      "source": [
        "train_images = train_images.reshape((60000, 28 * 28))\n",
        "train_images = train_images.astype('float32') / 255 # [0, 255] rescale\n",
        "test_images = test_images.reshape((10000, 28 * 28))\n",
        "test_images = test_images.astype('float32') / 255 # [0, 255] rescale\n",
        "\n",
        "train_images.shape, test_images.shape"
      ],
      "metadata": {
        "colab": {
          "base_uri": "https://localhost:8080/"
        },
        "id": "gjkx-VdCahwK",
        "outputId": "74483f0d-dff3-47f0-aa36-92726ec7b6f6"
      },
      "execution_count": 10,
      "outputs": [
        {
          "output_type": "execute_result",
          "data": {
            "text/plain": [
              "((60000, 784), (10000, 784))"
            ]
          },
          "metadata": {},
          "execution_count": 10
        }
      ]
    },
    {
      "cell_type": "code",
      "source": [
        "60000/128"
      ],
      "metadata": {
        "colab": {
          "base_uri": "https://localhost:8080/"
        },
        "id": "EL5qvGLv3wCY",
        "outputId": "becf2ebd-0fee-45b5-a3c4-cac45baddd60"
      },
      "execution_count": 40,
      "outputs": [
        {
          "output_type": "execute_result",
          "data": {
            "text/plain": [
              "468.75"
            ]
          },
          "metadata": {},
          "execution_count": 40
        }
      ]
    },
    {
      "cell_type": "code",
      "source": [
        "model.fit(train_images, train_labels, epochs=5, batch_size=128)"
      ],
      "metadata": {
        "colab": {
          "base_uri": "https://localhost:8080/"
        },
        "id": "aEThL44bbrUG",
        "outputId": "cd0c314e-bc95-48fc-dd4d-0fc0ab88e0a2"
      },
      "execution_count": 11,
      "outputs": [
        {
          "output_type": "stream",
          "name": "stdout",
          "text": [
            "Epoch 1/5\n",
            "469/469 [==============================] - 7s 4ms/step - loss: 0.2655 - accuracy: 0.9235\n",
            "Epoch 2/5\n",
            "469/469 [==============================] - 2s 3ms/step - loss: 0.1069 - accuracy: 0.9682\n",
            "Epoch 3/5\n",
            "469/469 [==============================] - 2s 4ms/step - loss: 0.0694 - accuracy: 0.9797\n",
            "Epoch 4/5\n",
            "469/469 [==============================] - 2s 5ms/step - loss: 0.0506 - accuracy: 0.9851\n",
            "Epoch 5/5\n",
            "469/469 [==============================] - 2s 3ms/step - loss: 0.0382 - accuracy: 0.9884\n"
          ]
        },
        {
          "output_type": "execute_result",
          "data": {
            "text/plain": [
              "<keras.callbacks.History at 0x7c16f968b8e0>"
            ]
          },
          "metadata": {},
          "execution_count": 11
        }
      ]
    },
    {
      "cell_type": "code",
      "source": [
        "test_digits = test_images[0:5]\n",
        "predictions = model.predict(test_digits)\n",
        "predictions[0].argmax()"
      ],
      "metadata": {
        "colab": {
          "base_uri": "https://localhost:8080/"
        },
        "id": "f_WcYOd7aMqt",
        "outputId": "60b34b96-e591-4ad3-c8b6-74b1a3e3520f"
      },
      "execution_count": 12,
      "outputs": [
        {
          "output_type": "stream",
          "name": "stdout",
          "text": [
            "1/1 [==============================] - 0s 76ms/step\n"
          ]
        },
        {
          "output_type": "execute_result",
          "data": {
            "text/plain": [
              "7"
            ]
          },
          "metadata": {},
          "execution_count": 12
        }
      ]
    },
    {
      "cell_type": "code",
      "source": [
        "predictions[0][7]"
      ],
      "metadata": {
        "colab": {
          "base_uri": "https://localhost:8080/"
        },
        "id": "hztBMC1vcb1a",
        "outputId": "564ff69c-52fd-4b54-c2d5-be84ec0bfe39"
      },
      "execution_count": 13,
      "outputs": [
        {
          "output_type": "execute_result",
          "data": {
            "text/plain": [
              "0.9999987"
            ]
          },
          "metadata": {},
          "execution_count": 13
        }
      ]
    },
    {
      "cell_type": "code",
      "source": [
        "test_labels[0]"
      ],
      "metadata": {
        "colab": {
          "base_uri": "https://localhost:8080/"
        },
        "id": "Q9g8ac6XcfWD",
        "outputId": "bd22aef3-077d-4d20-d4af-693786fb7872"
      },
      "execution_count": 14,
      "outputs": [
        {
          "output_type": "execute_result",
          "data": {
            "text/plain": [
              "7"
            ]
          },
          "metadata": {},
          "execution_count": 14
        }
      ]
    },
    {
      "cell_type": "code",
      "source": [
        "test_loss, test_acc = model.evaluate(test_images, test_labels)\n",
        "print(\"테스트 정확도\", test_acc)"
      ],
      "metadata": {
        "colab": {
          "base_uri": "https://localhost:8080/"
        },
        "id": "d0s7td_IclGu",
        "outputId": "f3e90710-25f4-47d2-8ff4-4aff2a7edc30"
      },
      "execution_count": 15,
      "outputs": [
        {
          "output_type": "stream",
          "name": "stdout",
          "text": [
            "313/313 [==============================] - 1s 3ms/step - loss: 0.0667 - accuracy: 0.9789\n",
            "테스트 정확도 0.9789000153541565\n"
          ]
        }
      ]
    },
    {
      "cell_type": "markdown",
      "source": [
        "## 기본문법"
      ],
      "metadata": {
        "id": "Ke9HqayrvrpK"
      }
    },
    {
      "cell_type": "markdown",
      "source": [
        "### 스칼라(랭크-0 텐서)"
      ],
      "metadata": {
        "id": "3qFs6wMxySrG"
      }
    },
    {
      "cell_type": "code",
      "source": [
        "import numpy as np\n",
        "x = np.array(12) # 스칼라 (값 1개)\n",
        "x"
      ],
      "metadata": {
        "colab": {
          "base_uri": "https://localhost:8080/"
        },
        "id": "Kj5s3M1ryW5l",
        "outputId": "8eb129c6-8a92-4437-d136-c5fba95b84b8"
      },
      "execution_count": 16,
      "outputs": [
        {
          "output_type": "execute_result",
          "data": {
            "text/plain": [
              "array(12)"
            ]
          },
          "metadata": {},
          "execution_count": 16
        }
      ]
    },
    {
      "cell_type": "code",
      "source": [
        "x.ndim"
      ],
      "metadata": {
        "colab": {
          "base_uri": "https://localhost:8080/"
        },
        "id": "qOoQAaOxyRLO",
        "outputId": "f7971740-b8b7-4f2c-f7b7-e3f9d65beeeb"
      },
      "execution_count": 17,
      "outputs": [
        {
          "output_type": "execute_result",
          "data": {
            "text/plain": [
              "0"
            ]
          },
          "metadata": {},
          "execution_count": 17
        }
      ]
    },
    {
      "cell_type": "markdown",
      "source": [
        "### 벡터 (랭크-1 텐서)"
      ],
      "metadata": {
        "id": "RaG5mZOIyeMt"
      }
    },
    {
      "cell_type": "code",
      "source": [
        "x = np.array([12, 3, 6, 14, 7])\n",
        "x"
      ],
      "metadata": {
        "colab": {
          "base_uri": "https://localhost:8080/"
        },
        "id": "CggPA0jWyiJN",
        "outputId": "68ee9df3-588d-4ca9-f26f-e586ccc1b32f"
      },
      "execution_count": 19,
      "outputs": [
        {
          "output_type": "execute_result",
          "data": {
            "text/plain": [
              "array([12,  3,  6, 14,  7])"
            ]
          },
          "metadata": {},
          "execution_count": 19
        }
      ]
    },
    {
      "cell_type": "code",
      "source": [
        "x.shape, x.ndim # 1차원 배열 = 랭크-1 텐서 = 벡터"
      ],
      "metadata": {
        "colab": {
          "base_uri": "https://localhost:8080/"
        },
        "id": "04o3Tg_aymHc",
        "outputId": "48d6d1ec-a45f-4d86-ce9e-e5a53d15f521"
      },
      "execution_count": 21,
      "outputs": [
        {
          "output_type": "execute_result",
          "data": {
            "text/plain": [
              "((5,), 1)"
            ]
          },
          "metadata": {},
          "execution_count": 21
        }
      ]
    },
    {
      "cell_type": "markdown",
      "source": [
        "### 행렬(랭크-2 텐서)\n"
      ],
      "metadata": {
        "id": "0xbHPQ_5ywkE"
      }
    },
    {
      "cell_type": "code",
      "source": [
        "x = np.array([[5, 78, 2, 34, 0],\n",
        "              [6, 79, 3, 35, 1],\n",
        "              [7, 80, 4, 36, 2]])\n",
        "\n",
        "x.shape, x.ndim # 2차원 배열 = 랭크-2텐서 = 행렬"
      ],
      "metadata": {
        "colab": {
          "base_uri": "https://localhost:8080/"
        },
        "id": "eL4RNOYYy2dt",
        "outputId": "bad685ed-b1cf-41cc-c448-48826fd672aa"
      },
      "execution_count": 23,
      "outputs": [
        {
          "output_type": "execute_result",
          "data": {
            "text/plain": [
              "((3, 5), 2)"
            ]
          },
          "metadata": {},
          "execution_count": 23
        }
      ]
    },
    {
      "cell_type": "markdown",
      "source": [
        "### 랭크-3 텐서와 더 높은 랭크의 텐서"
      ],
      "metadata": {
        "id": "BG21dBRazFRV"
      }
    },
    {
      "cell_type": "code",
      "source": [
        "x = np.array([[[5, 78, 2, 34, 0],\n",
        "               [6, 79, 3, 35, 1],\n",
        "               [7, 80, 4, 36, 2]],\n",
        "              [[5, 78, 2, 34, 0],\n",
        "               [6, 79, 3, 35, 1],\n",
        "               [7, 80, 4, 36, 2]],\n",
        "              [[5, 78, 2, 34, 0],\n",
        "               [6, 79, 3, 35, 1],\n",
        "               [7, 80, 4, 36, 2]]])\n",
        "\n",
        "x.ndim, x.shape"
      ],
      "metadata": {
        "colab": {
          "base_uri": "https://localhost:8080/"
        },
        "id": "_81BqhqrzCtW",
        "outputId": "09bfb579-edae-4d23-ee59-225fddd4b915"
      },
      "execution_count": 24,
      "outputs": [
        {
          "output_type": "execute_result",
          "data": {
            "text/plain": [
              "(3, (3, 3, 5))"
            ]
          },
          "metadata": {},
          "execution_count": 24
        }
      ]
    },
    {
      "cell_type": "markdown",
      "source": [
        "## 데이터 다시보기"
      ],
      "metadata": {
        "id": "EcK5ew_10FpG"
      }
    },
    {
      "cell_type": "code",
      "source": [
        "from tensorflow.keras.datasets import mnist\n",
        "(train_images, train_labels), (test_images, test_labels) = mnist.load_data()"
      ],
      "metadata": {
        "id": "7GK0YJ6i0FIO"
      },
      "execution_count": 25,
      "outputs": []
    },
    {
      "cell_type": "code",
      "source": [
        "train_images.ndim"
      ],
      "metadata": {
        "colab": {
          "base_uri": "https://localhost:8080/"
        },
        "id": "BO4LFQHQ0Jt3",
        "outputId": "0591970b-93f5-46cc-962b-6836c6aa2013"
      },
      "execution_count": 26,
      "outputs": [
        {
          "output_type": "execute_result",
          "data": {
            "text/plain": [
              "3"
            ]
          },
          "metadata": {},
          "execution_count": 26
        }
      ]
    },
    {
      "cell_type": "code",
      "source": [
        "train_images.shape"
      ],
      "metadata": {
        "colab": {
          "base_uri": "https://localhost:8080/"
        },
        "id": "jkd8KHbz0M0Z",
        "outputId": "9ab81baa-eb83-47b3-f333-d0e61e01b55c"
      },
      "execution_count": 28,
      "outputs": [
        {
          "output_type": "execute_result",
          "data": {
            "text/plain": [
              "(60000, 28, 28)"
            ]
          },
          "metadata": {},
          "execution_count": 28
        }
      ]
    },
    {
      "cell_type": "code",
      "source": [
        "train_images.dtype"
      ],
      "metadata": {
        "colab": {
          "base_uri": "https://localhost:8080/"
        },
        "id": "OAPB4smD0YFj",
        "outputId": "b4612eac-ee64-40b4-c0d4-7aef452e4277"
      },
      "execution_count": 29,
      "outputs": [
        {
          "output_type": "execute_result",
          "data": {
            "text/plain": [
              "dtype('uint8')"
            ]
          },
          "metadata": {},
          "execution_count": 29
        }
      ]
    },
    {
      "cell_type": "markdown",
      "source": [
        "## 이미지 출력\n"
      ],
      "metadata": {
        "id": "S0Lg_oQ_0jFd"
      }
    },
    {
      "cell_type": "code",
      "source": [
        "import matplotlib.pyplot as plt\n",
        "digit = train_images[4]\n",
        "# plt.imshow(digit, cmap=plt.cm.binary)\n",
        "plt.imshow(digit)\n",
        "plt.show()"
      ],
      "metadata": {
        "colab": {
          "base_uri": "https://localhost:8080/",
          "height": 430
        },
        "id": "Ug542iJJ0pHC",
        "outputId": "c1477f35-efc3-4d2f-e222-e76b9dcb0ba9"
      },
      "execution_count": 31,
      "outputs": [
        {
          "output_type": "display_data",
          "data": {
            "text/plain": [
              "<Figure size 640x480 with 1 Axes>"
            ],
            "image/png": "[encoded data removed]"
          },
          "metadata": {}
        }
      ]
    },
    {
      "cell_type": "code",
      "source": [
        "fig, ax = plt.subplots()\n",
        "ax.imshow(digit, cmap=plt.cm.binary)\n",
        "plt.show()"
      ],
      "metadata": {
        "colab": {
          "base_uri": "https://localhost:8080/",
          "height": 430
        },
        "id": "Akygc7ni089c",
        "outputId": "0924041d-1c7b-4830-d999-5c4a50aa8399"
      },
      "execution_count": 32,
      "outputs": [
        {
          "output_type": "display_data",
          "data": {
            "text/plain": [
              "<Figure size 640x480 with 1 Axes>"
            ],
            "image/png": "[encoded data removed]"
          },
          "metadata": {}
        }
      ]
    },
    {
      "cell_type": "code",
      "source": [
        "train_labels[4]"
      ],
      "metadata": {
        "colab": {
          "base_uri": "https://localhost:8080/"
        },
        "id": "mn9oHXuL1Q5o",
        "outputId": "aa5ad595-c3c1-43b1-e647-80cd657fc0a1"
      },
      "execution_count": 33,
      "outputs": [
        {
          "output_type": "execute_result",
          "data": {
            "text/plain": [
              "9"
            ]
          },
          "metadata": {},
          "execution_count": 33
        }
      ]
    },
    {
      "cell_type": "markdown",
      "source": [
        "## NumPy로 텐서 조작하기"
      ],
      "metadata": {
        "id": "BUdHT0ZM1x4b"
      }
    },
    {
      "cell_type": "code",
      "source": [
        "my_slice = train_images[10:100] # 90개의 이미지를 가져옴\n",
        "my_slice.shape"
      ],
      "metadata": {
        "colab": {
          "base_uri": "https://localhost:8080/"
        },
        "id": "XihZphhK10tq",
        "outputId": "1c86ea99-46b3-45b2-9bbd-a4c08bec08b2"
      },
      "execution_count": 35,
      "outputs": [
        {
          "output_type": "execute_result",
          "data": {
            "text/plain": [
              "(90, 28, 28)"
            ]
          },
          "metadata": {},
          "execution_count": 35
        }
      ]
    },
    {
      "cell_type": "code",
      "source": [
        "my_slice = train_images[10:100, :, :]\n",
        "my_slice.shape"
      ],
      "metadata": {
        "colab": {
          "base_uri": "https://localhost:8080/"
        },
        "id": "nKxAROeh1_wD",
        "outputId": "e9b24393-936a-43c0-9dc9-b7fb61f6d757"
      },
      "execution_count": 36,
      "outputs": [
        {
          "output_type": "execute_result",
          "data": {
            "text/plain": [
              "(90, 28, 28)"
            ]
          },
          "metadata": {},
          "execution_count": 36
        }
      ]
    },
    {
      "cell_type": "code",
      "source": [
        "my_slice = train_images[10:100, 0:28, 0:28]\n",
        "my_slice.shape"
      ],
      "metadata": {
        "colab": {
          "base_uri": "https://localhost:8080/"
        },
        "id": "IO092g--2C4F",
        "outputId": "c5fd9d41-d6e1-4102-8396-8c3d01cfed46"
      },
      "execution_count": 37,
      "outputs": [
        {
          "output_type": "execute_result",
          "data": {
            "text/plain": [
              "(90, 28, 28)"
            ]
          },
          "metadata": {},
          "execution_count": 37
        }
      ]
    },
    {
      "cell_type": "code",
      "source": [
        "my_slice = train_images[:, 14:, 14:] # 오른쪽 아래\n",
        "my_slice.shape"
      ],
      "metadata": {
        "colab": {
          "base_uri": "https://localhost:8080/"
        },
        "id": "dTEagtcj2TAI",
        "outputId": "3f5e4898-257c-4f3e-dc00-9415cf19631d"
      },
      "execution_count": 38,
      "outputs": [
        {
          "output_type": "execute_result",
          "data": {
            "text/plain": [
              "(60000, 14, 14)"
            ]
          },
          "metadata": {},
          "execution_count": 38
        }
      ]
    },
    {
      "cell_type": "code",
      "source": [
        "my_slice = train_images[:, 7:-7, 7:-7]\n",
        "my_slice.shape"
      ],
      "metadata": {
        "colab": {
          "base_uri": "https://localhost:8080/"
        },
        "id": "Y7vwA3yd2oqY",
        "outputId": "73739988-8ecd-43fa-9ba2-a4a68c732922"
      },
      "execution_count": 39,
      "outputs": [
        {
          "output_type": "execute_result",
          "data": {
            "text/plain": [
              "(60000, 14, 14)"
            ]
          },
          "metadata": {},
          "execution_count": 39
        }
      ]
    },
    {
      "cell_type": "markdown",
      "source": [
        "## 배치 데이터\n",
        "- 딥러닝 모델은 한 번에 전체 데이터셋을 처리하지 않는다!\n",
        "- 대신 데이터를 작은 배치로 나눔!"
      ],
      "metadata": {
        "id": "J50borkC3IQz"
      }
    },
    {
      "cell_type": "code",
      "source": [
        "batch = train_images[:128] # 이미지 갯수를 나눔"
      ],
      "metadata": {
        "id": "8NdPAFdM2w7U"
      },
      "execution_count": null,
      "outputs": []
    },
    {
      "cell_type": "markdown",
      "source": [
        "## 텐서 연산\n",
        "-"
      ],
      "metadata": {
        "id": "fUMgPvEl7Dfl"
      }
    },
    {
      "cell_type": "code",
      "source": [
        "# keras.layers.Dense(512, activation=\"relu\")"
      ],
      "metadata": {
        "id": "oWY3Lr403nIP"
      },
      "execution_count": null,
      "outputs": []
    },
    {
      "cell_type": "code",
      "source": [
        "# relu 함수 구현\n",
        "def naive_relu(x): # 2차원 배열\n",
        "  assert len(x.shape) == 2\n",
        "  x = x.copy() # 입력 텐서 자체를 바꾸지 않고 복사한다.\n",
        "  for i in range(x.shape[0]):\n",
        "    for j in range(x.shape[1]):\n",
        "      x[i, j] = max(x[i, j], 0)\n",
        "  return x\n",
        "\n",
        "def naive_add(x, y):\n",
        "  assert len(x.shape) == 2 # 2차원 배열\n",
        "  assert x.shape == y.shape\n",
        "  x = x.copy()\n",
        "  for i in range(x.shape[0]):\n",
        "    for j in range(x.shape[1]):\n",
        "      x[i, j] += y[i, j]\n",
        "  return x"
      ],
      "metadata": {
        "id": "-yhLMNL_7R8v"
      },
      "execution_count": 41,
      "outputs": []
    },
    {
      "cell_type": "markdown",
      "source": [
        "- 원소별 연산"
      ],
      "metadata": {
        "id": "TygpisFg81Co"
      }
    },
    {
      "cell_type": "code",
      "source": [
        "import time\n",
        "x = np.random.random((20, 100))\n",
        "y = np.random.random((20, 100))\n",
        "\n",
        "t0 = time.time()\n",
        "for _ in range(1000):\n",
        "  z = x + y # 각각 원소별 덧셈\n",
        "  z = np.maximum(z, 0.) # 원소별 렐루 함수\n",
        "print(\"걸린 시간: {0:.2f} s\".format(time.time() - t0))"
      ],
      "metadata": {
        "colab": {
          "base_uri": "https://localhost:8080/"
        },
        "id": "sUZKnxhl83ja",
        "outputId": "151bda8c-6271-4b56-fa24-c64954f1dc74"
      },
      "execution_count": 42,
      "outputs": [
        {
          "output_type": "stream",
          "name": "stdout",
          "text": [
            "걸린 시간: 0.01 s\n"
          ]
        }
      ]
    },
    {
      "cell_type": "code",
      "source": [
        "t0 = time.time()\n",
        "for _ in range(1000):\n",
        "  z = naive_add(x, y)\n",
        "  z = naive_relu(z)\n",
        "print(\"걸린 시간: {0:.2f} s\".format(time.time() - t0))"
      ],
      "metadata": {
        "colab": {
          "base_uri": "https://localhost:8080/"
        },
        "id": "Ba_In4kr8vSk",
        "outputId": "889c7609-e1c4-42dc-ff63-4ace1d9d46df"
      },
      "execution_count": 43,
      "outputs": [
        {
          "output_type": "stream",
          "name": "stdout",
          "text": [
            "걸린 시간: 4.00 s\n"
          ]
        }
      ]
    },
    {
      "cell_type": "markdown",
      "source": [
        "## 브로드캐스팅\n",
        "- 참고 : https://numpy.org/doc/stable/user/basics.broadcasting.html"
      ],
      "metadata": {
        "id": "nbwVIEB0-h59"
      }
    },
    {
      "cell_type": "code",
      "source": [
        "import numpy as np\n",
        "X = np.random.random((32, 10)) # X는 크기가 32, 10인 행렬\n",
        "y = np.random.random((10, )) # 1차원 벡터\n",
        "y.shape, y.ndim"
      ],
      "metadata": {
        "colab": {
          "base_uri": "https://localhost:8080/"
        },
        "id": "Eb4jNBhC-j_A",
        "outputId": "f60196aa-2349-4d15-ee3b-c153e4a16403"
      },
      "execution_count": 47,
      "outputs": [
        {
          "output_type": "execute_result",
          "data": {
            "text/plain": [
              "((10,), 1)"
            ]
          },
          "metadata": {},
          "execution_count": 47
        }
      ]
    },
    {
      "cell_type": "code",
      "source": [
        "y = np.expand_dims(y, axis=0) # 2차원 행렬\n",
        "y.shape, y.ndim"
      ],
      "metadata": {
        "colab": {
          "base_uri": "https://localhost:8080/"
        },
        "id": "whdIZeNZ-1ow",
        "outputId": "0163d7be-b89a-466a-a409-38575a3a1f96"
      },
      "execution_count": 49,
      "outputs": [
        {
          "output_type": "execute_result",
          "data": {
            "text/plain": [
              "((1, 1, 10), 3)"
            ]
          },
          "metadata": {},
          "execution_count": 49
        }
      ]
    },
    {
      "cell_type": "code",
      "source": [
        "Y = np.concatenate([y] * 32, axis=0)\n",
        "Y.shape, y.ndim"
      ],
      "metadata": {
        "colab": {
          "base_uri": "https://localhost:8080/"
        },
        "id": "IkariU4S_MF2",
        "outputId": "e62187ad-d58c-4ff4-ebdb-f661940cf747"
      },
      "execution_count": 52,
      "outputs": [
        {
          "output_type": "execute_result",
          "data": {
            "text/plain": [
              "((32, 1, 10), 3)"
            ]
          },
          "metadata": {},
          "execution_count": 52
        }
      ]
    },
    {
      "cell_type": "code",
      "source": [
        "def naive_add_matrix_and_vector(x, y):\n",
        "    assert len(x.shape) == 2\n",
        "    assert len(y.shape) == 1\n",
        "    assert x.shape[1] == y.shape[0]\n",
        "    x = x.copy()\n",
        "    for i in range(x.shape[0]):\n",
        "        for j in range(x.shape[1]):\n",
        "            x[i, j] += y[j]\n",
        "    return x"
      ],
      "metadata": {
        "id": "jmKhkOm3_cZx"
      },
      "execution_count": 53,
      "outputs": []
    },
    {
      "cell_type": "code",
      "source": [
        "# p.79\n",
        "import numpy as np\n",
        "x = np.random.random((64, 3, 32, 10)) # 4차원\n",
        "y = np.random.random((32, 10)) # 배열 다름 2차원\n",
        "z = np.maximum(x, y) # 4차원"
      ],
      "metadata": {
        "id": "aO4AWNCZ_2Rn"
      },
      "execution_count": 54,
      "outputs": []
    },
    {
      "cell_type": "markdown",
      "source": [
        "## 텐서 곱셈"
      ],
      "metadata": {
        "id": "J1xbOEfAAal5"
      }
    },
    {
      "cell_type": "code",
      "source": [
        "# 행렬곱셈 np.dot p.79\n",
        "x = np.random.random((32, ))\n",
        "y = np.random.random((32, ))\n",
        "z = np.dot(x, y)\n",
        "z"
      ],
      "metadata": {
        "colab": {
          "base_uri": "https://localhost:8080/"
        },
        "id": "uU_osfNUAAIT",
        "outputId": "bd995cb6-1bfc-46ae-dfb6-f450d5780d45"
      },
      "execution_count": 60,
      "outputs": [
        {
          "output_type": "execute_result",
          "data": {
            "text/plain": [
              "8.512482209354541"
            ]
          },
          "metadata": {},
          "execution_count": 60
        }
      ]
    },
    {
      "cell_type": "markdown",
      "source": [
        "- 점곱 연산 함수를 만듬"
      ],
      "metadata": {
        "id": "kv-e0WgJBI3r"
      }
    },
    {
      "cell_type": "code",
      "source": [
        "def naive_vector_dot(x, y):\n",
        "    assert len(x.shape) == 1\n",
        "    assert len(y.shape) == 1\n",
        "    assert x.shape[0] == y.shape[0]\n",
        "    z = 0.\n",
        "    for i in range(x.shape[0]):\n",
        "        z += x[i] * y[i]\n",
        "    return z"
      ],
      "metadata": {
        "id": "XOaLKxvIBNgT"
      },
      "execution_count": 61,
      "outputs": []
    },
    {
      "cell_type": "code",
      "source": [
        "naive_vector_dot(x, y)"
      ],
      "metadata": {
        "colab": {
          "base_uri": "https://localhost:8080/"
        },
        "id": "lF1umxVEBTRN",
        "outputId": "83f3967e-fa6b-404f-b9e8-5479e1b1f24c"
      },
      "execution_count": 62,
      "outputs": [
        {
          "output_type": "execute_result",
          "data": {
            "text/plain": [
              "8.512482209354543"
            ]
          },
          "metadata": {},
          "execution_count": 62
        }
      ]
    },
    {
      "cell_type": "markdown",
      "source": [
        "- 행렬과 벡터를 행렬곱 하는 메서드를 만듬"
      ],
      "metadata": {
        "id": "6PIw4h2fBeMw"
      }
    },
    {
      "cell_type": "code",
      "source": [
        "np.zeros(15)"
      ],
      "metadata": {
        "colab": {
          "base_uri": "https://localhost:8080/"
        },
        "id": "YLzoOpv8B0Cj",
        "outputId": "c5126a5b-d14d-46e8-c1be-ff7f20b3c377"
      },
      "execution_count": 64,
      "outputs": [
        {
          "output_type": "execute_result",
          "data": {
            "text/plain": [
              "array([0., 0., 0., 0., 0., 0., 0., 0., 0., 0., 0., 0., 0., 0., 0.])"
            ]
          },
          "metadata": {},
          "execution_count": 64
        }
      ]
    },
    {
      "cell_type": "code",
      "source": [
        "def naive_matrix_vector_dot(x, y):\n",
        "    assert len(x.shape) == 2 # 2차원 행렬\n",
        "    assert len(y.shape) == 1 # 1차원 벡터\n",
        "    assert x.shape[1] == y.shape[0]\n",
        "    z = np.zeros(x.shape[0])\n",
        "    for i in range(x.shape[0]):\n",
        "        for j in range(x.shape[1]):\n",
        "            z[i] += x[i, j] * y[j]\n",
        "    return z"
      ],
      "metadata": {
        "id": "y7AZJAsQBmAN"
      },
      "execution_count": null,
      "outputs": []
    },
    {
      "cell_type": "markdown",
      "source": [
        "- 기존에 만든 함수를 재사용해서 표현"
      ],
      "metadata": {
        "id": "SrFl9ajACG3F"
      }
    },
    {
      "cell_type": "code",
      "source": [
        "def naive_matrix_vector_dot(x, y):\n",
        "    z = np.zeros(x.shape[0])\n",
        "    for i in range(x.shape[0]):\n",
        "        z[i] = naive_vector_dot(x[i, :], y)\n",
        "    return z"
      ],
      "metadata": {
        "id": "V1QQlkk8COwE"
      },
      "execution_count": 65,
      "outputs": []
    },
    {
      "cell_type": "markdown",
      "source": [
        "- 행렬곱 연산 함수를 구현함"
      ],
      "metadata": {
        "id": "GuSeZfu6CZ1c"
      }
    },
    {
      "cell_type": "code",
      "source": [
        "def naive_matrix_dot(x, y):\n",
        "    assert len(x.shape) == 2\n",
        "    assert len(y.shape) == 2\n",
        "    assert x.shape[1] == y.shape[0]\n",
        "    z = np.zeros((x.shape[0], y.shape[1]))\n",
        "    for i in range(x.shape[0]):\n",
        "        for j in range(y.shape[1]):\n",
        "            row_x = x[i, :]\n",
        "            column_y = y[:, j]\n",
        "            z[i, j] = naive_vector_dot(row_x, column_y)\n",
        "    return z"
      ],
      "metadata": {
        "id": "CqWnzzwOCXjp"
      },
      "execution_count": 67,
      "outputs": []
    },
    {
      "cell_type": "markdown",
      "source": [
        "- 텐서플로는 행렬곱 연산을 기반으로 한다!"
      ],
      "metadata": {
        "id": "LpIbxoShCrK1"
      }
    },
    {
      "cell_type": "code",
      "source": [
        "x = np.random.random((64, 32))\n",
        "y = np.random.random((32, 16))\n",
        "z = np.random.random((16, 8))\n",
        "\n",
        "result = naive_matrix_dot(x, y)\n",
        "naive_matrix_dot(result, z)"
      ],
      "metadata": {
        "colab": {
          "base_uri": "https://localhost:8080/"
        },
        "id": "VR4F-tSVCzD0",
        "outputId": "42aaf45a-151f-42be-b789-cbaca745b488"
      },
      "execution_count": 71,
      "outputs": [
        {
          "output_type": "execute_result",
          "data": {
            "text/plain": [
              "array([[53.73920182, 49.6359841 , 61.02775283, 50.37553689, 68.02118002,\n",
              "        59.89124258, 64.33222324, 56.98376041],\n",
              "       [56.1912212 , 50.81519486, 63.68678289, 51.60627031, 70.06578529,\n",
              "        62.85727982, 65.69165468, 56.90373092],\n",
              "       [53.71326239, 48.14784652, 62.97616076, 49.99206977, 68.16929856,\n",
              "        60.98114594, 64.51071937, 55.90519412],\n",
              "       [63.4839625 , 57.7446309 , 74.02833927, 59.33664203, 80.5665695 ,\n",
              "        72.77003378, 75.97997778, 65.66854847],\n",
              "       [55.3816987 , 50.74170929, 63.56789282, 51.83201791, 70.43962526,\n",
              "        62.28566742, 66.46304321, 59.08333395],\n",
              "       [51.52174932, 47.20813866, 58.71625103, 47.89555663, 64.90998249,\n",
              "        58.02580972, 61.4147463 , 53.52121906],\n",
              "       [59.23821265, 53.53330276, 67.69794551, 54.82028515, 74.0080957 ,\n",
              "        66.38374089, 68.98374375, 59.71645061],\n",
              "       [57.42150884, 51.98173416, 65.42862006, 52.01768343, 71.90957277,\n",
              "        64.36704182, 67.73885463, 57.03669523],\n",
              "       [57.0968747 , 51.78255364, 65.14351803, 52.12411943, 71.21731542,\n",
              "        63.88416418, 67.78777659, 58.7793444 ],\n",
              "       [49.83295569, 45.31466027, 57.57042012, 46.7396576 , 62.85054551,\n",
              "        56.78402858, 59.41062555, 52.11441277],\n",
              "       [62.80143416, 57.29440669, 70.97645987, 57.53099447, 78.13513627,\n",
              "        69.63541002, 74.06938004, 64.84931781],\n",
              "       [64.47456083, 58.90984537, 73.66660665, 59.79627928, 80.86973712,\n",
              "        72.64152291, 77.1399602 , 67.64795718],\n",
              "       [56.24461943, 51.00694355, 65.52507614, 53.42268396, 71.13805384,\n",
              "        64.03942173, 67.28105635, 59.18217368],\n",
              "       [51.40935199, 46.64726644, 57.14400874, 48.1339062 , 63.8656936 ,\n",
              "        56.59482746, 61.47308969, 54.13427994],\n",
              "       [62.97158918, 57.40380816, 71.9918501 , 58.56876971, 79.54381259,\n",
              "        71.04389313, 74.23055454, 65.43870991],\n",
              "       [58.63479381, 53.76100744, 66.67610702, 53.94958821, 72.73184897,\n",
              "        65.29793189, 69.69018131, 60.29201169],\n",
              "       [46.76160483, 42.60235779, 52.71924548, 43.64085551, 59.49280084,\n",
              "        51.91150417, 55.45349026, 48.6237523 ],\n",
              "       [65.01324156, 58.89894142, 75.03795427, 60.45055846, 81.2859858 ,\n",
              "        73.1271521 , 78.67055682, 68.17070334],\n",
              "       [61.51392226, 55.79179704, 71.27936968, 57.01412147, 77.66794201,\n",
              "        69.34811535, 72.40388057, 63.61186706],\n",
              "       [68.71010627, 61.60471311, 77.6138414 , 63.73451329, 85.6885078 ,\n",
              "        76.5976316 , 81.06334005, 70.20621797],\n",
              "       [50.30423194, 45.79195189, 56.86950308, 45.8301962 , 62.02282679,\n",
              "        56.16630352, 59.62027322, 52.18720523],\n",
              "       [56.86462025, 51.8690896 , 63.16541979, 51.66015546, 70.20624044,\n",
              "        62.46993541, 66.50388966, 57.09456865],\n",
              "       [55.71937701, 51.2829139 , 62.43501021, 51.05423494, 69.3464901 ,\n",
              "        61.23452714, 65.76973479, 58.11668553],\n",
              "       [62.28377026, 56.83619135, 70.63632647, 57.42002132, 77.8392468 ,\n",
              "        70.11264093, 73.78153461, 64.07043827],\n",
              "       [53.47507771, 48.07555971, 61.84070614, 49.55066162, 67.39220516,\n",
              "        60.30032914, 62.9417667 , 55.05355701],\n",
              "       [54.75303749, 49.44497588, 61.71604659, 49.56792954, 67.32937871,\n",
              "        60.91491921, 64.65903375, 56.35503799],\n",
              "       [61.49500197, 55.70092466, 70.59784548, 56.46611737, 76.84812589,\n",
              "        69.43570352, 72.61840513, 62.28181506],\n",
              "       [74.79258094, 67.51913152, 86.04590756, 68.9208012 , 93.90206742,\n",
              "        84.43608096, 89.19964297, 77.77032456],\n",
              "       [65.47361054, 59.69276435, 74.92331628, 61.52227326, 82.72226855,\n",
              "        73.66070676, 77.11663208, 68.63559516],\n",
              "       [56.36509253, 51.08480686, 64.89514887, 51.81573885, 70.80653597,\n",
              "        63.08028298, 67.22265062, 58.03139047],\n",
              "       [63.46960574, 57.10331283, 72.96571416, 59.39088915, 80.32398972,\n",
              "        71.34274366, 75.37068184, 65.85386973],\n",
              "       [65.17550535, 59.78668154, 73.31389967, 59.95844905, 80.71476162,\n",
              "        72.32947704, 76.24887246, 66.05370556],\n",
              "       [54.7335931 , 49.85707753, 63.14288265, 50.08959284, 68.43148386,\n",
              "        61.32060444, 65.45571404, 56.61408766],\n",
              "       [59.99360404, 54.56643636, 68.53065243, 55.67749635, 75.81650872,\n",
              "        66.81754928, 71.5490458 , 63.34196186],\n",
              "       [59.73027496, 54.07479908, 70.59178971, 55.98110738, 76.78285939,\n",
              "        68.76055489, 71.97202459, 62.24747695],\n",
              "       [48.99555875, 43.7856397 , 55.82093326, 46.42790299, 61.93058365,\n",
              "        54.65869003, 58.34036545, 50.78172393],\n",
              "       [58.20598285, 52.51925384, 66.16598606, 54.30441782, 73.1603564 ,\n",
              "        65.14002763, 69.88744363, 60.52856668],\n",
              "       [49.08487373, 44.07760284, 57.26544468, 45.15624623, 61.6917309 ,\n",
              "        56.3143774 , 59.33876143, 51.25827202],\n",
              "       [70.71902763, 63.76851208, 80.21234189, 65.23740476, 88.42737116,\n",
              "        78.84257929, 84.30821902, 73.3361274 ],\n",
              "       [56.01579729, 49.57156042, 65.09814634, 51.83065286, 70.37226766,\n",
              "        63.42177436, 67.29724863, 57.23246332],\n",
              "       [61.74686836, 55.9688271 , 70.32423431, 57.8201336 , 77.43110257,\n",
              "        69.46156729, 72.77514431, 63.40563683],\n",
              "       [61.26897911, 55.86389965, 69.25499102, 56.98959312, 76.8466293 ,\n",
              "        68.51984754, 72.80901738, 64.11050455],\n",
              "       [48.21843528, 43.71470983, 55.48952951, 44.12864721, 60.1998867 ,\n",
              "        54.5852248 , 56.88002966, 49.39965492],\n",
              "       [62.33962409, 56.67709969, 70.87387933, 57.40234477, 78.27898879,\n",
              "        69.30663872, 73.09925606, 63.81578676],\n",
              "       [54.48549714, 49.43514658, 61.26340599, 49.2278833 , 67.1846889 ,\n",
              "        59.91274322, 64.11570268, 55.95054363],\n",
              "       [54.03536893, 49.45886909, 62.09114296, 49.7201896 , 68.13492751,\n",
              "        60.92191577, 64.10492227, 55.16072901],\n",
              "       [50.79245182, 46.30566998, 57.31887209, 46.89666511, 63.14300233,\n",
              "        55.74733872, 60.96471058, 53.81555368],\n",
              "       [62.32387874, 56.52145194, 72.44837858, 58.0956092 , 78.43258985,\n",
              "        70.52647422, 74.38674928, 65.27586982],\n",
              "       [64.08845792, 57.98893441, 72.44721017, 59.09806172, 80.58867121,\n",
              "        71.69348851, 76.41497281, 66.21167033],\n",
              "       [55.88384291, 50.34116741, 65.74210722, 52.57601745, 71.37171967,\n",
              "        64.53769813, 66.04985459, 58.3054416 ],\n",
              "       [53.78913303, 48.57521663, 61.8201583 , 49.60865158, 67.62670462,\n",
              "        60.77667532, 63.64018361, 55.32622755],\n",
              "       [57.36790831, 52.13830139, 67.53194235, 53.72420733, 73.34603635,\n",
              "        65.34053801, 69.23616909, 60.75345784],\n",
              "       [56.66104018, 51.10676694, 66.09538302, 51.97651796, 72.1033114 ,\n",
              "        64.71871172, 68.05066159, 58.37806883],\n",
              "       [59.94853485, 54.69426446, 68.32037954, 56.31133334, 75.96463505,\n",
              "        67.3865907 , 71.46622726, 62.99863203],\n",
              "       [53.67547774, 49.04001699, 61.42494103, 48.65376453, 66.60568231,\n",
              "        60.35001822, 63.51614049, 54.48328904],\n",
              "       [55.63816473, 50.16649116, 64.2407111 , 52.74233152, 70.94909767,\n",
              "        63.15895247, 65.81941511, 57.3196797 ],\n",
              "       [52.08817055, 46.7260199 , 58.80581261, 45.99857906, 63.222107  ,\n",
              "        57.19148224, 61.23408043, 50.97162625],\n",
              "       [72.73677494, 66.0010764 , 83.74291156, 67.09671931, 91.63637765,\n",
              "        82.23236325, 86.71126287, 75.25005996],\n",
              "       [55.77860097, 49.9102893 , 63.33737274, 51.06257344, 69.39273847,\n",
              "        62.39096553, 66.12313486, 56.64322809],\n",
              "       [67.77487439, 61.7411814 , 77.73127546, 63.24697395, 85.24356094,\n",
              "        76.51107352, 80.24710756, 69.75970587],\n",
              "       [59.08568792, 54.16401974, 67.2404865 , 55.09323506, 74.84427834,\n",
              "        65.71267437, 70.75252492, 62.55748223],\n",
              "       [64.62505899, 58.74615199, 73.18057903, 58.64887319, 80.33567322,\n",
              "        71.82934707, 76.27224368, 66.22714301],\n",
              "       [67.10504985, 59.77947362, 77.9825216 , 62.32813594, 84.66488384,\n",
              "        76.09457672, 79.40033069, 68.55535426],\n",
              "       [49.616823  , 45.15852255, 56.15421224, 44.84738012, 61.4840333 ,\n",
              "        55.80285319, 58.82289009, 50.31563554]])"
            ]
          },
          "metadata": {},
          "execution_count": 71
        }
      ]
    },
    {
      "cell_type": "markdown",
      "source": [
        "## 텐서 크기 변환"
      ],
      "metadata": {
        "id": "NcIo41tCD4vA"
      }
    },
    {
      "cell_type": "code",
      "source": [
        "train_images = train_images.reshape((60000, 28 * 28))"
      ],
      "metadata": {
        "id": "j7JmT0B4D6NT"
      },
      "execution_count": 72,
      "outputs": []
    },
    {
      "cell_type": "code",
      "source": [
        "x = np.array([[0., 1.],\n",
        "             [2., 3.],\n",
        "             [4., 5.]])\n",
        "x.shape"
      ],
      "metadata": {
        "colab": {
          "base_uri": "https://localhost:8080/"
        },
        "id": "Wam57araDCxF",
        "outputId": "828bd9d9-b6ef-41f2-8b14-5261f9f2e255"
      },
      "execution_count": 75,
      "outputs": [
        {
          "output_type": "execute_result",
          "data": {
            "text/plain": [
              "(3, 2)"
            ]
          },
          "metadata": {},
          "execution_count": 75
        }
      ]
    },
    {
      "cell_type": "code",
      "source": [
        "x.reshape((2, 3))"
      ],
      "metadata": {
        "colab": {
          "base_uri": "https://localhost:8080/"
        },
        "id": "KrsbDoJIEJ4Y",
        "outputId": "3f82ac21-8dc7-414a-e22e-e84def85e20a"
      },
      "execution_count": 80,
      "outputs": [
        {
          "output_type": "execute_result",
          "data": {
            "text/plain": [
              "array([[0., 1., 2.],\n",
              "       [3., 4., 5.]])"
            ]
          },
          "metadata": {},
          "execution_count": 80
        }
      ]
    },
    {
      "cell_type": "code",
      "source": [
        "x = np.zeros((300, 20))\n",
        "x = np.transpose(x)\n",
        "x.shape"
      ],
      "metadata": {
        "colab": {
          "base_uri": "https://localhost:8080/"
        },
        "id": "VSvj7nh9EcfW",
        "outputId": "62c87bac-b132-44f2-aba2-677f9ec9682f"
      },
      "execution_count": 85,
      "outputs": [
        {
          "output_type": "execute_result",
          "data": {
            "text/plain": [
              "(20, 300)"
            ]
          },
          "metadata": {},
          "execution_count": 85
        }
      ]
    }
  ]
}