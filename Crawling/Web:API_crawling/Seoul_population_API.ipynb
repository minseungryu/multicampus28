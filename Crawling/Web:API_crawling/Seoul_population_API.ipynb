{
 "cells": [
  {
   "cell_type": "code",
   "execution_count": null,
   "id": "8c1da658-1b8d-4618-a528-83bc4fe845f1",
   "metadata": {},
   "outputs": [],
   "source": [
    "\n",
    "api_key = \n",
    "    url = f\"http://openapi.seoul.go.kr:8088/{api_key}/json/citydata_ppltn/1/5/광화문·덕수궁\""
   ]
  }
 ],
 "metadata": {
  "kernelspec": {
   "display_name": "Python 3 (ipykernel)",
   "language": "python",
   "name": "python3"
  },
  "language_info": {
   "codemirror_mode": {
    "name": "ipython",
    "version": 3
   },
   "file_extension": ".py",
   "mimetype": "text/x-python",
   "name": "python",
   "nbconvert_exporter": "python",
   "pygments_lexer": "ipython3",
   "version": "3.9.13"
  }
 },
 "nbformat": 4,
 "nbformat_minor": 5
}
