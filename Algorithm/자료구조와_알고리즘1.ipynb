{
  "nbformat": 4,
  "nbformat_minor": 0,
  "metadata": {
    "colab": {
      "provenance": [],
      "toc_visible": true
    },
    "kernelspec": {
      "name": "python3",
      "display_name": "Python 3"
    },
    "language_info": {
      "name": "python"
    }
  },
  "cells": [
    {
      "cell_type": "markdown",
      "source": [
        "# 도입"
      ],
      "metadata": {
        "id": "PX1UyN8-e3Sg"
      }
    },
    {
      "cell_type": "code",
      "execution_count": 18,
      "metadata": {
        "colab": {
          "base_uri": "https://localhost:8080/"
        },
        "id": "3Odvv_Ea_vdA",
        "outputId": "346c4730-84f3-45f5-9bc9-061d9256aa0b"
      },
      "outputs": [
        {
          "output_type": "stream",
          "name": "stdout",
          "text": [
            "원본:  ['다현', '정연', '쯔위', '사나', '지효']\n",
            "데이터 추가 후: ['다현', '정연', '쯔위', '사나', '지효', '모모']\n",
            "['다현', '정연', '쯔위', '미나', '사나', '지효', '모모']\n"
          ]
        }
      ],
      "source": [
        "## 함수 선언부\n",
        "\n",
        "\n",
        "## 전역 변수부\n",
        "katok = ['다현', '정연', '쯔위', '사나', '지효']\n",
        "\n",
        "## 메인 코드부\n",
        "print(\"원본: \", katok)\n",
        "\n",
        "## 데이터 추가\n",
        "# 1단계 : 빈칸 추가\n",
        "katok.append(None)\n",
        "# 2단계 : 마지막 칸에 데이터 넣기\n",
        "katok[5] = '모모'\n",
        "print(\"데이터 추가 후:\", katok)\n",
        "\n",
        "## 데이터 중간에 삽입\n",
        "# 빈칸 추가 ->> (한칸씩 옆으로)\n",
        "katok.append(None)\n",
        "katok[6] = katok[5]\n",
        "katok[5] = None\n",
        "katok[5] = katok[4]\n",
        "katok[4] = None\n",
        "katok[4] = katok[3]\n",
        "katok[3] = None\n",
        "katok[3] = '미나'\n",
        "\n",
        "print(katok)"
      ]
    },
    {
      "cell_type": "code",
      "source": [
        "# 사나 삭제\n",
        "katok[4] = None\n",
        "# 한칸씩 이동\n",
        "katok[4] = katok[5]\n",
        "katok[5] = None\n",
        "katok[5] = katok[6]\n",
        "katok[6] = None\n",
        "\n",
        "del(katok[6])\n",
        "print(katok)"
      ],
      "metadata": {
        "colab": {
          "base_uri": "https://localhost:8080/"
        },
        "id": "5Vo30KZL_xP-",
        "outputId": "dff564d7-46d9-4261-d17a-0ba73c3f3e1d"
      },
      "execution_count": 19,
      "outputs": [
        {
          "output_type": "stream",
          "name": "stdout",
          "text": [
            "['다현', '정연', '쯔위', '미나', '지효', '모모']\n"
          ]
        }
      ]
    },
    {
      "cell_type": "markdown",
      "source": [
        "# 실전코드\n",
        "- 데이터 추가"
      ],
      "metadata": {
        "id": "nIZq9JKFBeFH"
      }
    },
    {
      "cell_type": "code",
      "source": [
        "## 함수\n",
        "def add_data(friend):\n",
        "    # 1단계 : 빈칸 추가\n",
        "    katok.append(None)\n",
        "    kLen = len(katok)\n",
        "    # 2단계 : 데이터 삽입\n",
        "    katok[kLen-1] = friend\n",
        "\n",
        "# 데이터 삽입 함수\n",
        "def insert_data(position, friend):\n",
        "    # 1단계 : 빈칸 추가\n",
        "    katok.append(None)\n",
        "    kLen = len(katok)\n",
        "    # 2단계 : 한칸씩 이동\n",
        "    for i in range(kLen-1, position, -1):\n",
        "            katok[i] = katok[i-1]\n",
        "            katok[i-1] = None\n",
        "\n",
        "    katok[position] = friend\n",
        "    #katok[kLen-1] = katok[kLen-2]\n",
        "\n",
        "# 데이터 삭제\n",
        "def delete_data(position):\n",
        "    # 1. 지우기\n",
        "    katok[position] = None\n",
        "    kLen = len(katok)\n",
        "    # 2. 한칸씩 당기기\n",
        "    for i in range(position+1, kLen, 1):\n",
        "        katok[i-1] = katok[i]\n",
        "        katok[i] = None\n",
        "    # 마지막 칸 제거\n",
        "    del(katok[kLen-1])\n",
        "\n",
        "## 전역\n",
        "katok = []\n",
        "select = -1\n",
        "\n",
        "## 메인\n",
        "# add_data('다현')\n",
        "# add_data('정연')\n",
        "# add_data('쯔위')\n",
        "# add_data('사나')\n",
        "# add_data('지효')\n",
        "\n",
        "if __name__ == \"__main__\":\n",
        "\n",
        "    while (select != 4):\n",
        "        select = int(input(\"선택하세요(1: 추가, 2:삽입, 3:삭제, 4:종료) --> \"))\n",
        "\n",
        "        if (select == 1):\n",
        "            data = input(\"추가할 데이터--> \")\n",
        "            add_data(data)\n",
        "            print(katok)\n",
        "        elif (select == 2):\n",
        "            pos = int(input(\"삽입할 위치--> \"))\n",
        "            data = input(\"추가할 데이터--> \")\n",
        "            insert_data(pos, data)\n",
        "            print(katok)\n",
        "        elif (select == 3):\n",
        "            pos = int(input(\"삭제할 위치--> \"))\n",
        "            delete_data(pos)\n",
        "            print(katok)\n",
        "        elif (select == 4):\n",
        "            print(katok)\n",
        "            exit\n",
        "        else:\n",
        "            print('1~4중 하나를 입력하세요.')\n",
        "            continue"
      ],
      "metadata": {
        "colab": {
          "base_uri": "https://localhost:8080/"
        },
        "id": "_T71_EwLAB5l",
        "outputId": "80c0b241-58ed-4108-cd0f-4296fa2e37e3"
      },
      "execution_count": 29,
      "outputs": [
        {
          "output_type": "stream",
          "name": "stdout",
          "text": [
            "선택하세요(1: 추가, 2:삽입, 3:삭제, 4:종료) --> 1\n",
            "추가할 데이터--> '이름1'\n",
            "[\"'이름1'\"]\n",
            "선택하세요(1: 추가, 2:삽입, 3:삭제, 4:종료) --> 1\n",
            "추가할 데이터--> 이름2\n",
            "[\"'이름1'\", '이름2']\n",
            "선택하세요(1: 추가, 2:삽입, 3:삭제, 4:종료) --> 3\n",
            "삭제할 위치--> 0\n",
            "['이름2']\n",
            "선택하세요(1: 추가, 2:삽입, 3:삭제, 4:종료) --> 4\n",
            "['이름2']\n"
          ]
        }
      ]
    },
    {
      "cell_type": "markdown",
      "source": [
        "# 단순연결 리스트"
      ],
      "metadata": {
        "id": "VfFp97XddOla"
      }
    },
    {
      "cell_type": "code",
      "source": [
        "## 함수\n",
        "class Node():\n",
        "    def __init__(self):\n",
        "        self.data = None\n",
        "        self.link = None\n",
        "\n",
        "## 전역\n",
        "\n",
        "\n",
        "## 메인\n",
        "node1 = Node()\n",
        "node1.data = '다현'\n",
        "\n",
        "node2 = Node()\n",
        "node2.data = '정연'\n",
        "node1.link = node2\n",
        "\n",
        "node3 = Node()\n",
        "node3.data = '쯔위'\n",
        "node2.link = node3\n",
        "\n",
        "node4 = Node()\n",
        "node4.data = '사나'\n",
        "node3.link = node4\n",
        "\n",
        "node5 = Node()\n",
        "node5.data = '지효'\n",
        "node4.link = node5\n",
        "\n",
        "newNode = Node()\n",
        "newNode.data = '재남'\n",
        "newNode.link = node2.link   #링크복사\n",
        "node2.link = newNode\n",
        "\n",
        "#노드 삭제\n",
        "# node2.link = node3.link\n",
        "# del(node3)\n",
        "\n",
        "current = node1\n",
        "print(current.data, end=' ')\n",
        "\n",
        "while (current.link != None):\n",
        "    current = current.link\n",
        "    print(current.data, end=' ')\n",
        "\n",
        "# print(node1.data, end = ' ')\n",
        "# print(node1.link.data, end = ' ')\n",
        "# print(node1.link.link.data, end = ' ')\n",
        "# print(node1.link.link.link.data, end = ' ')\n",
        "# print(node1.link.link.link.link.data, end = ' ')\n",
        "# print(node1.link.link.link.link.link.data, end = ' ')"
      ],
      "metadata": {
        "colab": {
          "base_uri": "https://localhost:8080/"
        },
        "id": "h6bXFEmYCx4r",
        "outputId": "8781bab1-5bd4-4759-8aac-305e60bc7884"
      },
      "execution_count": 38,
      "outputs": [
        {
          "output_type": "stream",
          "name": "stdout",
          "text": [
            "다현 정연 재남 쯔위 사나 지효 "
          ]
        }
      ]
    },
    {
      "cell_type": "code",
      "source": [
        "current = node1\n",
        "\n",
        "while (current.link != None):\n",
        "    current = current.link\n",
        "    print(current.data, end=\" \")"
      ],
      "metadata": {
        "colab": {
          "base_uri": "https://localhost:8080/"
        },
        "id": "ZfOA3V4aD85B",
        "outputId": "ae6e3978-7eb7-493c-f064-3be66cfc6ecb"
      },
      "execution_count": 39,
      "outputs": [
        {
          "output_type": "stream",
          "name": "stdout",
          "text": [
            "정연 재남 쯔위 사나 지효 "
          ]
        }
      ]
    },
    {
      "cell_type": "markdown",
      "source": [
        "### 코드 구현"
      ],
      "metadata": {
        "id": "RZvJQ0aomCvY"
      }
    },
    {
      "cell_type": "code",
      "source": [
        "## 함수\n",
        "def printNodes(start):\n",
        "    current = start\n",
        "    print(current.data, end=\" \")\n",
        "    while (current.link != None):\n",
        "        current = current.link\n",
        "        print(current.data, end=\" \")\n",
        "\n",
        "\n",
        "def insertNode(findData, insertData):\n",
        "    global memory, head, current, pre   #전역변수화\n",
        "\n",
        "    # 케이스1 : head 앞에 삽입하는 경우\n",
        "    if (findData == head.data):\n",
        "        node = Node()\n",
        "        node.data = insertData\n",
        "        node.link = head\n",
        "        head = node\n",
        "        memory.append(node)\n",
        "        return\n",
        "\n",
        "    # 케이스2 : 중간 노드 앞에 삽입하는 경우\n",
        "    current = head #머리부터 찾아보자\n",
        "    while current.link != None:\n",
        "        pre = current\n",
        "        current = current.link\n",
        "        if (current.data == findData):\n",
        "            node = Node()\n",
        "            node.data = insertData\n",
        "            node.link = current\n",
        "            pre.link = node\n",
        "            memory.append(node)\n",
        "            return\n",
        "\n",
        "    # 케이스3 : 없는 데이터 앞에 삽입하려고 하는 경우\n",
        "    node = Node()\n",
        "    node.data = insertData\n",
        "    current.link = node\n",
        "    memory.append(node)\n",
        "    return\n",
        "\n",
        "\n",
        "def deleteNode(deleteData):\n",
        "    global memory, head, current, pre   #전역변수화\n",
        "    # case1 : 맨 앞 head 삭제 시\n",
        "    if (deleteData == head.data):\n",
        "        current = head\n",
        "        head = head.link\n",
        "        del (current)\n",
        "        return\n",
        "\n",
        "    #case2: 중간 노드 삭제\n",
        "    current = head\n",
        "    while (current.link != None):\n",
        "        pre = current\n",
        "        current = current.link\n",
        "        if (current.data == deleteData):\n",
        "            pre.link = current.link\n",
        "            del (current)\n",
        "            return\n",
        "\n",
        "    #case3: 없는 노드 삭제\n",
        "    return\n",
        "\n",
        "def findNode(findData):\n",
        "    global memory, head, current, pre\n",
        "    current = head\n",
        "    if (findData == head.data):\n",
        "        return current\n",
        "    while (current.link != None):\n",
        "        current = current.link\n",
        "        if (current.data == findData):\n",
        "            return current\n",
        "    return Node()   #빈 노드를 리턴(찾는 데이터가 없을 때)\n",
        "\n",
        "\n",
        "## 변수-------------------------\n",
        "memory = []\n",
        "head, current, pre = None, None, None\n",
        "dataArray = ['다현', '정연', '쯔위', '사나', '지효'] #개수 관계없이 모든 데이터 처리\n",
        "\n",
        "\n",
        "## 메인(첫번째 노드 데이터 지정 -> 두번째부터는 반복문)\n",
        "node = Node()\n",
        "node.data = dataArray[0]\n",
        "head = node\n",
        "memory.append(node)\n",
        "\n",
        "for data in dataArray[1:]:      #['정연', '쯔위', '사나', '지효']\n",
        "    pre = node\n",
        "    node = Node()\n",
        "    node.data = data\n",
        "    pre.link = node\n",
        "    memory.append(node)\n",
        "\n",
        "\n",
        "printNodes(head)"
      ],
      "metadata": {
        "colab": {
          "base_uri": "https://localhost:8080/"
        },
        "id": "aRr9TJCMh8Df",
        "outputId": "bdded3fe-6f7a-4f78-8db5-496faa990100"
      },
      "execution_count": 63,
      "outputs": [
        {
          "output_type": "stream",
          "name": "stdout",
          "text": [
            "다현 정연 쯔위 사나 지효 "
          ]
        }
      ]
    },
    {
      "cell_type": "markdown",
      "source": [
        "### 첫번째 노드 삽입"
      ],
      "metadata": {
        "id": "SyR9fyPNpVMc"
      }
    },
    {
      "cell_type": "code",
      "source": [
        "insertNode('다현', '화사')\n",
        "printNodes(head)"
      ],
      "metadata": {
        "colab": {
          "base_uri": "https://localhost:8080/"
        },
        "id": "kJtDo9n3nCYr",
        "outputId": "44d53e54-4d42-41ca-9bb8-2562c9606838"
      },
      "execution_count": 48,
      "outputs": [
        {
          "output_type": "stream",
          "name": "stdout",
          "text": [
            "화사\n",
            "다현 정연 쯔위 사나 지효 "
          ]
        }
      ]
    },
    {
      "cell_type": "code",
      "source": [
        "insertNode('사나', '솔라')\n",
        "printNodes(head)"
      ],
      "metadata": {
        "colab": {
          "base_uri": "https://localhost:8080/"
        },
        "id": "cy9VD0FVqsOe",
        "outputId": "58900c73-93c5-4db3-a688-57f12bf1591a"
      },
      "execution_count": 50,
      "outputs": [
        {
          "output_type": "stream",
          "name": "stdout",
          "text": [
            "다현\n",
            "정연 쯔위 솔라 사나 지효 "
          ]
        }
      ]
    },
    {
      "cell_type": "code",
      "source": [
        "insertNode('재남', '문별')  #재남은 없음 -> 그냥 맨 뒤에 삽입\n",
        "printNodes(head)"
      ],
      "metadata": {
        "colab": {
          "base_uri": "https://localhost:8080/"
        },
        "id": "0n3vqw8bsmpG",
        "outputId": "745e19f0-7b9b-4218-a4da-93c372bbb1ee"
      },
      "execution_count": 56,
      "outputs": [
        {
          "output_type": "stream",
          "name": "stdout",
          "text": [
            "다현 정연 쯔위 사나 지효 문별 "
          ]
        }
      ]
    },
    {
      "cell_type": "code",
      "source": [
        "deleteNode('다현')\n",
        "printNodes(head)"
      ],
      "metadata": {
        "colab": {
          "base_uri": "https://localhost:8080/"
        },
        "id": "WkP5oBd7tazZ",
        "outputId": "398d6f81-acf4-406d-8c51-fadd84092f4a"
      },
      "execution_count": 58,
      "outputs": [
        {
          "output_type": "stream",
          "name": "stdout",
          "text": [
            "정연 쯔위 사나 지효 "
          ]
        }
      ]
    },
    {
      "cell_type": "code",
      "source": [
        "deleteNode('쯔위')\n",
        "printNodes(head)"
      ],
      "metadata": {
        "colab": {
          "base_uri": "https://localhost:8080/"
        },
        "id": "H04oiG6-y0q2",
        "outputId": "7ee92afd-6238-4f68-9489-862e38198d90"
      },
      "execution_count": 60,
      "outputs": [
        {
          "output_type": "stream",
          "name": "stdout",
          "text": [
            "다현 정연 사나 지효 "
          ]
        }
      ]
    },
    {
      "cell_type": "code",
      "source": [
        "deleteNode('재남')\n",
        "printNodes(head)"
      ],
      "metadata": {
        "colab": {
          "base_uri": "https://localhost:8080/"
        },
        "id": "MB0lj347zoNs",
        "outputId": "b5245678-9976-40f9-f67f-e2a0957f0009"
      },
      "execution_count": 62,
      "outputs": [
        {
          "output_type": "stream",
          "name": "stdout",
          "text": [
            "다현 정연 쯔위 사나 지효 "
          ]
        }
      ]
    },
    {
      "cell_type": "code",
      "source": [
        "fNode = findNode('사나')\n",
        "print(fNode.data, '뮤비가 나옵니다. 쿵짝쿵짝~~')"
      ],
      "metadata": {
        "colab": {
          "base_uri": "https://localhost:8080/"
        },
        "id": "ivpb7paa0Jgr",
        "outputId": "45d69be5-2ccd-486c-f630-25a76d1d5631"
      },
      "execution_count": 66,
      "outputs": [
        {
          "output_type": "stream",
          "name": "stdout",
          "text": [
            "사나 뮤비가 나옵니다. 쿵짝쿵짝~~\n"
          ]
        }
      ]
    },
    {
      "cell_type": "markdown",
      "source": [
        "# 스택"
      ],
      "metadata": {
        "id": "fkl_7ro_3r92"
      }
    },
    {
      "cell_type": "code",
      "source": [
        "## 함수\n",
        "\n",
        "\n",
        "\n",
        "## 변수\n",
        "size = 5\n",
        "stack = [None for _ in range(size)]\n",
        "top = -1\n",
        "\n",
        "## 메인\n",
        "\n",
        "\n",
        "\n",
        "## push()\n",
        "top += 1\n",
        "stack[top] = '커피'\n",
        "top += 1\n",
        "stack[top] = '녹차'\n",
        "top += 1\n",
        "stack[top] = '꿀물'\n",
        "print('바닥:', stack)\n",
        "\n",
        "## pop()\n",
        "data = stack[top]\n",
        "stack[top] = None\n",
        "top -= 1\n",
        "stack[top] = None\n",
        "top -= 1\n",
        "stack[top] = None\n",
        "top -= 1\n",
        "print('pop:', stack)"
      ],
      "metadata": {
        "colab": {
          "base_uri": "https://localhost:8080/"
        },
        "id": "FAE3FGFb2d0W",
        "outputId": "c665dbcb-164c-4497-bec6-717635850660"
      },
      "execution_count": 73,
      "outputs": [
        {
          "output_type": "stream",
          "name": "stdout",
          "text": [
            "바닥: ['커피', '녹차', '꿀물', None, None]\n",
            "pop: [None, None, None, None, None]\n"
          ]
        }
      ]
    },
    {
      "cell_type": "markdown",
      "source": [
        "### 실무버전 코드"
      ],
      "metadata": {
        "id": "Va6J367bGJ2G"
      }
    },
    {
      "cell_type": "code",
      "source": [
        "## 함수\n",
        "def isStackFull():\n",
        "    global size, stack, top\n",
        "    if (top == size-1):\n",
        "        return True\n",
        "    else:\n",
        "        return False\n",
        "\n",
        "def isStackEmpth():\n",
        "    global size, stack, top\n",
        "    if (top <= -1) :\n",
        "        return True\n",
        "    else:\n",
        "        return False\n",
        "\n",
        "def push(data):\n",
        "    global size, stack, top\n",
        "    if (isStackFull() == True):\n",
        "        print('스택이 다 참!')\n",
        "        return\n",
        "    top += 1\n",
        "    stack[top] = data\n",
        "\n",
        "def pop():\n",
        "    global size, stack, top\n",
        "    if (isStackEmpth()):\n",
        "        print('스택이 비어서 Pop 불가')\n",
        "        return\n",
        "    data = stack[top]\n",
        "    stack[top] = None\n",
        "    top -= 1\n",
        "    print('팝 결과: ', stack)\n",
        "    return data\n",
        "\n",
        "def peek():\n",
        "    global size, stack, top\n",
        "    if isStackEmpth() :\n",
        "        print('스택 빔')\n",
        "        return\n",
        "    return stack[top]\n",
        "\n",
        "\n",
        "## 변수\n",
        "size = 5\n",
        "stack = [None for _ in range(size)]\n",
        "top = -1\n",
        "\n",
        "\n",
        "## 메인\n",
        "push('커피')\n",
        "push('녹차')\n",
        "push('꿀물')\n",
        "# push('콜라')\n",
        "# push('아메')\n",
        "# push('허브티')\n",
        "print('바닥: ', stack)\n",
        "\n",
        "retData = pop()\n",
        "print('popped data: ', retData)\n",
        "print('pop 결과/바닥: ', stack)\n",
        "\n",
        "print('다음 데이터:', peek())"
      ],
      "metadata": {
        "colab": {
          "base_uri": "https://localhost:8080/"
        },
        "id": "qhAffOpuE1Hn",
        "outputId": "3439d537-df83-4937-d3ef-1f3d5ccaf809"
      },
      "execution_count": 92,
      "outputs": [
        {
          "output_type": "stream",
          "name": "stdout",
          "text": [
            "바닥:  ['커피', '녹차', '꿀물', None, None]\n",
            "팝 결과:  ['커피', '녹차', None, None, None]\n",
            "popped data:  꿀물\n",
            "pop 결과/바닥:  ['커피', '녹차', None, None, None]\n",
            "다음 데이터: 녹차\n"
          ]
        }
      ]
    },
    {
      "cell_type": "code",
      "source": [
        "print(\"바닥-->>\", stack)"
      ],
      "metadata": {
        "colab": {
          "base_uri": "https://localhost:8080/"
        },
        "id": "newqG8ssHwwl",
        "outputId": "c3f1efd6-f377-4021-b7af-d395623573ce"
      },
      "execution_count": 93,
      "outputs": [
        {
          "output_type": "stream",
          "name": "stdout",
          "text": [
            "바닥-->> ['커피', '녹차', None, None, None]\n"
          ]
        }
      ]
    },
    {
      "cell_type": "code",
      "source": [],
      "metadata": {
        "id": "exsE6HDOHz_y"
      },
      "execution_count": null,
      "outputs": []
    }
  ]
}