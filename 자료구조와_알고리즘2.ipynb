{
  "nbformat": 4,
  "nbformat_minor": 0,
  "metadata": {
    "colab": {
      "provenance": []
    },
    "kernelspec": {
      "name": "python3",
      "display_name": "Python 3"
    },
    "language_info": {
      "name": "python"
    }
  },
  "cells": [
    {
      "cell_type": "markdown",
      "source": [
        "# 큐"
      ],
      "metadata": {
        "id": "1KCHVZTp6JIB"
      }
    },
    {
      "cell_type": "markdown",
      "source": [
        "### 큐 개념잡기"
      ],
      "metadata": {
        "id": "vQ2ohfKn8KFG"
      }
    },
    {
      "cell_type": "code",
      "execution_count": 4,
      "metadata": {
        "colab": {
          "base_uri": "https://localhost:8080/"
        },
        "id": "IeleqRiwy8sJ",
        "outputId": "fdd7aac3-559a-442e-f512-d58705f5dc07"
      },
      "outputs": [
        {
          "output_type": "stream",
          "name": "stdout",
          "text": [
            "출구<-- ['화사', '솔라', '문별', None, None] <--입구\n",
            "식사손님:  화사\n",
            "식사손님:  솔라\n",
            "식사손님:  문별\n",
            "출구<-- [None, None, None, None, None] <--입구\n"
          ]
        }
      ],
      "source": [
        "## 함수\n",
        "\n",
        "\n",
        "## 변수\n",
        "SIZE = 5\n",
        "queue = [None for _ in range(SIZE)]\n",
        "front = rear = -1\n",
        "\n",
        "## 메인\n",
        "\n",
        "# enQueue()\n",
        "rear += 1\n",
        "queue[rear] = '화사'\n",
        "rear += 1\n",
        "queue[rear] = '솔라'\n",
        "rear += 1\n",
        "queue[rear] = '문별'\n",
        "print('출구<--', queue, '<--입구')\n",
        "\n",
        "# deQueue()\n",
        "front += 1\n",
        "data = queue[front]\n",
        "queue[front] = None\n",
        "print('식사손님: ', data)\n",
        "front += 1\n",
        "data = queue[front]\n",
        "queue[front] = None\n",
        "print('식사손님: ', data)\n",
        "front += 1\n",
        "data = queue[front]\n",
        "queue[front] = None\n",
        "print('식사손님: ', data)\n",
        "print('출구<--', queue, '<--입구')"
      ]
    },
    {
      "cell_type": "markdown",
      "source": [
        "### 큐 함수"
      ],
      "metadata": {
        "id": "KWXpoXlm8L4F"
      }
    },
    {
      "cell_type": "code",
      "source": [
        "## 함수\n",
        "def isQueueFull():\n",
        "    global SIZE, queue, front, rear\n",
        "    if (rear != SIZE-1) :\n",
        "        return False\n",
        "    elif (rear == SIZE-1 and front == -1) :\n",
        "        return True\n",
        "    elif (rear == SIZE-1 and front != -1) : #else\n",
        "        for i in range(front+1, SIZE) :\n",
        "            queue[i-1] = queue[i]\n",
        "            queue[i] = None\n",
        "        front -= 1\n",
        "        rear -= 1\n",
        "        return False\n",
        "\n",
        "\n",
        "\n",
        "def isQueueEmpty():\n",
        "    global SIZE, queue, front, rear\n",
        "    if (front == rear): #큐가 비었음\n",
        "        return True\n",
        "    else:\n",
        "        return False\n",
        "\n",
        "def enQueue(data):\n",
        "    global SIZE, queue, front, rear\n",
        "    if isQueueFull():\n",
        "        print('큐가 꽉차서 추가 불가')\n",
        "        return\n",
        "    rear += 1\n",
        "    queue[rear] = data\n",
        "\n",
        "def deQueue():\n",
        "    global SIZE, queue, front, rear\n",
        "    if isQueueEmpty():\n",
        "        print('손님 없음!/큐가 빔')\n",
        "        return\n",
        "    front += 1\n",
        "    data = queue[front]\n",
        "    queue[front] = None\n",
        "    return data\n",
        "\n",
        "def peek():\n",
        "    global SIZE, queue, front, rear\n",
        "    if isQueueEmpty():\n",
        "        print('큐 없음')\n",
        "    return queue[front+1]\n",
        "\n",
        "\n",
        "## 변수\n",
        "SIZE = 5\n",
        "queue = [None for _ in range(SIZE)]\n",
        "front = rear = -1\n",
        "\n",
        "## 메인\n",
        "enQueue('화사')\n",
        "enQueue('솔라')\n",
        "enQueue('문별')\n",
        "enQueue('휘인')\n",
        "enQueue('선미')\n",
        "print('출구<--', queue, '<--입구')\n",
        "\n",
        "retData = deQueue()\n",
        "print('손님 이리로 :', retData)\n",
        "\n",
        "retData = deQueue()\n",
        "print('손님 이리로 :', retData)\n",
        "print('출구<--', queue, '<--입구')\n",
        "\n",
        "\n",
        "enQueue('재남')\n",
        "print('출구<--', queue, '<--입구')\n",
        "enQueue('정국')\n",
        "print('출구<--', queue, '<--입구')\n",
        "\n",
        "enQueue('길동')\n",
        "print('출구<--', queue, '<--입구')\n"
      ],
      "metadata": {
        "colab": {
          "base_uri": "https://localhost:8080/"
        },
        "id": "SXUFZols6-6S",
        "outputId": "a937b5ff-e410-404f-fe82-49fbd324508b"
      },
      "execution_count": 15,
      "outputs": [
        {
          "output_type": "stream",
          "name": "stdout",
          "text": [
            "출구<-- ['화사', '솔라', '문별', '휘인', '선미'] <--입구\n",
            "손님 이리로 : 화사\n",
            "손님 이리로 : 솔라\n",
            "출구<-- [None, None, '문별', '휘인', '선미'] <--입구\n",
            "출구<-- [None, '문별', '휘인', '선미', '재남'] <--입구\n",
            "출구<-- ['문별', '휘인', '선미', '재남', '정국'] <--입구\n",
            "큐가 꽉차서 추가 불가\n",
            "출구<-- ['문별', '휘인', '선미', '재남', '정국'] <--입구\n"
          ]
        }
      ]
    },
    {
      "cell_type": "markdown",
      "source": [
        "# 원형 큐"
      ],
      "metadata": {
        "id": "h0eX7iNXKWnj"
      }
    },
    {
      "cell_type": "code",
      "source": [
        "## 함수\n",
        "def isQueueFull():\n",
        "    global SIZE, queue, front, rear\n",
        "    if ((rear+1)%SIZE == front):\n",
        "        return True\n",
        "    else:\n",
        "        return False\n",
        "\n",
        "\n",
        "def enQueue(data):\n",
        "    global SIZE, queue, front, rear\n",
        "    if isQueueFull():\n",
        "        print('큐가 꽉차서 추가 불가')\n",
        "        return\n",
        "    rear = (rear+1)%SIZE\n",
        "    queue[rear] = data\n",
        "\n",
        "\n",
        "def deQueue():\n",
        "    global SIZE, queue, front, rear\n",
        "    if isQueueEmpty():\n",
        "        print('손님 없음!/큐가 빔')\n",
        "        return\n",
        "    front = (front+1)%SIZE\n",
        "    data = queue[front]\n",
        "    queue[front] = None\n",
        "    return data\n",
        "\n",
        "\n",
        "def peek():\n",
        "    global SIZE, queue, front, rear\n",
        "    if isQueueEmpty():\n",
        "        print('큐 없음')\n",
        "    return queue[(front+1)%SIZE]\n",
        "\n",
        "\n"
      ],
      "metadata": {
        "id": "vf9FQbH59nxS"
      },
      "execution_count": 33,
      "outputs": []
    },
    {
      "cell_type": "code",
      "source": [
        "## 변수\n",
        "SIZE = 5\n",
        "queue = [None for _ in range(SIZE)]\n",
        "front = rear = 0\n",
        "\n",
        "## 메인\n",
        "enQueue('화사')\n",
        "enQueue('솔라')\n",
        "enQueue('문별')\n",
        "enQueue('휘인')\n",
        "print('출구<--', queue, '<--입구')\n",
        "enQueue('선미')\n",
        "\n",
        "retData = deQueue()\n",
        "print('손님 이리로 :', retData)\n",
        "retData = deQueue()\n",
        "print('손님 이리로 :', retData)\n",
        "print('출구<--', queue, '<--입구')\n",
        "\n",
        "enQueue('재남')\n",
        "print('출구<--', queue, '<--입구')\n",
        "enQueue('정국')\n",
        "print('출구<--', queue, '<--입구')\n",
        "\n",
        "deQueue()\n",
        "print('출구<--', queue, '<--입구')\n",
        "deQueue()\n",
        "print('출구<--', queue, '<--입구')\n",
        "\n",
        "enQueue('민순')\n",
        "print('출구<--', queue, '<--입구')\n",
        "enQueue('민순2')\n",
        "print('출구<--', queue, '<--입구')\n",
        "enQueue('민순3')\n",
        "print('출구<--', queue, '<--입구')"
      ],
      "metadata": {
        "colab": {
          "base_uri": "https://localhost:8080/"
        },
        "id": "4wCjhRAHLEJa",
        "outputId": "328587e1-771b-446c-a189-f3f75f110f04"
      },
      "execution_count": 42,
      "outputs": [
        {
          "output_type": "stream",
          "name": "stdout",
          "text": [
            "출구<-- [None, '화사', '솔라', '문별', '휘인'] <--입구\n",
            "큐가 꽉차서 추가 불가\n",
            "손님 이리로 : 화사\n",
            "손님 이리로 : 솔라\n",
            "출구<-- [None, None, None, '문별', '휘인'] <--입구\n",
            "출구<-- ['재남', None, None, '문별', '휘인'] <--입구\n",
            "출구<-- ['재남', '정국', None, '문별', '휘인'] <--입구\n",
            "출구<-- ['재남', '정국', None, None, '휘인'] <--입구\n",
            "출구<-- ['재남', '정국', None, None, None] <--입구\n",
            "출구<-- ['재남', '정국', '민순', None, None] <--입구\n",
            "출구<-- ['재남', '정국', '민순', '민순2', None] <--입구\n",
            "큐가 꽉차서 추가 불가\n",
            "출구<-- ['재남', '정국', '민순', '민순2', None] <--입구\n"
          ]
        }
      ]
    },
    {
      "cell_type": "markdown",
      "source": [
        "# 이진 트리"
      ],
      "metadata": {
        "id": "uPiCM1jakYAE"
      }
    },
    {
      "cell_type": "code",
      "source": [
        "##함수\n",
        "class TreeNode():\n",
        "    def __init__(self):\n",
        "        self.left = None\n",
        "        self.data = None\n",
        "        self.right = None\n",
        "\n",
        "##변수\n",
        "\n",
        "##메인\n",
        "node1 = TreeNode()\n",
        "node1.data = '화사'\n",
        "\n",
        "node2 = TreeNode()\n",
        "node2.data = '솔라'\n",
        "node1.left = node2\n",
        "\n",
        "node3 = TreeNode()\n",
        "node3.data = '문별'\n",
        "node1.right = node3\n",
        "\n",
        "node4 = TreeNode()\n",
        "node4.data = '휘인'\n",
        "node2.left = node4\n",
        "\n",
        "node5 = TreeNode()\n",
        "node5.data = '쯔위'\n",
        "node2.right = node5\n",
        "\n",
        "node6 = TreeNode()\n",
        "node6.data = '선미'\n",
        "node3.left = node6\n",
        "\n",
        "# print(node1.data)\n",
        "# print(node2.data, node3. data)\n",
        "# print(node4.data, node5.data, node6.data)\n",
        "\n",
        "root = node1\n",
        "print(root.data)\n",
        "print(root.left.data, root.right.data)\n",
        "print(root.left.left.data, root.left.right.data, root.right.left.data)"
      ],
      "metadata": {
        "colab": {
          "base_uri": "https://localhost:8080/"
        },
        "id": "gWfkshozMjOh",
        "outputId": "0498e595-cc04-4539-f7e6-e393bb2bbc6f"
      },
      "execution_count": 45,
      "outputs": [
        {
          "output_type": "stream",
          "name": "stdout",
          "text": [
            "화사\n",
            "솔라 문별\n",
            "휘인 쯔위 선미\n"
          ]
        }
      ]
    },
    {
      "cell_type": "markdown",
      "source": [
        "# 그래프"
      ],
      "metadata": {
        "id": "S8Nuy-EWqRgR"
      }
    },
    {
      "cell_type": "code",
      "source": [
        "## 함수\n",
        "class Graph():\n",
        "    def __init__(self, size):\n",
        "        self.graph = [[0 for _ in range(size)] for _ in range(size)]\n",
        "\n",
        "\n",
        "## 변수\n",
        "G = None\n",
        "A, B, C, D = 0, 1, 2, 3\n",
        "\n",
        "\n",
        "## 메인\n",
        "G1 = Graph(4)\n",
        "\n",
        "G1.graph[A][B] = 1\n",
        "G1.graph[A][C] = 1\n",
        "G1.graph[A][D] = 1\n",
        "G1.graph[B][A] = 1\n",
        "G1.graph[B][C] = 1\n",
        "\n",
        "for row in range(4):\n",
        "    for col in range(4):\n",
        "        print(G1.graph[row][col], end=' ')\n",
        "    print()"
      ],
      "metadata": {
        "colab": {
          "base_uri": "https://localhost:8080/"
        },
        "id": "rt9x4HVXl8p-",
        "outputId": "cef3f732-8bb0-4393-8562-a86fa7bbe5b3"
      },
      "execution_count": 47,
      "outputs": [
        {
          "output_type": "stream",
          "name": "stdout",
          "text": [
            "0 1 1 1 \n",
            "1 0 1 0 \n",
            "0 0 0 0 \n",
            "0 0 0 0 \n"
          ]
        }
      ]
    },
    {
      "cell_type": "markdown",
      "source": [
        "# 알고리즘 - 정렬\n",
        "- 최댓값 찾기"
      ],
      "metadata": {
        "id": "BQxvmyAG_1Cm"
      }
    },
    {
      "cell_type": "code",
      "source": [
        "## 함수\n",
        "def findMinIndex(ary):\n",
        "    minIdx = 0\n",
        "    for i in range(1, len(ary)):\n",
        "        if ary[minIdx] > ary[i]:\n",
        "            minIdx = i\n",
        "    return minIdx\n",
        "\n",
        "\n",
        "## 변수\n",
        "testAry = [55, 77, 33, 77, 123, 11]\n",
        "\n",
        "\n",
        "## 메인\n",
        "minPos = findMinIndex(testAry)\n",
        "print('최솟값-->', testAry[minPos])"
      ],
      "metadata": {
        "colab": {
          "base_uri": "https://localhost:8080/"
        },
        "id": "9VawjOh6rBfo",
        "outputId": "26b87933-da03-424f-889e-b0db2e05a2f6"
      },
      "execution_count": 50,
      "outputs": [
        {
          "output_type": "stream",
          "name": "stdout",
          "text": [
            "최솟값--> 11\n"
          ]
        }
      ]
    },
    {
      "cell_type": "markdown",
      "source": [
        "- 정렬하기"
      ],
      "metadata": {
        "id": "svi3EwuvCUF5"
      }
    },
    {
      "cell_type": "code",
      "source": [
        "import random\n",
        "\n",
        "## 함수\n",
        "def findMinIndex(ary):\n",
        "    minIdx = 0\n",
        "    for i in range(1, len(ary)):\n",
        "        if ary[minIdx] > ary[i]:\n",
        "            minIdx = i\n",
        "    return minIdx\n",
        "\n",
        "## 변수\n",
        "import random\n",
        "before = [random.randint(30, 198) for _ in range(8)]\n",
        "after = []\n",
        "\n",
        "## 메인\n",
        "print('정렬전-->', before)\n",
        "for i in range(len(before)):\n",
        "    minPos = findMinIndex(before)       #최솟값 찾기\n",
        "    after.append(before[minPos])        #최솟값 리스트에 추가\n",
        "    del(before[minPos])\n",
        "print('정렬후-->', after)\n",
        "\n"
      ],
      "metadata": {
        "colab": {
          "base_uri": "https://localhost:8080/"
        },
        "id": "9ONDZRjfAqxy",
        "outputId": "05fab42e-b183-4e1c-efe1-bc7fe43cf08e"
      },
      "execution_count": 53,
      "outputs": [
        {
          "output_type": "stream",
          "name": "stdout",
          "text": [
            "정렬전--> [44, 94, 61, 157, 68, 138, 94, 156]\n",
            "정렬후--> [44, 61, 68, 94, 94, 138, 156, 157]\n"
          ]
        }
      ]
    },
    {
      "cell_type": "markdown",
      "source": [
        "- 정렬(더 좋은 방법)"
      ],
      "metadata": {
        "id": "DOdqf-bGEl3E"
      }
    },
    {
      "cell_type": "code",
      "source": [
        "## 함수\n",
        "import random\n",
        "def selectionSort(ary):\n",
        "    n = len(ary)\n",
        "    for i in range(0, n-1):\n",
        "        minIdx = i\n",
        "        for k in range(i+1, n):\n",
        "            if ary[minIdx] > ary[k] :\n",
        "                minIdx = k\n",
        "        ary[i], ary[minIdx] = ary[minIdx], ary[i]\n",
        "\n",
        "    return ary\n",
        "\n",
        "\n",
        "## 변수\n",
        "dataAry = [random.randint(30, 190) for _ in range(8)]\n",
        "\n",
        "\n",
        "\n",
        "## 메인\n",
        "print('정렬 전: ', dataAry)\n",
        "dataAry = selectionSort(dataAry)\n",
        "print('정렬 후: ', dataAry)\n"
      ],
      "metadata": {
        "colab": {
          "base_uri": "https://localhost:8080/"
        },
        "id": "yTDa3M2dD0Oq",
        "outputId": "6b1a984e-3864-4e5e-aa30-6ef860ed8a69"
      },
      "execution_count": 54,
      "outputs": [
        {
          "output_type": "stream",
          "name": "stdout",
          "text": [
            "정렬 전:  [153, 53, 164, 40, 153, 154, 159, 69]\n",
            "정렬 후:  [40, 53, 69, 153, 153, 154, 159, 164]\n"
          ]
        }
      ]
    },
    {
      "cell_type": "code",
      "source": [
        "def selectionSort(ary):\n",
        "    n = len(ary)\n",
        "    for i in range(0, n-1):\n",
        "        minIdx = i\n",
        "        for k in range(i+1, n):\n",
        "            if ary[minIdx] > ary[k] :\n",
        "                minIdx = k\n",
        "        ary[i] = ary[minIdx]\n",
        "        ary[minIdx] = ary[i]"
      ],
      "metadata": {
        "id": "39a_Dqd7GqRa"
      },
      "execution_count": null,
      "outputs": []
    },
    {
      "cell_type": "markdown",
      "source": [
        "# 순차 검색"
      ],
      "metadata": {
        "id": "sxriSZcBLxXS"
      }
    },
    {
      "cell_type": "code",
      "source": [
        "## 함수\n",
        "import random\n",
        "\n",
        "def seqSearch(ary, fData):\n",
        "    pos = -1\n",
        "    for i in range(len(ary)):\n",
        "        if (fData == ary[i]) :\n",
        "            pos = i\n",
        "            break\n",
        "    return pos\n",
        "\n",
        "## 변수\n",
        "dataAry = [random.randint(30, 190) for _ in range(8)]\n",
        "findData = random.choice(dataAry)\n",
        "\n",
        "## 메인\n",
        "print('배열-->', dataAry)\n",
        "position = seqSearch(dataAry, findData)\n",
        "\n",
        "if (position == -1):\n",
        "    print(f'{findData}가 없음.')\n",
        "else:\n",
        "    print(findData, '가', position, '위치에 있음')"
      ],
      "metadata": {
        "colab": {
          "base_uri": "https://localhost:8080/"
        },
        "id": "2WS1mlRXLyis",
        "outputId": "98bde555-a038-4bd0-d4c9-522650bbe6ac"
      },
      "execution_count": 57,
      "outputs": [
        {
          "output_type": "stream",
          "name": "stdout",
          "text": [
            "배열--> [126, 102, 120, 62, 147, 161, 180, 70]\n",
            "147 가 4 위치에 있음\n"
          ]
        }
      ]
    },
    {
      "cell_type": "markdown",
      "source": [
        "# 이진 검색"
      ],
      "metadata": {
        "id": "962iwr5eN_H8"
      }
    },
    {
      "cell_type": "code",
      "source": [
        "## 함수\n",
        "import random\n",
        "\n",
        "def binSearch(ary, fData):\n",
        "    pos = -1\n",
        "    start = 0\n",
        "    end = len(ary) - 1\n",
        "    while (start <= end) :\n",
        "        mid = (start+end) // 2\n",
        "        if (ary[mid] == fData):\n",
        "            pos = mid\n",
        "            break\n",
        "        elif (ary[mid] < fData):\n",
        "            start = mid + 1\n",
        "        else :\n",
        "            end = mid - 1\n",
        "    return pos\n",
        "\n",
        "## 변수\n",
        "dataAry = [random.randint(30, 190) for _ in range(10)]\n",
        "dataAry.sort()\n",
        "findData = random.choice(dataAry)\n",
        "\n",
        "## 메인\n",
        "print('배열-->', dataAry)\n",
        "position = binSearch(dataAry, findData)\n",
        "\n",
        "if (position == -1):\n",
        "    print(f'{findData}가 없음.')\n",
        "else:\n",
        "    print(findData, '가', position, '위치에 있음')"
      ],
      "metadata": {
        "colab": {
          "base_uri": "https://localhost:8080/"
        },
        "id": "aloDdqNDMyUT",
        "outputId": "f3b64c52-fed8-4472-b64e-eab5903c56cb"
      },
      "execution_count": 62,
      "outputs": [
        {
          "output_type": "stream",
          "name": "stdout",
          "text": [
            "배열--> [30, 34, 63, 92, 96, 118, 146, 159, 164, 190]\n",
            "63 가 2 위치에 있음\n"
          ]
        }
      ]
    },
    {
      "cell_type": "code",
      "source": [
        "def binSearch(ary, fData):\n",
        "    pos = -1\n",
        "    start, end = 0, len(ary)-1\n",
        "\n",
        "    while (start <= end) :\n",
        "        mid = (start + end) // 2\n",
        "        if ary[mid] == fData:\n",
        "            pos = mid\n",
        "            break\n",
        "        elif ary[mid] < fData:\n",
        "            start = mid + 1\n",
        "        else :\n",
        "            end = mid -1\n",
        "    return pos"
      ],
      "metadata": {
        "id": "GpasD4thRi3X"
      },
      "execution_count": null,
      "outputs": []
    },
    {
      "cell_type": "markdown",
      "source": [
        "# 재귀호출"
      ],
      "metadata": {
        "id": "E8wYQSS1X0-q"
      }
    },
    {
      "cell_type": "code",
      "source": [
        "## 함수\n",
        "def openBox():\n",
        "    global count\n",
        "    print('상자를 연다')\n",
        "    count -= 1\n",
        "    if (count == 0) :\n",
        "        print('**선물**')\n",
        "        return\n",
        "    openBox()\n",
        "    print('상자 닫기')\n",
        "\n",
        "## 메인\n",
        "count =3\n",
        "openBox()"
      ],
      "metadata": {
        "colab": {
          "base_uri": "https://localhost:8080/"
        },
        "id": "OF30uiihYC0O",
        "outputId": "594db0c7-06d9-46a2-d81d-924bd68cc357"
      },
      "execution_count": 67,
      "outputs": [
        {
          "output_type": "stream",
          "name": "stdout",
          "text": [
            "상자를 연다\n",
            "상자를 연다\n",
            "상자를 연다\n",
            "**선물**\n",
            "상자 닫기\n",
            "상자 닫기\n"
          ]
        }
      ]
    },
    {
      "cell_type": "code",
      "source": [
        "## 함수\n",
        "def addNumber(num):\n",
        "    if num == 1 :\n",
        "        return 1\n",
        "    return num + addNumber(num-1)\n",
        "\n",
        "\n",
        "## 메인\n",
        "print(addNumber(100))"
      ],
      "metadata": {
        "colab": {
          "base_uri": "https://localhost:8080/"
        },
        "id": "o4lGv_Z5Y2gF",
        "outputId": "09b32c67-2dfe-4104-f3dc-1ebd6d0dad29"
      },
      "execution_count": 69,
      "outputs": [
        {
          "output_type": "stream",
          "name": "stdout",
          "text": [
            "5050\n"
          ]
        }
      ]
    },
    {
      "cell_type": "code",
      "source": [
        "def countDown(n):\n",
        "    if n == 0:\n",
        "        print('발사!!!!')\n",
        "    else:\n",
        "        print(n)\n",
        "        countDown(n-1)\n",
        "\n",
        "countDown(5)"
      ],
      "metadata": {
        "colab": {
          "base_uri": "https://localhost:8080/"
        },
        "id": "9clWkvBeaLr1",
        "outputId": "4e28b787-efb8-47e3-d0fb-97e744056de2"
      },
      "execution_count": 70,
      "outputs": [
        {
          "output_type": "stream",
          "name": "stdout",
          "text": [
            "5\n",
            "4\n",
            "3\n",
            "2\n",
            "1\n",
            "발사!!!!\n"
          ]
        }
      ]
    },
    {
      "cell_type": "code",
      "source": [
        "def printStars(n):\n",
        "    if n > 0:\n",
        "        printStars(n-1)\n",
        "        print('*' * n)\n",
        "\n",
        "printStars(5)"
      ],
      "metadata": {
        "colab": {
          "base_uri": "https://localhost:8080/"
        },
        "id": "k3DJSV27bOdn",
        "outputId": "3900a215-2a44-4567-cb7c-8371a8f3d007"
      },
      "execution_count": 71,
      "outputs": [
        {
          "output_type": "stream",
          "name": "stdout",
          "text": [
            "*\n",
            "**\n",
            "***\n",
            "****\n",
            "*****\n"
          ]
        }
      ]
    }
  ]
}